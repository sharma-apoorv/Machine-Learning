{
 "cells": [
  {
   "cell_type": "markdown",
   "id": "qualified-original",
   "metadata": {},
   "source": [
    "# <center>Data Science Project Part 3:  Safety </center>\n",
    "<center>DATA 558, Spring 2021</center>\n",
    "<center>Instructor: Zaid Harchaoui</center>\n",
    "<center>TAs: Alec Greaves-Tunnell and Ronak Mehta</center>"
   ]
  },
  {
   "cell_type": "markdown",
   "id": "japanese-turtle",
   "metadata": {},
   "source": [
    "## Instructions\n",
    "\n",
    "Welcome to the final leg DATA 558 project! Let's begin with a brief reminder of the format: each week, you will receive a notebook containing a data analysis involving the Animals with Attributes 2 (AwA2) dataset. The notebook will claim to meet some statistical or machine learning criterion relevant to the week's lecture topic. Your goal is to investigate and critique this analysis.\n",
    "\n",
    "__Objective__: This notebook claims to implement a model for classification of the AwA2 animals that is safe and robust to distributional shift. There are no mistakes in the syntax; each cell runs and returns a plausible result. However, there can be several mistakes from a statistical and conceptual perspective. Working with your partner, you are expected to provide (1) a list of these mistakes and (2) a justification for why each item you list in (1) is a mistake. Justification can take many forms, including but not limited to a __detailed comment__, a __code example showing the problem__, or (perhaps simplest in some cases) a __direct fix of the code and demonstration that the problem is resolved__.\n",
    "\n",
    "\n",
    "__Deliverable__: Please submit to Gradescope __a copy of this notebook with your findings and comments__. Please use the cell below to summarize the mistakes you found. That is, for each mistake, write a (short) indication of what the mistake is and where you found it. For every item in this summary, you are expected to provide a matching justification in the notebook with the same label - e.g. for mistake `A`, include in the notebook a justification (again, this may be a comment, code block, etc.) at the location where this mistake is made, also labeled `A`."
   ]
  },
  {
   "cell_type": "markdown",
   "id": "helpful-implementation",
   "metadata": {},
   "source": [
    "#### Name: Apoorv Sharma\n",
    "#### Partner: Alyson Suchodolski\n",
    "#### Summary of findings:\n",
    "\n",
    "    A: X_val and y_val should be left as unshifted.\n",
    "\n",
    "    B: Bug in `subsample` function. We should be taking the minimum count of all classes, and then finding the proportion using this.\n",
    "    \n",
    "    C: Comparing the safe and unsafe logistic regression models\n",
    "    \n",
    "    D: Data needs to be normalized before performing PCA\n",
    "    \n",
    "    E: Accuray is not 100% after bug-fixes"
   ]
  },
  {
   "cell_type": "code",
   "execution_count": 96,
   "id": "different-cornwall",
   "metadata": {},
   "outputs": [],
   "source": [
    "import numpy as np\n",
    "import matplotlib.pyplot as plt"
   ]
  },
  {
   "cell_type": "markdown",
   "id": "fatty-video",
   "metadata": {},
   "source": [
    "We use a featurized version of the AwA2 dataset, where inputs are vectorized images, and outputs are labels. The problem is reduced to binary labels, classifying between one of two animals. We apply a simulated \"shift\" in distribution by resampling the classes to be of a different proportion. Then, we can check whether our trained model performs well on both the shifted and unshifted dataset. "
   ]
  },
  {
   "cell_type": "markdown",
   "id": "d07f8ca3",
   "metadata": {},
   "source": [
    "## Finding B\n",
    "\n",
    "We should be finding the minimum count of all the classes and then multiplying this by the proportion, rather than multiplying the proportion by the size of that class"
   ]
  },
  {
   "cell_type": "code",
   "execution_count": 97,
   "id": "pregnant-balance",
   "metadata": {},
   "outputs": [],
   "source": [
    "def subsample(X, y, proportions):\n",
    "    \"\"\"\n",
    "    proportions is a numpy array of length n_classes, specifying the proportion of each class to remain.\n",
    "    \"\"\"\n",
    "    classes, counts = np.unique(y, return_counts=True)\n",
    "    max_size = np.min(counts)\n",
    "    n = len(y)\n",
    "    X_sub = []\n",
    "    y_sub = []\n",
    "    \n",
    "    for i, class_ in enumerate(classes):\n",
    "        class_idx = np.arange(n)[y == class_]\n",
    "        # n_class = int(proportions[i] * len(class_idx)) # Finding B -- Mistake\n",
    "        n_class = int(proportions[i] * max_size) #Finding B -- Bug Fix\n",
    "        if n_class > 0:\n",
    "            idx = np.random.choice(class_idx, n_class, replace=False)\n",
    "            X_sub.append(X[idx])\n",
    "            y_sub.append(y[idx])\n",
    "    \n",
    "    x_new, y_new = np.concatenate(X_sub), np.concatenate(y_sub)\n",
    "    \n",
    "    # Shuffle the arrays\n",
    "    shuffler = np.random.permutation(len(x_new))\n",
    "    x_new_shuffled = x_new[shuffler]\n",
    "    y_new_shuffled = y_new[shuffler]\n",
    "        \n",
    "    return x_new_shuffled, y_new_shuffled"
   ]
  },
  {
   "cell_type": "code",
   "execution_count": 98,
   "id": "d1724d7c",
   "metadata": {},
   "outputs": [],
   "source": [
    "X_train_bin = np.load(\"X_train_bin.npy\")\n",
    "X_val_bin = np.load(\"X_val_bin.npy\")\n",
    "y_train_bin = np.load(\"y_train_bin.npy\")\n",
    "y_val_bin = np.load(\"y_val_bin.npy\")"
   ]
  },
  {
   "cell_type": "code",
   "execution_count": 99,
   "id": "0062ad0a",
   "metadata": {},
   "outputs": [
    {
     "name": "stdout",
     "output_type": "stream",
     "text": [
      "X_train shape: (1811, 1126)\n",
      "X_val_bin shape: (466, 1126)\n"
     ]
    }
   ],
   "source": [
    "print(f'X_train shape: {X_train_bin.shape}')\n",
    "print(f'X_val_bin shape: {X_val_bin.shape}')"
   ]
  },
  {
   "cell_type": "code",
   "execution_count": 100,
   "id": "d6e7a071",
   "metadata": {},
   "outputs": [
    {
     "name": "stdout",
     "output_type": "stream",
     "text": [
      "y_train_bin: Classes\" [0 1], Counts: [1035  776]\n",
      "y_val_bin: Classes\" [0 1], Counts: [268 198]\n"
     ]
    }
   ],
   "source": [
    "classes, counts = np.unique(y_train_bin, return_counts=True)\n",
    "print(f'y_train_bin: Classes\" {classes}, Counts: {counts}')\n",
    "\n",
    "classes, counts = np.unique(y_val_bin, return_counts=True)\n",
    "print(f'y_val_bin: Classes\" {classes}, Counts: {counts}')"
   ]
  },
  {
   "cell_type": "markdown",
   "id": "bfaaa15e",
   "metadata": {},
   "source": [
    "## Finding D\n",
    "\n",
    "We need to normalize the X values before we perform PCA on them.\n",
    "\n",
    "PCA calculates a new projection of the data set. Since the new axis is based on the std dev, a variable with high std dev will have a higher weight. Thus normalizing all samples will allow the features to have the same std dev, thus all variables have the same weight and PCA will calculate relevant axis."
   ]
  },
  {
   "cell_type": "code",
   "execution_count": 101,
   "id": "4cc43921",
   "metadata": {},
   "outputs": [],
   "source": [
    "from sklearn.preprocessing import normalize, StandardScaler\n",
    "X_train_bin = normalize(X_train_bin, axis=0)\n",
    "X_val_bin = normalize(X_val_bin, axis=0)\n",
    "\n",
    "# scaler = StandardScaler().fit(X_train_bin)\n",
    "# X_train_bin = scaler.transform(X_train_bin)\n",
    "# X_val_bin = scaler.transform(X_val_bin)"
   ]
  },
  {
   "cell_type": "code",
   "execution_count": 102,
   "id": "ab140c01",
   "metadata": {},
   "outputs": [
    {
     "data": {
      "text/plain": [
       "array([[-0.0063071 ,  0.05294942, -0.03381288, ..., -0.02026196,\n",
       "         0.01745847, -0.01357387],\n",
       "       [-0.00118385, -0.00446584, -0.00796123, ...,  0.00754735,\n",
       "         0.05896901,  0.02127566],\n",
       "       [-0.00450652,  0.01490339, -0.02278596, ...,  0.01215168,\n",
       "         0.00960716, -0.0086876 ],\n",
       "       ...,\n",
       "       [-0.02138114,  0.00060919, -0.02562518, ...,  0.01128563,\n",
       "        -0.00261714, -0.00395759],\n",
       "       [ 0.00449711,  0.01989891, -0.02115538, ..., -0.03156998,\n",
       "        -0.0206712 , -0.00067584],\n",
       "       [-0.01403798,  0.01101818, -0.02319064, ...,  0.03875886,\n",
       "         0.01112015, -0.01114064]])"
      ]
     },
     "execution_count": 102,
     "metadata": {},
     "output_type": "execute_result"
    }
   ],
   "source": [
    "X_train_bin"
   ]
  },
  {
   "cell_type": "code",
   "execution_count": 103,
   "id": "37d40126",
   "metadata": {},
   "outputs": [
    {
     "data": {
      "text/plain": [
       "0.017334828054012232"
      ]
     },
     "execution_count": 103,
     "metadata": {},
     "output_type": "execute_result"
    }
   ],
   "source": [
    "# np.linalg.norm(X_train_bin[:, 1])\n",
    "np.mean(X_train_bin[:, 1])\n",
    "np.std(X_train_bin[:, 1])"
   ]
  },
  {
   "cell_type": "markdown",
   "id": "fae0705f",
   "metadata": {},
   "source": [
    "## Finding A\n",
    "\n",
    "We should leave `X_val` and `y_val` as unshifted. This will allow us to actually compare the unshifted and shifted validation testsets.\n",
    "\n",
    "Moreover, we take a slightly more extreme shif in `X_train` and `y_train` to show that the model is not safe."
   ]
  },
  {
   "cell_type": "code",
   "execution_count": 104,
   "id": "permanent-danish",
   "metadata": {
    "scrolled": true
   },
   "outputs": [
    {
     "name": "stdout",
     "output_type": "stream",
     "text": [
      "0.901 percent of variance explained by 440/1126 dimensions.\n"
     ]
    }
   ],
   "source": [
    "from sklearn.decomposition import PCA\n",
    "\n",
    "# Shuffle the arrays\n",
    "shuffler = np.random.permutation(len(X_train_bin))\n",
    "X_train_bin = X_train_bin[shuffler]\n",
    "y_train_bin = y_train_bin[shuffler]\n",
    "\n",
    "shuffler = np.random.permutation(len(X_val_bin))\n",
    "X_val_bin = X_val_bin[shuffler]\n",
    "y_val_bin = y_val_bin[shuffler]\n",
    "\n",
    "# Apply shifts.\n",
    "np.random.seed(123)\n",
    "\n",
    "# Finding A -- We should leave X_val as unshifted\n",
    "# X_train, y_train = subsample(X_train_bin, y_train_bin, [0.7, 0.3]) # Why sample X_train_bin as well ??\n",
    "# X_val, y_val = subsample(X_val_bin, y_val_bin, [0.7, 0.3])\n",
    "# # X_val_shift, y_val_shift = subsample(X_val_bin, y_val_bin, [0.5, 0.5]) # Why is this different ??\n",
    "# X_val_shift, y_val_shift = subsample(X_val_bin, y_val_bin, [0.1, 0.9]) # Why is this different ??\n",
    "\n",
    "# Finding A -- correction, we leave X_val as unshifted\n",
    "X_train, y_train = subsample(X_train_bin, y_train_bin, [0.8, 0.2])\n",
    "# X_train, y_train = X_train_bin, y_train_bin\n",
    "X_val, y_val = X_val_bin, y_val_bin\n",
    "X_val_shift, y_val_shift = subsample(X_val_bin, y_val_bin, [0.1, 0.9])\n",
    "\n",
    "# Apply PCA.\n",
    "pca = PCA().fit(X_train, y_train)\n",
    "# pca = PCA().fit(X_train_bin, y_train_bin)\n",
    "\n",
    "# Check for PCA -- comparison\n",
    "cumulative = 0\n",
    "for i, var in enumerate(pca.explained_variance_ratio_):\n",
    "    cumulative += var\n",
    "    if cumulative > 0.90:\n",
    "        print(\n",
    "            \"%0.3f percent of variance explained by %d/%d dimensions.\"\n",
    "            % (cumulative, i, X_train.shape[1])\n",
    "        )\n",
    "        n_components = i\n",
    "        break\n",
    "        \n",
    "pca = PCA(n_components=n_components).fit(X_train)\n",
    "X_train = pca.transform(X_train)\n",
    "X_val = pca.transform(X_val)\n",
    "X_val_shift = pca.transform(X_val_shift)\n",
    "\n",
    "n_classes = len(np.unique(y_train))"
   ]
  },
  {
   "cell_type": "code",
   "execution_count": 105,
   "id": "continent-angel",
   "metadata": {},
   "outputs": [],
   "source": [
    "def counts(y, freq=False):\n",
    "    classes = np.arange(n_classes)\n",
    "    ret = np.array([len(y[y==class_]) for class_ in classes])\n",
    "    if freq:\n",
    "        return ret / ret.sum()\n",
    "    return ret\n",
    "\n",
    "def plot_class_hist(y_train, y_val):\n",
    "\n",
    "    x = np.arange(len(np.unique(y_train)))\n",
    "    y1 = counts(y_train, freq=True)\n",
    "    y2 = counts(y_val, freq=True)\n",
    "#     y3 = counts(y_test, freq=True)\n",
    "\n",
    "    fig, ax = plt.subplots(figsize=(7,5))\n",
    "    width = 0.25\n",
    "    ax.bar(x-width, y1, edgecolor=\"k\", width=width, color='mediumturquoise', align='center', label=\"train\")\n",
    "    ax.bar(x, y2, edgecolor=\"k\", width=width, color='gold', align='center', label=\"val\")\n",
    "    # ax.bar(x+width, y3, edgecolor=\"k\", width=width, color='red', align='center', label=\"test\")\n",
    "    ax.set_xticks([0, 1])\n",
    "    ax.set_xticklabels([\"Class 0\", \"Class 1\"])\n",
    "    plt.legend(loc=\"upper right\")\n",
    "\n",
    "    plt.show()"
   ]
  },
  {
   "cell_type": "code",
   "execution_count": 106,
   "id": "happy-river",
   "metadata": {},
   "outputs": [
    {
     "data": {
      "image/png": "[encoded data removed]",
      "text/plain": [
       "<Figure size 504x360 with 1 Axes>"
      ]
     },
     "metadata": {
      "needs_background": "light"
     },
     "output_type": "display_data"
    }
   ],
   "source": [
    "plot_class_hist(y_train, y_val)"
   ]
  },
  {
   "cell_type": "code",
   "execution_count": 107,
   "id": "smaller-scottish",
   "metadata": {},
   "outputs": [
    {
     "data": {
      "image/png": "[encoded data removed]",
      "text/plain": [
       "<Figure size 504x360 with 1 Axes>"
      ]
     },
     "metadata": {
      "needs_background": "light"
     },
     "output_type": "display_data"
    }
   ],
   "source": [
    "plot_class_hist(y_train, y_val_shift)"
   ]
  },
  {
   "cell_type": "code",
   "execution_count": 108,
   "id": "stuffed-milton",
   "metadata": {},
   "outputs": [],
   "source": [
    "from sklearn.linear_model import LogisticRegression\n",
    "\n",
    "lr = LogisticRegression(solver=\"liblinear\", max_iter=300).fit(X_train, y_train)"
   ]
  },
  {
   "cell_type": "markdown",
   "id": "traditional-collector",
   "metadata": {},
   "source": [
    "As seen below, the classifier maintains accuracy on the shifted validation set, even though the probabilities of each class have shifted significantly. In fact, this classifier does not even have to trade robustness for accuracy, as its accuracy is $100\\%$ on both validation sets!"
   ]
  },
  {
   "cell_type": "markdown",
   "id": "13b0bca9",
   "metadata": {},
   "source": [
    "## Finding E\n",
    "\n",
    "Now that we have applied the bug-fixes, we see that the accuray is not 100%. Moreover, we also see that the model is not safe/robust. The accuracy of the shifted validation set is much lower compared to the accuracy of the unshifted validation set."
   ]
  },
  {
   "cell_type": "code",
   "execution_count": 109,
   "id": "advised-watch",
   "metadata": {},
   "outputs": [
    {
     "name": "stdout",
     "output_type": "stream",
     "text": [
      "Accuracy: 0.8776824034334764\n",
      "Shifted Accuracy: 0.7614213197969543\n"
     ]
    }
   ],
   "source": [
    "from sklearn.metrics import accuracy_score, precision_score, roc_curve, auc\n",
    "\n",
    "print(\"Accuracy:\", accuracy_score(y_val, lr.predict(X_val)))\n",
    "print(\"Shifted Accuracy:\", accuracy_score(y_val_shift, lr.predict(X_val_shift)))"
   ]
  },
  {
   "cell_type": "code",
   "execution_count": 110,
   "id": "7862faa6",
   "metadata": {},
   "outputs": [
    {
     "name": "stdout",
     "output_type": "stream",
     "text": [
      "Precision: 1.0\n",
      "Shifted Precision: 1.0\n"
     ]
    }
   ],
   "source": [
    "print(\"Precision:\", precision_score(y_val, lr.predict(X_val)))\n",
    "print(\"Shifted Precision:\", precision_score(y_val_shift, lr.predict(X_val_shift)))"
   ]
  },
  {
   "cell_type": "markdown",
   "id": "2815aac9",
   "metadata": {},
   "source": [
    "## Finding C\n",
    "\n",
    "We now create a more robust model using the `DRLogisticRegression` class found in the `SPQR` library.\n",
    "\n",
    "Clearly, using this safer model, we can see that the accuracy values are much higher compared to the simple Logistic Regression model that was given above."
   ]
  },
  {
   "cell_type": "code",
   "execution_count": 111,
   "id": "d921f953",
   "metadata": {},
   "outputs": [
    {
     "name": "stdout",
     "output_type": "stream",
     "text": [
      "DRLogisticRegression outputs:\n",
      "Train accuracy score : 1.000\n",
      "Train precision score : 1.000\n",
      "\n",
      "Test accuracy score : 0.974\n",
      "Test precision score : 0.943\n",
      "\n",
      "Test accuracy score (shifted) : 1.000\n",
      "Test precision score (shifted) : 1.000\n"
     ]
    }
   ],
   "source": [
    "from spqr import DRLogisticRegression\n",
    "# from spqr.measures import quantile, superquantile\n",
    "\n",
    "super_clf = DRLogisticRegression(p=0.8, fit_intercept=False)\n",
    "super_clf.fit(X_train, y_train) # TODO: let fit return the classifier\n",
    "\n",
    "y_hat_tr = super_clf.predict(X_train)\n",
    "y_hat_val = super_clf.predict(X_val)\n",
    "y_hat_val_shift = super_clf.predict(X_val_shift)\n",
    "\n",
    "print(\"DRLogisticRegression outputs:\")\n",
    "print(\"Train accuracy score : {acc:.3f}\".format(acc=accuracy_score(y_train, y_hat_tr)))\n",
    "print(\"Train precision score : {acc:.3f}\".format(acc=precision_score(y_train, y_hat_tr)))\n",
    "print()\n",
    "print(\"Test accuracy score : {acc:.3f}\".format(acc=accuracy_score(y_val, y_hat_val)))\n",
    "print(\"Test precision score : {acc:.3f}\".format(acc=precision_score(y_val, y_hat_val)))\n",
    "print()\n",
    "print(\"Test accuracy score (shifted) : {acc:.3f}\".format(acc=accuracy_score(y_val_shift, y_hat_val_shift)))\n",
    "print(\"Test precision score (shifted) : {acc:.3f}\".format(acc=precision_score(y_val_shift, y_hat_val_shift)))"
   ]
  },
  {
   "cell_type": "markdown",
   "id": "1a1a4e7a",
   "metadata": {},
   "source": [
    "## Finding C (cont.)\n",
    "\n",
    "We now compare the accuracy values for the new safer model and older model, by varying the sample proportion in the output classes. \n",
    "\n",
    "The super-quantile logistic regression model maintains a high accuracy through all values of the sample proportions. In contrast, the simple logistic regression model, has a drastic change in accuracy as the shift proportion changes. \n",
    "\n",
    "**Thus, we can conclude that the simple logistic regression is an unsafe model**"
   ]
  },
  {
   "cell_type": "code",
   "execution_count": 112,
   "id": "557b7d75",
   "metadata": {},
   "outputs": [],
   "source": [
    "from course_utils import get_data_class\n",
    "def shift(x, y, new_proportion, seed=123):\n",
    "    generator = np.random.default_rng(seed)\n",
    "    classes, counts = np.unique(y, return_counts=True)\n",
    "    max_size = np.min(counts)\n",
    "    \n",
    "    x_0, y_0 = get_data_class(x, y, 0)\n",
    "    x_1, y_1 = get_data_class(x, y, 1)\n",
    "    subsampled_index_0 = generator.choice(np.arange(x_0.shape[0]), size=np.ceil(new_proportion * max_size).astype(np.int64),\n",
    "                                          replace=False)\n",
    "    subsampled_index_1 = generator.choice(np.arange(x_1.shape[0]), size=np.ceil((1.0-new_proportion) * max_size).astype(np.int64),\n",
    "                                          replace=False)\n",
    "    x_0 = x_0[subsampled_index_0]\n",
    "    y_0 = y_0[subsampled_index_0]\n",
    "    x_1 = x_1[subsampled_index_1]\n",
    "    y_1 = y_1[subsampled_index_1]\n",
    "    \n",
    "    new_x = np.concatenate([x_0, x_1])\n",
    "    new_y = np.concatenate([y_0, y_1])\n",
    "\n",
    "    shuffled_index = generator.permutation(np.arange(new_x.shape[0]))\n",
    "    new_x = new_x[shuffled_index]\n",
    "    new_y = new_y[shuffled_index]\n",
    "\n",
    "    return new_x, new_y"
   ]
  },
  {
   "cell_type": "code",
   "execution_count": 113,
   "id": "221141bc",
   "metadata": {},
   "outputs": [
    {
     "name": "stderr",
     "output_type": "stream",
     "text": [
      "/home/avsharma/anaconda3/envs/DATA558/lib/python3.7/site-packages/sklearn/metrics/_classification.py:1245: UndefinedMetricWarning: Precision is ill-defined and being set to 0.0 due to no predicted samples. Use `zero_division` parameter to control this behavior.\n",
      "  _warn_prf(average, modifier, msg_start, len(result))\n"
     ]
    },
    {
     "data": {
      "image/png": "[encoded data removed]",
      "text/plain": [
       "<Figure size 1152x432 with 2 Axes>"
      ]
     },
     "metadata": {
      "needs_background": "light"
     },
     "output_type": "display_data"
    }
   ],
   "source": [
    "lst_prop = list(np.linspace(0.0,1.0, num=100))\n",
    "lst_prop = list(map(lambda x: [1-x, x], lst_prop))\n",
    "\n",
    "lst_accuracy = []\n",
    "lst_min_accuracy = []\n",
    "lst_max_accuracy = []\n",
    "\n",
    "lst_precision = []\n",
    "lst_min_precision = []\n",
    "lst_max_precision = []\n",
    "\n",
    "lst_accuracy2 = []\n",
    "lst_min_accuracy2 = []\n",
    "lst_max_accuracy2 = []\n",
    "\n",
    "lst_precision2 = []\n",
    "lst_min_precision2 = []\n",
    "lst_max_precision2 = []\n",
    "\n",
    "for prop in lst_prop:\n",
    "    temp_acc = []\n",
    "    temp_prec = []\n",
    "    \n",
    "    temp_acc2 = []\n",
    "    temp_prec2 = []\n",
    "    \n",
    "    shifted_x, shifted_y = subsample(X_val, y_val, prop)\n",
    "    y_hat = lr.predict(shifted_x)\n",
    "    y_hat2 = super_clf.predict(shifted_x)\n",
    "    temp_acc.append(accuracy_score(shifted_y, y_hat))\n",
    "    temp_prec.append(precision_score(shifted_y, y_hat))\n",
    "    temp_acc2.append(accuracy_score(shifted_y, y_hat2))\n",
    "    temp_prec2.append(precision_score(shifted_y, y_hat2))\n",
    "\n",
    "    max_acc = np.mean(temp_acc) + np.std(temp_acc)\n",
    "    min_acc = np.mean(temp_acc) - np.std(temp_acc)\n",
    "    mean_acc = np.mean(temp_acc)\n",
    "    max_prec = np.mean(temp_prec) + np.std(temp_prec)\n",
    "    min_prec = np.mean(temp_prec) - np.std(temp_prec)\n",
    "    mean_prec = np.mean(temp_prec)\n",
    "    \n",
    "\n",
    "    max_acc2 = np.mean(temp_acc2) + np.std(temp_acc2)\n",
    "    min_acc2 = np.mean(temp_acc2) - np.std(temp_acc2)\n",
    "    mean_acc2 = np.mean(temp_acc2)\n",
    "    max_prec2 = np.mean(temp_prec2) + np.std(temp_prec2)\n",
    "    min_prec2 = np.mean(temp_prec2) - np.std(temp_prec2)\n",
    "    mean_prec2 = np.mean(temp_prec2)\n",
    "    \n",
    "    lst_accuracy.append(mean_acc)\n",
    "    lst_min_accuracy.append(min_acc)\n",
    "    lst_max_accuracy.append(max_acc)\n",
    "    lst_precision.append(mean_prec)\n",
    "    lst_min_precision.append(min_prec)\n",
    "    lst_max_precision.append(max_prec)\n",
    "    \n",
    "    lst_accuracy2.append(mean_acc2)\n",
    "    lst_min_accuracy2.append(min_acc2)\n",
    "    lst_max_accuracy2.append(max_acc2)\n",
    "    lst_precision2.append(mean_prec2)\n",
    "    lst_min_precision2.append(min_prec2)\n",
    "    lst_max_precision2.append(max_prec2)\n",
    "    \n",
    "fig, axes = plt.subplots(1, 2, figsize = (16, 6))\n",
    "\n",
    "graph1 = axes[0]\n",
    "graph1.title.set_text('Accuracies')\n",
    "graph1.plot([x for x,y in lst_prop], lst_accuracy, color = \"g\", alpha=1.0, label='Logistic Regression')\n",
    "graph1.plot([x for x,y in lst_prop], lst_accuracy2, color = \"r\", alpha=1.0, label='Superquantile Logistic Regression')\n",
    "graph1.fill_between([x for x,y in lst_prop], lst_min_accuracy, lst_max_accuracy, color = \"g\", alpha=0.3)\n",
    "graph1.fill_between([x for x,y in lst_prop], lst_min_accuracy2, lst_max_accuracy2, color = \"r\", alpha=0.3)\n",
    "graph1.set_xlabel('shift proportion', fontsize=12)\n",
    "graph1.legend()\n",
    "\n",
    "graph2 = axes[1]\n",
    "graph2.title.set_text('Precision')\n",
    "graph2.plot([x for x,y in lst_prop], lst_precision, color = \"g\",  alpha=1.0, label='Logistic Regression')\n",
    "graph2.plot([x for x,y in lst_prop], lst_precision2, color = \"r\",  alpha=1.0, label='Superquantile Logistic Regression')\n",
    "graph2.fill_between([x for x,y in lst_prop], lst_min_precision, lst_max_precision, color = \"g\", alpha=0.3)\n",
    "graph2.fill_between([x for x,y in lst_prop], lst_min_precision2, lst_max_precision2, color = \"r\", alpha=0.3)\n",
    "graph2.set_xlabel('shift proportion', fontsize=12)\n",
    "graph2.legend()\n",
    "\n",
    "plt.show()"
   ]
  }
 ],
 "metadata": {
  "kernelspec": {
   "display_name": "Python 3",
   "language": "python",
   "name": "python3"
  },
  "language_info": {
   "codemirror_mode": {
    "name": "ipython",
    "version": 3
   },
   "file_extension": ".py",
   "mimetype": "text/x-python",
   "name": "python",
   "nbconvert_exporter": "python",
   "pygments_lexer": "ipython3",
   "version": "3.7.10"
  }
 },
 "nbformat": 4,
 "nbformat_minor": 5
}
