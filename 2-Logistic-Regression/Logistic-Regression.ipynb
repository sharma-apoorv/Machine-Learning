{
 "cells": [
  {
   "cell_type": "markdown",
   "metadata": {},
   "source": [
    "# <center>Logistic Regression</center>\n",
    "<center>DATA 558, Spring 2021</center>\n",
    "<center>Author: Apoorv Sharma</center>"
   ]
  },
  {
   "cell_type": "markdown",
   "metadata": {},
   "source": [
    "#### 2a\n",
    "\n",
    "$$\n",
    "F(\\beta) = log(1 + exp(-yx\\beta)) + \\lambda \\beta^2\n",
    "$$\n",
    "\n",
    "$$\n",
    "\\frac{d}{d \\beta} F(\\beta) = (1 + exp(-yx\\beta))^{-1} \\cdot exp(-yx\\beta) \\cdot (-yx) + 2 \\lambda \\beta\n",
    "$$\n",
    "\n",
    "$$\n",
    "= -yx \\frac{exp(-yx\\beta)}{1 + exp(-yx\\beta)} + 2\\lambda \\beta\n",
    "$$"
   ]
  },
  {
   "cell_type": "markdown",
   "metadata": {},
   "source": [
    "#### 2b\n",
    "\n",
    "$$\n",
    "F(\\beta) = \\frac{1}{n} \\sum _{i=1}^n log(1+exp(-y_i x_i^T \\beta)) + \\lambda\\mid\\mid\\beta\\mid\\mid _2^2\n",
    "$$\n",
    "\n",
    "$$\n",
    "F(\\beta) = f(\\beta) + g(\\beta)\n",
    "$$\n",
    "\n",
    "$$\n",
    "\\therefore \\frac{d}{d \\beta} F(\\beta) = \\frac{d}{d \\beta} f(\\beta) + \\frac{d}{d \\beta} g(\\beta)\n",
    "$$\n",
    "\n",
    "where \n",
    "\n",
    "$$f(\\beta) = \\frac{1}{n} \\sum _{i=1}^n log(1+exp(-y_i x_i^T \\beta))$$ \n",
    "\n",
    "and \n",
    "\n",
    "$$g(\\beta) = \\lambda\\mid\\mid\\beta\\mid\\mid _2^2$$\n",
    "\n",
    "Thus, \n",
    "\n",
    "$$\n",
    "\\frac{d}{d \\beta} f(\\beta) = \\sum _{i=1}^n -y_ix_i \\frac{exp(-y_ix^T_i\\beta)}{1 + exp(-y_ix^T_i\\beta)}\n",
    "$$\n",
    "\n",
    "and \n",
    "\n",
    "$$\n",
    "\\frac{d}{d \\beta} g(\\beta) = 2 \\lambda \\beta\n",
    "$$\n",
    "\n",
    "Hence\n",
    "$$\n",
    "\\therefore \\frac{d}{d \\beta} F(\\beta) = \\sum _{i=1}^n -y_ix_i \\frac{exp(-y_ix^T_i\\beta)}{1 + exp(-y_ix^T_i\\beta)} + 2 \\lambda \\beta\n",
    "$$"
   ]
  },
  {
   "cell_type": "markdown",
   "metadata": {},
   "source": [
    "#### 2c\n",
    "\n",
    "This dataset contains trading information for the S&P 500 over 1250 days from 2001 to 2005. For each date we have the percent return from the previous 5 days (the Lag features), the volume of shares traded (in billions), the percent return on the date itself (Today), and whether the market moved up or down (Direction). We will apply our gradient descent and fast gradient descent algorithms to fit a logistic regression model for the binary outcome Direction based on the features Lag1, Lag2, and Volume."
   ]
  },
  {
   "cell_type": "code",
   "execution_count": 448,
   "metadata": {},
   "outputs": [],
   "source": [
    "import pandas as pd\n",
    "import numpy as np\n",
    "\n",
    "from sklearn.model_selection import train_test_split\n",
    "from sklearn import preprocessing\n",
    "from sklearn.linear_model import LogisticRegression\n",
    "from sklearn.linear_model import LogisticRegressionCV\n",
    "\n",
    "import matplotlib.pyplot as plt\n",
    "from tqdm import tqdm"
   ]
  },
  {
   "cell_type": "code",
   "execution_count": 449,
   "metadata": {},
   "outputs": [],
   "source": [
    "file = 'https://raw.githubusercontent.com/JWarmenhoven/ISLR-python/master/Notebooks/Data/Smarket.csv' \n",
    "smarket = pd.read_csv(file, sep=',', header=0, index_col=0)"
   ]
  },
  {
   "cell_type": "code",
   "execution_count": 450,
   "metadata": {},
   "outputs": [
    {
     "data": {
      "text/html": [
       "<div>\n",
       "<style scoped>\n",
       "    .dataframe tbody tr th:only-of-type {\n",
       "        vertical-align: middle;\n",
       "    }\n",
       "\n",
       "    .dataframe tbody tr th {\n",
       "        vertical-align: top;\n",
       "    }\n",
       "\n",
       "    .dataframe thead th {\n",
       "        text-align: right;\n",
       "    }\n",
       "</style>\n",
       "<table border=\"1\" class=\"dataframe\">\n",
       "  <thead>\n",
       "    <tr style=\"text-align: right;\">\n",
       "      <th></th>\n",
       "      <th>Year</th>\n",
       "      <th>Lag1</th>\n",
       "      <th>Lag2</th>\n",
       "      <th>Lag3</th>\n",
       "      <th>Lag4</th>\n",
       "      <th>Lag5</th>\n",
       "      <th>Volume</th>\n",
       "      <th>Today</th>\n",
       "      <th>Direction</th>\n",
       "    </tr>\n",
       "  </thead>\n",
       "  <tbody>\n",
       "    <tr>\n",
       "      <th>1</th>\n",
       "      <td>2001</td>\n",
       "      <td>0.381</td>\n",
       "      <td>-0.192</td>\n",
       "      <td>-2.624</td>\n",
       "      <td>-1.055</td>\n",
       "      <td>5.010</td>\n",
       "      <td>1.1913</td>\n",
       "      <td>0.959</td>\n",
       "      <td>Up</td>\n",
       "    </tr>\n",
       "    <tr>\n",
       "      <th>2</th>\n",
       "      <td>2001</td>\n",
       "      <td>0.959</td>\n",
       "      <td>0.381</td>\n",
       "      <td>-0.192</td>\n",
       "      <td>-2.624</td>\n",
       "      <td>-1.055</td>\n",
       "      <td>1.2965</td>\n",
       "      <td>1.032</td>\n",
       "      <td>Up</td>\n",
       "    </tr>\n",
       "    <tr>\n",
       "      <th>3</th>\n",
       "      <td>2001</td>\n",
       "      <td>1.032</td>\n",
       "      <td>0.959</td>\n",
       "      <td>0.381</td>\n",
       "      <td>-0.192</td>\n",
       "      <td>-2.624</td>\n",
       "      <td>1.4112</td>\n",
       "      <td>-0.623</td>\n",
       "      <td>Down</td>\n",
       "    </tr>\n",
       "    <tr>\n",
       "      <th>4</th>\n",
       "      <td>2001</td>\n",
       "      <td>-0.623</td>\n",
       "      <td>1.032</td>\n",
       "      <td>0.959</td>\n",
       "      <td>0.381</td>\n",
       "      <td>-0.192</td>\n",
       "      <td>1.2760</td>\n",
       "      <td>0.614</td>\n",
       "      <td>Up</td>\n",
       "    </tr>\n",
       "    <tr>\n",
       "      <th>5</th>\n",
       "      <td>2001</td>\n",
       "      <td>0.614</td>\n",
       "      <td>-0.623</td>\n",
       "      <td>1.032</td>\n",
       "      <td>0.959</td>\n",
       "      <td>0.381</td>\n",
       "      <td>1.2057</td>\n",
       "      <td>0.213</td>\n",
       "      <td>Up</td>\n",
       "    </tr>\n",
       "  </tbody>\n",
       "</table>\n",
       "</div>"
      ],
      "text/plain": [
       "   Year   Lag1   Lag2   Lag3   Lag4   Lag5  Volume  Today Direction\n",
       "1  2001  0.381 -0.192 -2.624 -1.055  5.010  1.1913  0.959        Up\n",
       "2  2001  0.959  0.381 -0.192 -2.624 -1.055  1.2965  1.032        Up\n",
       "3  2001  1.032  0.959  0.381 -0.192 -2.624  1.4112 -0.623      Down\n",
       "4  2001 -0.623  1.032  0.959  0.381 -0.192  1.2760  0.614        Up\n",
       "5  2001  0.614 -0.623  1.032  0.959  0.381  1.2057  0.213        Up"
      ]
     },
     "execution_count": 450,
     "metadata": {},
     "output_type": "execute_result"
    }
   ],
   "source": [
    "smarket.head()"
   ]
  },
  {
   "cell_type": "code",
   "execution_count": 451,
   "metadata": {},
   "outputs": [
    {
     "data": {
      "text/plain": [
       "Year         0\n",
       "Lag1         0\n",
       "Lag2         0\n",
       "Lag3         0\n",
       "Lag4         0\n",
       "Lag5         0\n",
       "Volume       0\n",
       "Today        0\n",
       "Direction    0\n",
       "dtype: int64"
      ]
     },
     "execution_count": 451,
     "metadata": {},
     "output_type": "execute_result"
    }
   ],
   "source": [
    "smarket.isnull().sum(axis=0)"
   ]
  },
  {
   "cell_type": "markdown",
   "metadata": {},
   "source": [
    "#### 2d\n",
    "\n",
    "Construct the matrix of features and the response. Transform the response to a vector with entries in {+1,−1}, corresponding to whether Direction is ‘Up’ or ‘Down’, respectively. Split the data into train and test sets (80/20 split) and standardize the features.\n"
   ]
  },
  {
   "cell_type": "code",
   "execution_count": 452,
   "metadata": {},
   "outputs": [],
   "source": [
    "cleanup_nums = {\"Direction\": {\"Up\": 1, \"Down\": -1}}\n",
    "smarket.replace(cleanup_nums, inplace=True)"
   ]
  },
  {
   "cell_type": "code",
   "execution_count": 453,
   "metadata": {},
   "outputs": [],
   "source": [
    "X = smarket[['Lag1', 'Lag2', 'Volume']]\n",
    "y = smarket[['Direction']]"
   ]
  },
  {
   "cell_type": "code",
   "execution_count": 454,
   "metadata": {},
   "outputs": [],
   "source": [
    "X_train, X_test, y_train, y_test = train_test_split(X, y, train_size=0.8)"
   ]
  },
  {
   "cell_type": "code",
   "execution_count": 455,
   "metadata": {},
   "outputs": [],
   "source": [
    "scaler = preprocessing.StandardScaler().fit(X_train)\n",
    "X_train_scaled = scaler.transform(X_train)\n",
    "X_test_scaled = scaler.transform(X_test)\n",
    "\n",
    "# scaler = preprocessing.StandardScaler().fit(y_train.values.reshape(-1, 1))\n",
    "# y_train_scaled = scaler.transform(y_train.values.reshape(-1, 1)).reshape((-1))\n",
    "# y_test_scaled = scaler.transform(y_test.values.reshape(-1, 1)).reshape((-1))"
   ]
  },
  {
   "cell_type": "code",
   "execution_count": 456,
   "metadata": {},
   "outputs": [],
   "source": [
    "y_train_scaled = y_train.to_numpy().reshape(-1, 1).reshape((-1))\n",
    "y_test_scaled = y_test.to_numpy().reshape(-1, 1).reshape((-1))"
   ]
  },
  {
   "cell_type": "code",
   "execution_count": 457,
   "metadata": {},
   "outputs": [
    {
     "name": "stdout",
     "output_type": "stream",
     "text": [
      "X_train dimensions: (1000, 3)\n",
      "X_test dimensions:(250, 3)\n",
      "y_train dimensions:(1000,)\n",
      "y_test dimensions:(250,)\n"
     ]
    }
   ],
   "source": [
    "print(f\"X_train dimensions: {X_train_scaled.shape}\\nX_test dimensions:{X_test_scaled.shape}\\ny_train dimensions:{y_train_scaled.shape}\\ny_test dimensions:{y_test_scaled.shape}\")"
   ]
  },
  {
   "cell_type": "markdown",
   "metadata": {},
   "source": [
    "#### 2e\n",
    "\n",
    "Write a function computegrad that computes and returns ∇F(β) for any β."
   ]
  },
  {
   "cell_type": "code",
   "execution_count": 458,
   "metadata": {},
   "outputs": [],
   "source": [
    "def computegrad(beta, lambda_, X=X_train_scaled, Y=y_train_scaled):\n",
    "    N = X.shape[0] #number of rows\n",
    "    \n",
    "    p = (np.exp( np.multiply(-Y, X.dot(beta)) )) / (1 + np.exp( np.multiply(-Y, X.dot(beta)) ))\n",
    "    Q = np.diag(p)\n",
    "    \n",
    "    return (-1/N) * X.T.dot(Q).dot(Y) + (2 * lambda_ * beta)"
   ]
  },
  {
   "cell_type": "code",
   "execution_count": 459,
   "metadata": {},
   "outputs": [
    {
     "data": {
      "text/plain": [
       "array([ 0.01839009,  0.01364029, -0.01466941])"
      ]
     },
     "execution_count": 459,
     "metadata": {},
     "output_type": "execute_result"
    }
   ],
   "source": [
    "initial_beta = np.zeros(X_train_scaled.shape[1])\n",
    "computegrad(np.zeros(X_train_scaled.shape[1]), 0.5, X_train_scaled, y_train_scaled)"
   ]
  },
  {
   "cell_type": "markdown",
   "metadata": {},
   "source": [
    "#### 2f\n",
    "\n",
    "Write a function backtracking that implements the backtracking rule."
   ]
  },
  {
   "cell_type": "code",
   "execution_count": 460,
   "metadata": {},
   "outputs": [],
   "source": [
    "# np.multiply(-y_train_scaled, X_train_scaled.dot(initial_beta))"
   ]
  },
  {
   "cell_type": "code",
   "execution_count": 461,
   "metadata": {},
   "outputs": [],
   "source": [
    "def log_reg_obj_func(beta, lambda_, X=X_train_scaled, Y=y_train_scaled):\n",
    "    N = X.shape[0]\n",
    "    return 1/N * np.sum( np.log( 1 + np.exp(np.multiply(-Y, X.dot(beta))) ) ) + lambda_ * np.linalg.norm(beta)**2"
   ]
  },
  {
   "cell_type": "code",
   "execution_count": 462,
   "metadata": {},
   "outputs": [],
   "source": [
    "def backtracking(eta_init, decay_rate, prop_constant, f, f_grad, x, p, lambda_):\n",
    "    \"\"\"Backtracking algorithm for stepsize selection.\n",
    "\n",
    "\tParameters\n",
    "\t----------\n",
    "\teta_init : float\n",
    "\t\tA positive number representing the starting, maximum stepsize.\n",
    "    decay_rate : float\n",
    "\t\tA number in (0, 1) indicating how much to decrease eta while backtracking.\n",
    "    prop_constant : float\n",
    "\t\tA number the proportionality between the amount of descent and directional derivative.\n",
    "    f : function\n",
    "\t\tAn objective function that maps a numpy array to a float.\n",
    "    f_grad : function\n",
    "\t\tA function that computes the gradient of f at a point x. \n",
    "        Maps a 1D numpy array to a numpy array of the same size.\n",
    "    x : numpy.ndarray\n",
    "\t\tA 1D array representing a point in d-dimensional space.\n",
    "    p : numpy.ndarray\n",
    "\t\tA 1D array (unit vector) representing a direction in d-dimensional space.\n",
    "\n",
    "\tReturns\n",
    "\t-------\n",
    "\teta : float\n",
    "\t\tThe first eta value that satisfies the sufficient decrease condition.\n",
    "\t\"\"\"\n",
    "        \n",
    "    def sufficient_decrease(eta):\n",
    "        return f(x + eta * p, lambda_) - f(x, lambda_) <= prop_constant * eta * np.dot(f_grad(x, lambda_), p)\n",
    "    \n",
    "    eta = eta_init\n",
    "    while not sufficient_decrease(eta):\n",
    "        eta *= decay_rate\n",
    "    \n",
    "    return eta"
   ]
  },
  {
   "cell_type": "code",
   "execution_count": 463,
   "metadata": {},
   "outputs": [
    {
     "data": {
      "text/plain": [
       "0.1"
      ]
     },
     "execution_count": 463,
     "metadata": {},
     "output_type": "execute_result"
    }
   ],
   "source": [
    "p = -computegrad(np.zeros(X_train_scaled.shape[1]), 0.5, X_train_scaled, y_train_scaled)\n",
    "backtracking(0.1, 0.8, 0.5, log_reg_obj_func, computegrad, initial_beta, p, 0.5)"
   ]
  },
  {
   "cell_type": "code",
   "execution_count": 464,
   "metadata": {},
   "outputs": [
    {
     "data": {
      "text/plain": [
       "array([-0.01839009, -0.01364029,  0.01466941])"
      ]
     },
     "execution_count": 464,
     "metadata": {},
     "output_type": "execute_result"
    }
   ],
   "source": [
    "p = -computegrad(np.zeros(X_train_scaled.shape[1]), 0.5, X_train_scaled, y_train_scaled)\n",
    "# p = np.linalg.norm(p)\n",
    "p"
   ]
  },
  {
   "cell_type": "markdown",
   "metadata": {},
   "source": [
    "#### 2g\n",
    "\n",
    "Write a function graddescent that implements the gradient descent algorithm with the backtracking rule to tune the step-size. The function graddescent calls computegrad and backtracking as subroutines. The function takes as input the initial point, the initial step-size value, and the target accuracy ε. The stopping criterion is ∥∇F ∥ ≤ ε."
   ]
  },
  {
   "cell_type": "code",
   "execution_count": 465,
   "metadata": {},
   "outputs": [],
   "source": [
    "def graddescent(initial_loc, max_iters, lambda_, stopping_thresh, lr = 0.1, X=X_train_scaled, y=y_train_scaled):\n",
    "    \n",
    "    # Don't want to change the starting location\n",
    "    beta = initial_loc\n",
    "    \n",
    "    lr = lr\n",
    "    beta_grad = computegrad(beta, lambda_, X, y)\n",
    "    beta_list = [beta]\n",
    "    \n",
    "    decay_rate = 0.8\n",
    "    prop_constant = 0.5\n",
    "    \n",
    "    # Keep descending for 'max_iters'\n",
    "    i = 0\n",
    "    while np.linalg.norm(beta_grad) > stopping_thresh:\n",
    "        lr = backtracking(lr, decay_rate, prop_constant, log_reg_obj_func, computegrad, beta, -beta_grad, lambda_)\n",
    "        \n",
    "        beta = beta - lr * beta_grad\n",
    "        beta_list.append(beta)\n",
    "        \n",
    "        beta_grad = computegrad(beta, lambda_, X, y)\n",
    "        i += 1\n",
    "        \n",
    "    return np.array(beta_list)"
   ]
  },
  {
   "cell_type": "markdown",
   "metadata": {},
   "source": [
    "#### 2h\n",
    "\n",
    "Write a function fastgradalgo that implements the fast gradient algorithm described in Algorithm 1. The function fastgradalgo calls computegrad and backtracking as subrou- tines. The function takes as input the initial step-size value for the backtracking rule and the target accuracy ε. The stopping criterion is ∥∇F ∥ ≤ ε."
   ]
  },
  {
   "cell_type": "code",
   "execution_count": 466,
   "metadata": {},
   "outputs": [],
   "source": [
    "def fastgradalgo(initial_loc, max_iters, lambda_, stopping_thresh, lr = 0.1, X=X_train_scaled, y=y_train_scaled):\n",
    "    \n",
    "    # Don't want to change the starting location\n",
    "    beta = initial_loc\n",
    "    theta = initial_loc\n",
    "    \n",
    "    lr = lr\n",
    "    beta_grad = computegrad(beta, lambda_, X, y)\n",
    "    beta_list = [beta]\n",
    "    \n",
    "    decay_rate = 0.8\n",
    "    prop_constant = 0.5\n",
    "    \n",
    "    # Keep descending for 'max_iters'\n",
    "    i = 0\n",
    "    while np.linalg.norm(beta_grad) > stopping_thresh:\n",
    "        lr = backtracking(lr, decay_rate, prop_constant, log_reg_obj_func, computegrad, beta, -beta_grad, lambda_)\n",
    "        \n",
    "        beta_prev = beta\n",
    "        \n",
    "        beta = theta - lr * beta_grad\n",
    "        theta = beta + i / (i + 3) * (beta - beta_prev)\n",
    "        \n",
    "        beta_list.append(beta)\n",
    "        beta_grad = computegrad(beta, lambda_, X, y)\n",
    "        i += 1\n",
    "        \n",
    "    return np.array(beta_list)"
   ]
  },
  {
   "cell_type": "markdown",
   "metadata": {},
   "source": [
    "#### 2i\n",
    "\n",
    "Initialize the step size to η0 = 0.1. Set the target accuracy to ε = 1 × 10 . Run\n",
    "graddescent and fastgradalgo on the training set of the smarket dataset for λ = 0.5. Plot the curve of the objective values F(βt) for both algorithms versus the iteration counter t (use different colors). What do you observe?"
   ]
  },
  {
   "cell_type": "code",
   "execution_count": 467,
   "metadata": {},
   "outputs": [
    {
     "data": {
      "text/plain": [
       "Text(0, 0.5, 'Logistic Regression Objective values')"
      ]
     },
     "execution_count": 467,
     "metadata": {},
     "output_type": "execute_result"
    },
    {
     "data": {
      "image/png": "[encoded data removed]",
      "text/plain": [
       "<Figure size 720x360 with 1 Axes>"
      ]
     },
     "metadata": {
      "needs_background": "light"
     },
     "output_type": "display_data"
    }
   ],
   "source": [
    "(N, p) = X_train_scaled.shape\n",
    "lambda_ = 0.5\n",
    "epsilon = 1e-5\n",
    "max_iters = 1000\n",
    "lr = 0.1\n",
    "    \n",
    "initial_beta = np.zeros(p)\n",
    "\n",
    "beta_list_grad = graddescent(initial_beta, max_iters, lambda_, epsilon, lr, X_train_scaled, y_train_scaled)\n",
    "beta_list_fastGrad = fastgradalgo(initial_beta, max_iters, lambda_, epsilon, lr, X_train_scaled, y_train_scaled)\n",
    "\n",
    "objective_vals_grad = [log_reg_obj_func(b, lambda_) for b in beta_list_grad]\n",
    "objective_vals_fastGrad = [log_reg_obj_func(b, lambda_) for b in beta_list_fastGrad]\n",
    "\n",
    "plt.figure(figsize=(10,5))\n",
    "\n",
    "plt.plot(objective_vals_grad, label='graddescent')\n",
    "plt.plot(objective_vals_fastGrad, label='fastgradalgo')\n",
    "\n",
    "plt.legend()\n",
    "\n",
    "plt.title(f'Logistic Regression Objective Values (lambda={lambda_})')\n",
    "plt.xlabel('Iterations')\n",
    "plt.ylabel('Logistic Regression Objective values')"
   ]
  },
  {
   "cell_type": "markdown",
   "metadata": {},
   "source": [
    "It can be seen that the fast gradient minimizes the objective value faster compared to the regular gradient descent algorithm. \n",
    "\n",
    "However, the fast gradient descent algorithm takes more iterations to reach the stopping condition. "
   ]
  },
  {
   "cell_type": "markdown",
   "metadata": {},
   "source": [
    "#### 2j\n",
    "\n",
    "Denote by βT the final iterate of your fast gradient algorithm. Compare βT to the β⋆ found by scikit-learn’s LogisticRegression(). Compare the objective value for βT\n",
    "⋆\n",
    "to the one for β . What do you observe? Note: Remember that scikit-learn penalizes the logistic regression objective differently from our formulation above. You will need to find the setting of their C parameter that corresponds to a given choice of λ in our definition."
   ]
  },
  {
   "cell_type": "code",
   "execution_count": 468,
   "metadata": {},
   "outputs": [],
   "source": [
    "beta_t = beta_list_fastGrad[-1]\n",
    "objective_val_t = log_reg_obj_func(beta_t, lambda_)"
   ]
  },
  {
   "cell_type": "code",
   "execution_count": 469,
   "metadata": {},
   "outputs": [],
   "source": [
    "model_parms = {'tol': epsilon, 'C': 1/(2*N*lambda_), 'fit_intercept': False}\n",
    "clf = LogisticRegression(random_state=0).set_params(**model_parms).fit(X_train_scaled, y_train_scaled)"
   ]
  },
  {
   "cell_type": "code",
   "execution_count": 470,
   "metadata": {},
   "outputs": [],
   "source": [
    "beta_star = clf.coef_[0]\n",
    "objective_val_star = log_reg_obj_func(beta_star, lambda_)"
   ]
  },
  {
   "cell_type": "code",
   "execution_count": 471,
   "metadata": {},
   "outputs": [
    {
     "name": "stdout",
     "output_type": "stream",
     "text": [
      "beta_T:\n",
      "[-0.01487086 -0.01090969  0.01171263]\n",
      "\n",
      " beta_star:\n",
      "[-0.01486617 -0.01091292  0.01171745]\n",
      "\n",
      "beta_T obj : 0.69285012\n",
      "beta_star obj: 0.69285012\n"
     ]
    }
   ],
   "source": [
    "print(f\"beta_T:\\n{beta_t}\\n\\n beta_star:\\n{beta_star}\")\n",
    "print(f\"\\nbeta_T obj : {objective_val_t:.8f}\\nbeta_star obj: {objective_val_star:.8f}\")"
   ]
  },
  {
   "cell_type": "markdown",
   "metadata": {},
   "source": [
    "#### 2k\n",
    "\n",
    "Run cross-validation on the training set of the smarket dataset using scikit-learn to find\n",
    "the optimal value of λ (see sklearn.linear model.LogisticRegressionCV). Again,\n",
    "note that scikit-learn’s penalty C is not the same as our λ. Find the value λ∗ cor-\n",
    "responding to the best choice C∗ obtained with this method. Run graddescent and ∗\n",
    "fastgradalgo to optimize the objective with λ = λ . Plot the curve of the objective val- ues F(βt) for both algorithms versus the iteration counter t. Plot the misclassification error on the training set for both algorithms versus the iteration counter t. Plot the misclassification error on the test set for both algorithms versus the iteration counter t. What do you observe?"
   ]
  },
  {
   "cell_type": "code",
   "execution_count": 472,
   "metadata": {},
   "outputs": [],
   "source": [
    "model_parms = {'tol': epsilon, 'fit_intercept': False}\n",
    "clf = LogisticRegressionCV(random_state=0).set_params(**model_parms).fit(X_train_scaled, y_train_scaled)"
   ]
  },
  {
   "cell_type": "code",
   "execution_count": 473,
   "metadata": {},
   "outputs": [
    {
     "data": {
      "text/plain": [
       "5.0"
      ]
     },
     "execution_count": 473,
     "metadata": {},
     "output_type": "execute_result"
    }
   ],
   "source": [
    "C_star = clf.C_[0]\n",
    "lambda_star = 1/(2*N*C_star)\n",
    "lambda_star"
   ]
  },
  {
   "cell_type": "code",
   "execution_count": 474,
   "metadata": {},
   "outputs": [
    {
     "data": {
      "text/plain": [
       "0.0001"
      ]
     },
     "execution_count": 474,
     "metadata": {},
     "output_type": "execute_result"
    }
   ],
   "source": [
    "C_star"
   ]
  },
  {
   "cell_type": "code",
   "execution_count": 475,
   "metadata": {},
   "outputs": [],
   "source": [
    "beta_star = clf.coef_[0]\n",
    "objective_val_star = log_reg_obj_func(beta_star, lambda_)"
   ]
  },
  {
   "cell_type": "code",
   "execution_count": 476,
   "metadata": {},
   "outputs": [
    {
     "data": {
      "text/plain": [
       "Text(0, 0.5, 'Logistic Regression Objective values')"
      ]
     },
     "execution_count": 476,
     "metadata": {},
     "output_type": "execute_result"
    },
    {
     "data": {
      "image/png": "[encoded data removed]",
      "text/plain": [
       "<Figure size 720x360 with 1 Axes>"
      ]
     },
     "metadata": {
      "needs_background": "light"
     },
     "output_type": "display_data"
    }
   ],
   "source": [
    "(N, p) = X_train_scaled.shape\n",
    "lambda_ = lambda_star\n",
    "epsilon = 1e-5\n",
    "max_iters = 1000\n",
    "lr = 0.1\n",
    "    \n",
    "initial_beta = np.zeros(p)\n",
    "\n",
    "beta_list_grad = graddescent(initial_beta, max_iters, lambda_, epsilon, lr, X_train_scaled, y_train_scaled)\n",
    "beta_list_fastGrad = fastgradalgo(initial_beta, max_iters, lambda_, epsilon, lr, X_train_scaled, y_train_scaled)\n",
    "\n",
    "objective_vals_grad = [log_reg_obj_func(b, lambda_) for b in beta_list_grad]\n",
    "objective_vals_fastGrad = [log_reg_obj_func(b, lambda_) for b in beta_list_fastGrad]\n",
    "\n",
    "plt.figure(figsize=(10,5))\n",
    "\n",
    "plt.plot(objective_vals_grad, label='graddescent')\n",
    "plt.plot(objective_vals_fastGrad, label='fastgradalgo')\n",
    "\n",
    "plt.legend()\n",
    "\n",
    "plt.title(f'Logistic Regression Objective Values (lambda={lambda_:.2f})')\n",
    "plt.xlabel('Iterations')\n",
    "plt.ylabel('Logistic Regression Objective values')"
   ]
  },
  {
   "cell_type": "markdown",
   "metadata": {},
   "source": [
    "Observation: With an optimal lambda value, the fast gradient algorithm is reaching the minimum faster compared to regular gradient descent. However, it still takes more iterations to reach the stopping condition. "
   ]
  },
  {
   "cell_type": "code",
   "execution_count": 477,
   "metadata": {},
   "outputs": [],
   "source": [
    "beta_t = beta_list_fastGrad[-1]\n",
    "objective_val_t = log_reg_obj_func(beta_t, lambda_)"
   ]
  },
  {
   "cell_type": "code",
   "execution_count": 478,
   "metadata": {},
   "outputs": [
    {
     "name": "stdout",
     "output_type": "stream",
     "text": [
      "beta_T:\n",
      "[-0.00179674 -0.00133104  0.0014312 ]\n",
      "\n",
      " beta_star:\n",
      "[-0.00179644 -0.00133075  0.00143088]\n",
      "\n",
      "beta_T obj : 0.69311109\n",
      "beta_star obj: 0.69307939\n"
     ]
    }
   ],
   "source": [
    "print(f\"beta_T:\\n{beta_t}\\n\\n beta_star:\\n{beta_star}\")\n",
    "print(f\"\\nbeta_T obj : {objective_val_t:.8f}\\nbeta_star obj: {objective_val_star:.8f}\")"
   ]
  },
  {
   "cell_type": "code",
   "execution_count": 479,
   "metadata": {},
   "outputs": [],
   "source": [
    "def predict(beta, X):\n",
    "    # p = 1 / (1 + np.exp(-X.dot(beta)))\n",
    "    p = np.exp(np.dot(X, beta)) / (1 + np.exp(np.dot(X, beta)))\n",
    "    y_pred = np.where(p > 0.5, 1, -1)\n",
    "    return y_pred"
   ]
  },
  {
   "cell_type": "code",
   "execution_count": 480,
   "metadata": {},
   "outputs": [],
   "source": [
    "def get_error(y_true, y_pred):\n",
    "    return np.mean(y_pred != y_true)"
   ]
  },
  {
   "cell_type": "code",
   "execution_count": 481,
   "metadata": {},
   "outputs": [],
   "source": [
    "err_grad_test = [get_error(y_test_scaled, predict(beta, X_test_scaled)) for beta in beta_list_grad]\n",
    "err_fastGrad_test = [get_error(y_test_scaled, predict(beta, X_test_scaled)) for beta in beta_list_fastGrad]\n",
    "\n",
    "err_grad_train = [get_error(y_train_scaled, predict(beta, X_train_scaled)) for beta in beta_list_grad]\n",
    "err_fastGrad_train = [get_error(y_train_scaled, predict(beta, X_train_scaled)) for beta in beta_list_fastGrad]"
   ]
  },
  {
   "cell_type": "code",
   "execution_count": 482,
   "metadata": {},
   "outputs": [],
   "source": [
    "def plot_misclassification_error(err_grad, err_fastGrad, title_postfix='Test'):\n",
    "    plt.figure(figsize=(10,5))\n",
    "\n",
    "    plt.plot(err_grad, label='graddescent')\n",
    "    plt.plot(err_fastGrad, label='fastgradalgo')\n",
    "\n",
    "    plt.legend()\n",
    "\n",
    "    plt.title(f'Misclassification Error {title_postfix}')\n",
    "    plt.xlabel('Iterations')\n",
    "    plt.ylabel('Error Rate')"
   ]
  },
  {
   "cell_type": "code",
   "execution_count": 483,
   "metadata": {},
   "outputs": [
    {
     "data": {
      "image/png": "[encoded data removed]",
      "text/plain": [
       "<Figure size 720x360 with 1 Axes>"
      ]
     },
     "metadata": {
      "needs_background": "light"
     },
     "output_type": "display_data"
    }
   ],
   "source": [
    "plot_misclassification_error(err_grad_train, err_fastGrad_train, title_postfix=\"Train\")"
   ]
  },
  {
   "cell_type": "code",
   "execution_count": 484,
   "metadata": {},
   "outputs": [
    {
     "data": {
      "image/png": "[encoded data removed]",
      "text/plain": [
       "<Figure size 720x360 with 1 Axes>"
      ]
     },
     "metadata": {
      "needs_background": "light"
     },
     "output_type": "display_data"
    }
   ],
   "source": [
    "plot_misclassification_error(err_grad_test, err_fastGrad_test, title_postfix=\"Test\")"
   ]
  },
  {
   "cell_type": "markdown",
   "metadata": {},
   "source": [
    "Observation: \n",
    "\n",
    "The fast gradient algorithm reaches the minimal error rate faster compared to the regular gradient descent algorithm This can be seen for both the test and training sets."
   ]
  }
 ],
 "metadata": {
  "kernelspec": {
   "display_name": "Python 3",
   "language": "python",
   "name": "python3"
  },
  "language_info": {
   "codemirror_mode": {
    "name": "ipython",
    "version": 3
   },
   "file_extension": ".py",
   "mimetype": "text/x-python",
   "name": "python",
   "nbconvert_exporter": "python",
   "pygments_lexer": "ipython3",
   "version": "3.7.10"
  }
 },
 "nbformat": 4,
 "nbformat_minor": 4
}
