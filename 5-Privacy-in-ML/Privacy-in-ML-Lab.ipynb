{
 "cells": [
  {
   "cell_type": "markdown",
   "id": "adb85737",
   "metadata": {},
   "source": [
    "# <center>Lab 6: Dimension Reduction and Differential Privacy</center>\n",
    "<center>DATA 558, Spring 2021</center>\n",
    "<center>TAs: Alec Greaves-Tunnell and Ronak Mehta</center>\n"
   ]
  },
  {
   "cell_type": "markdown",
   "id": "2f529594",
   "metadata": {},
   "source": [
    "## 0. Overview\n",
    "\n",
    "In this lab, we will:\n",
    "- Discuss motivations for dimensionality reduction in machine learning\n",
    "- Introduce two methods for dimensionality reduction: random projection and principal component analysis (PCA)\n",
    "- Relate PCA to the eigendecomposition of the empirical covariance matrix\n",
    "- Visualize the principal components of an image dataset\n",
    "- Introduce the concept of differential privacy\n",
    "- Implement two mechanisms for differential privacy\n",
    "- Implement a method for evaluating differential privacy \n"
   ]
  },
  {
   "cell_type": "code",
   "execution_count": 1,
   "id": "e008f4bc",
   "metadata": {
    "collapsed": true
   },
   "outputs": [],
   "source": [
    "import pandas as pd\n",
    "import numpy as np\n",
    "import matplotlib.pyplot as plt\n",
    "import copy\n",
    "\n",
    "import pickle\n",
    "\n",
    "%matplotlib inline"
   ]
  },
  {
   "cell_type": "markdown",
   "id": "2d0aa5cb",
   "metadata": {},
   "source": [
    "## 1. Dimension reduction via random projections\n",
    "\n",
    "##### Why reduce the dimension?\n",
    "\n",
    "In many applications, the data $X \\in \\mathbb{R}^{n\\times d}$ contain measurements from a large number of features. Modern computing resources make it easy to generate and store data that contains thousands or millions of features. Several challenges arise in this setting:\n",
    "\n",
    "- The computational burden of training a model grows with $d$. Consider the simple instance of linear regression, where the MLE is given by $\\hat{\\beta} = (X^TX)^{-1}X^TY $. The inversion of the $d\\times d$ matrix $X^TX$ has complexity $O(d^3)$.\n",
    "\n",
    "\n",
    "- From the statistical learning standpoint, a large number of features requires a correspondingly large number of observations to train a model that generalizes well. The relation between $d$ and a corresponding ``good enough\" $n$ can be quite unfavorabe: for example, the sample complexity of nearest neighbors is exponential in $d$ (see UML Sec. 19.2.2).\n",
    "\n",
    "\n",
    "- It may be difficult or impossible to interpret a vector of coefficients estimated for all $d$ features. We have already seen one potential solution here, namely sparse estimation methods via $\\ell1$ regularization. An alternative approach is to compute a smaller set of new features.\n",
    "\n",
    "The notion of dimensionality reduction is closely related to that of compression: we seek to describe each observation $x_i \\in \\mathbb{R}^d$ using only $k < d$ features, in such a way as to preserve as much information as possible in the original observation. In contrast to sparse estimation, we do not require that the $k$ new features are a subset of the $d$ original features - instead, we will think of them as _functions_ of the original features. \n",
    "\n",
    "The question becomes: what function(s) of the original features should I take to obtain an informative, but smaller in dimension, representation of my data $X$?\n",
    "\n",
    "##### Random projections\n",
    "\n",
    "We will consider linear methods for dimension reduction, that is, transformations of the data matrix $X \\in \\mathbb{R}^{n \\times d}$ from its original feature dimension $d$ to some lower dimension $k < d$ that can be represented as\n",
    "\n",
    "$$\n",
    "\\tilde{X} = XW.\n",
    "$$\n",
    "\n",
    "It remains to specify how we choose $W \\in \\mathbb{R}^{d \\times k}$. A surprising result says that we can choose $W$ _randomly_ and obtain _provable_ guarantees regarding the preservation of structure in the original data. In particular, we can study the distortion induced by $W$ through the ratio\n",
    "\n",
    "$$\n",
    "\\frac{||W^Tx_1 - W^Tx_2||}{||x_1 - x_2||},\n",
    "$$\n",
    "\n",
    "where $x_1$ and $x_2$ are observations in the original feature space. If this ratio is close to 1, then dimension reduction using $W$ roughly preserves the geometric structure of the data. The celebrated __Johnson-Lindenstrauss Lemma__ (see UML Sec. 23.2) proves that this can be achieved by a $W$ with carefully selected _random_ elements.\n",
    "\n",
    "__Lemma (Johnson-Lindenstrauss):__ Given a data set $X \\in \\mathbb{R}^{n \\times d}$, construct the set $Q$ of all distances between observations in $X$. Let $\\delta \\in (0,1)$ and $k$ be an integer such that\n",
    "\n",
    "$$\n",
    "\\varepsilon := \\sqrt{\\frac{6 \\log(2 |Q| / \\delta)}{k}} \\leq 3.\n",
    "$$\n",
    "\n",
    "Let $W \\in \\mathbb{R}^{k \\times d}$ be a random matrix whose entries have the distribution $\\mathcal{N}(0, 1/k)$. Then, with probability at least $1-\\delta$ over the choice of $W$, we have\n",
    "\n",
    "$$\n",
    "\\max_{x_1, x_2 \\in X} \\left\\vert \\frac{||W^Tx_1 - W^Tx_2||^2}{||x_1 - x_2||^2} - 1 \\right\\vert < \\varepsilon.\n",
    "$$"
   ]
  },
  {
   "cell_type": "markdown",
   "id": "97166d93",
   "metadata": {},
   "source": [
    "__Exercise 1.1:__ Implement random projection to dimension $k$, using the random Gaussian matrix described in the lemma above."
   ]
  },
  {
   "cell_type": "code",
   "execution_count": 2,
   "id": "46ccaa6e",
   "metadata": {
    "collapsed": true
   },
   "outputs": [],
   "source": [
    "def random_proj(X, k):\n",
    "    '''\n",
    "    Project n x d data matrix X down to dimension k via Gaussian features.\n",
    "    '''\n",
    "    n, d = X.shape\n",
    "    std = np.sqrt(1/k)\n",
    "    W = std*np.random.normal(size=(d, k))\n",
    "    Xproj = np.dot(X, W)\n",
    "    \n",
    "    return Xproj"
   ]
  },
  {
   "cell_type": "markdown",
   "id": "c75928c5",
   "metadata": {},
   "source": [
    "##### Data: MNIST, but make it fashion\n",
    "\n",
    "Let's see how this works! In this Lab we'll use the ``Fashion MNIST\" dataset, from [Zalando Research](https://github.com/zalandoresearch/fashion-mnist). This is a relatively recent dataset designed as a successor to the famous MNIST dataset of handwritten images. As with MNIST, the data consist of greyscale 28 x 28 pixel images, and each label belongs to one of 10 classes. Unlike MNIST, the pictures are of clothes."
   ]
  },
  {
   "cell_type": "code",
   "execution_count": 3,
   "id": "90e15cd5",
   "metadata": {
    "collapsed": true
   },
   "outputs": [],
   "source": [
    "with open('./small_fMNIST.pkl', 'rb') as f:\n",
    "    fmn = pickle.load(f)\n",
    "    \n",
    "X = fmn['data']\n",
    "y = fmn['labels']\n",
    "guide = fmn['label_guide']"
   ]
  },
  {
   "cell_type": "code",
   "execution_count": 4,
   "id": "c6c2fbd9",
   "metadata": {},
   "outputs": [
    {
     "data": {
      "text/plain": [
       "{0: 'T-shirt/top',\n",
       " 1: 'Trouser',\n",
       " 2: 'Pullover',\n",
       " 3: 'Dress',\n",
       " 4: 'Coat',\n",
       " 5: 'Sandal',\n",
       " 6: 'Shirt',\n",
       " 7: 'Sneaker',\n",
       " 8: 'Bag',\n",
       " 9: 'Ankle boot'}"
      ]
     },
     "execution_count": 4,
     "metadata": {},
     "output_type": "execute_result"
    }
   ],
   "source": [
    "guide"
   ]
  },
  {
   "cell_type": "markdown",
   "id": "5e08cebb",
   "metadata": {},
   "source": [
    "A basic representation of image data comes from taking each pixel as a feature. For greyscale images, this can be represented by a single integer between 0 and 255. While the data are observed and viewed in a 28 x 28 grid format, for machine learning we flatten them to vector shape. Thus a single image has dimension $28 \\times 28 = 784$. "
   ]
  },
  {
   "cell_type": "code",
   "execution_count": 5,
   "id": "650f2d07",
   "metadata": {},
   "outputs": [
    {
     "name": "stdout",
     "output_type": "stream",
     "text": [
      "(28, 28)\n",
      "784\n"
     ]
    }
   ],
   "source": [
    "print(X[0].shape)\n",
    "print(np.prod(X[0].shape))"
   ]
  },
  {
   "cell_type": "markdown",
   "id": "3024d4f5",
   "metadata": {},
   "source": [
    "We can view images with matplotlib's `plt.imshow()` function."
   ]
  },
  {
   "cell_type": "code",
   "execution_count": 6,
   "id": "9cea7d74",
   "metadata": {
    "collapsed": true
   },
   "outputs": [],
   "source": [
    "def viz_fMNIST_ex(ix):\n",
    "    plt.imshow(X[0])\n",
    "    plt.title(guide[y[0]])"
   ]
  },
  {
   "cell_type": "code",
   "execution_count": 7,
   "id": "35a8f485",
   "metadata": {},
   "outputs": [
    {
     "data": {
      "image/png": "[encoded data removed]",
      "text/plain": [
       "<Figure size 432x288 with 1 Axes>"
      ]
     },
     "metadata": {
      "needs_background": "light"
     },
     "output_type": "display_data"
    }
   ],
   "source": [
    "viz_fMNIST_ex(0)"
   ]
  },
  {
   "cell_type": "code",
   "execution_count": 8,
   "id": "8f4a8ff8",
   "metadata": {},
   "outputs": [
    {
     "data": {
      "text/plain": [
       "(10000, 784)"
      ]
     },
     "execution_count": 8,
     "metadata": {},
     "output_type": "execute_result"
    }
   ],
   "source": [
    "# turn images into a data matrix\n",
    "Xflat = [np.reshape(x, (1, -1)) for x in X]\n",
    "Xmat = np.vstack(Xflat)\n",
    "\n",
    "Xmat.shape"
   ]
  },
  {
   "cell_type": "markdown",
   "id": "452cc298",
   "metadata": {},
   "source": [
    "__Exercise 1.2:__ Use the random projection function you wrote above to project the fashion MNIST data down to $k=100$ dimensions."
   ]
  },
  {
   "cell_type": "code",
   "execution_count": 9,
   "id": "7aaea66e",
   "metadata": {},
   "outputs": [
    {
     "data": {
      "text/plain": [
       "(10000, 100)"
      ]
     },
     "execution_count": 9,
     "metadata": {},
     "output_type": "execute_result"
    }
   ],
   "source": [
    "Xproj = random_proj(Xmat, 100)\n",
    "Xproj.shape"
   ]
  },
  {
   "cell_type": "code",
   "execution_count": 10,
   "id": "30959156",
   "metadata": {
    "collapsed": true
   },
   "outputs": [],
   "source": [
    "def distortion_example():\n",
    "    # select two data points\n",
    "    i,j = np.random.choice(len(X), 2, replace=False)\n",
    "    \n",
    "    # plot\n",
    "    plt.subplots(1,2)\n",
    "    plt.subplot(1,2,1)\n",
    "    plt.imshow(X[i])\n",
    "    \n",
    "    plt.subplot(1,2,2)\n",
    "    plt.imshow(X[j])\n",
    "    \n",
    "    plt.show()\n",
    "    \n",
    "    # compute their distance in original feature space\n",
    "    dist_orig = np.linalg.norm(Xmat[i,:]-Xmat[j,:])\n",
    "    print('Distance in orignal space: {:.3f}'.format(dist_orig))\n",
    "    \n",
    "    # compute distance in new feature space\n",
    "    dist_proj = np.linalg.norm(Xproj[i,:]-Xproj[j,:])\n",
    "    print('Distance in projected space: {:.3f}'.format(dist_proj))\n",
    "    \n",
    "    print('Ratio: {:.5f}'.format(dist_proj/dist_orig))"
   ]
  },
  {
   "cell_type": "code",
   "execution_count": 11,
   "id": "93671cfe",
   "metadata": {},
   "outputs": [
    {
     "data": {
      "image/png": "[encoded data removed]",
      "text/plain": [
       "<Figure size 432x288 with 2 Axes>"
      ]
     },
     "metadata": {
      "needs_background": "light"
     },
     "output_type": "display_data"
    },
    {
     "name": "stdout",
     "output_type": "stream",
     "text": [
      "Distance in orignal space: 4459.957\n",
      "Distance in projected space: 3138.235\n",
      "Ratio: 0.70365\n"
     ]
    }
   ],
   "source": [
    "distortion_example()"
   ]
  },
  {
   "cell_type": "markdown",
   "id": "86710a4f",
   "metadata": {},
   "source": [
    "__Exercise 1.3:__ Run these comparisons for many examples and different settings of $k$. How does the average distortion vary as a function of $k$?"
   ]
  },
  {
   "cell_type": "code",
   "execution_count": null,
   "id": "53ab8836",
   "metadata": {
    "collapsed": true
   },
   "outputs": [],
   "source": [
    "# implementation left to the reader: requires an outer loop over functions defined above, then plot"
   ]
  },
  {
   "cell_type": "markdown",
   "id": "1492a215",
   "metadata": {},
   "source": [
    "## 2. Dimension reduction via principal components\n",
    "\n",
    "Instead of randomly projecting, it is reasonable to ask whether we might be able to use the data itself to create a subset of particularly informative features.\n",
    "\n",
    "##### Principal components\n",
    "\n",
    "One statistical way to formalize the question above is to ask: what linear combination of features yields the _maximum_ variance? A single linear combination of the features reduces the dimension of $X$ from $d$ to 1. By maximizing the variance, we preserve as much of the variation in $X$ as possible in a single feature. \n",
    "\n",
    "Let $w \\in \\mathbb{R}^{d\\times 1}$ denote the coefficients of this linear combination. Then it is given by \n",
    "$Xw$, and the variance is\n",
    "\n",
    "$$\n",
    "\\text{Var}(Xw) = w^T \\text{Var}(X) w.\n",
    "$$\n",
    "\n",
    "The variance $\\text{Var}(X)$ is always positive semidefinite, so the quantity above is always $\\geq 0$. However, maximizing directly over $w$ leads to a scaling issue: rather than learning anything about $X$, we could just set $w$ to be arbitrarily large. We therefore constrain the maximization so that it is over all vectors $w$ with _unit norm_:\n",
    "\n",
    "\\begin{align*}\n",
    "\\text{argmax}_{w \\in \\mathbb{R}^d} &\\ \\ w^T \\text{Var}(X) w \\\\\n",
    "\\text{subject to} &\\ \\ ||w||_2^2 = 1.\n",
    "\\end{align*}\n",
    "\n",
    "The $w$ that solves this optimization problem is called the _first principal component_, or _top principal component_.\n",
    "\n",
    "##### Subsequent PCs\n",
    "\n",
    "Subsequent principal components are defined in a similar manner, with the further constraint that they are required to be _orthogonal_ to each previous principal component. That is, the $k^{th}$ previous component solves\n",
    "\n",
    "\\begin{align*}\n",
    "\\text{argmax}_{w \\in \\mathbb{R}^d} &\\ \\ w^T \\text{Var}(X) w \\\\\n",
    "\\text{subject to} &\\ \\ ||w||_2^2 = 1 \\\\\n",
    "&\\ \\ \\langle w^{(j)}, w \\rangle = 0, \\ \\ j=1, \\dots, k-1.\n",
    "\\end{align*}\n",
    "\n",
    "The orthogonality constraint ensures that the principal component features are uncorrelated.\n",
    "\n",
    "\n",
    "##### PCs of fMNIST data\n",
    "\n",
    "Let's see how this looks on fashion MNIST."
   ]
  },
  {
   "cell_type": "code",
   "execution_count": 12,
   "id": "d0759e41",
   "metadata": {
    "collapsed": true
   },
   "outputs": [],
   "source": [
    "from sklearn.decomposition import PCA"
   ]
  },
  {
   "cell_type": "code",
   "execution_count": 13,
   "id": "2babebc2",
   "metadata": {
    "collapsed": true
   },
   "outputs": [],
   "source": [
    "pca = PCA(n_components=10).fit(Xmat) # limit to top 10 PCs"
   ]
  },
  {
   "cell_type": "code",
   "execution_count": 14,
   "id": "d1645288",
   "metadata": {},
   "outputs": [
    {
     "data": {
      "image/png": "[encoded data removed]",
      "text/plain": [
       "<Figure size 1152x576 with 6 Axes>"
      ]
     },
     "metadata": {
      "needs_background": "light"
     },
     "output_type": "display_data"
    }
   ],
   "source": [
    "plt.subplots(2,3, figsize=(16,8))\n",
    "\n",
    "for n in range(6):\n",
    "    plt.subplot(2,3,n+1)\n",
    "    plt.imshow(np.reshape(pca.components_[n], (28, -1)))\n",
    "    plt.title('PC {}'.format(n+1))"
   ]
  },
  {
   "cell_type": "markdown",
   "id": "3c9fa235",
   "metadata": {},
   "source": [
    "__Exercise 1.4:__ Check that the top 2 PCs found by sklearn are orthogonal and have unit norm."
   ]
  },
  {
   "cell_type": "code",
   "execution_count": 15,
   "id": "bdab93fb",
   "metadata": {},
   "outputs": [
    {
     "data": {
      "text/plain": [
       "array([[1.0000000e+00, 3.6429193e-17],\n",
       "       [3.6429193e-17, 1.0000000e+00]])"
      ]
     },
     "execution_count": 15,
     "metadata": {},
     "output_type": "execute_result"
    }
   ],
   "source": [
    "pcs = np.hstack([pca.components_[n][:, None] for n in range(2)])\n",
    "np.dot(pcs.T, pcs)"
   ]
  },
  {
   "cell_type": "markdown",
   "id": "dada2b1a",
   "metadata": {},
   "source": [
    "##### Eigenvalues and eigenvectors\n",
    "\n",
    "So how are the PCs being computed? Let's consider the case of the first PC $w$. Rather than using an optimization algorithm, we'll show that the solution is given exactly in terms of the eigenvectors and eigenvalues of $\\text{Var}(X)$. Let's recall what those are:\n",
    "\n",
    "__Definition__: A vector $v$ and real number $\\lambda$ are an _eigenvector_ and corresponding _eigenvalue_ of a square matrix $M$ if $||v||_2 = 1$ and\n",
    "\n",
    "$$\n",
    "Mv = \\lambda v.\n",
    "$$\n",
    "\n",
    "__Properties__: Eigenvectors and eigenvalues are a central concept in linear algebra with many important properties. Here we recall only those relevant to PCA. Throughout, we assume that $M$ is symmetric and positive definite - which will be the case, for example, when $M$ is a covariance matrix.\n",
    "\n",
    "- The eigenvalues $\\lambda$ are all non-negative.\n",
    "\n",
    "- The eigenvectors are _orthogonal_. That is, if $v_1$ and $v_2$ are eigenvectors of $M$, then $\\langle x_1, x_2 \\rangle = 0$.\n",
    "\n",
    "- The eigenvectors form a _basis_. That is, for _any_ vector $x\\in \\mathbb{R}^d$, we can write \n",
    "\n",
    "$$\n",
    "x = \\sum_{i=1}^d a_i v_i\n",
    "$$\n",
    "\n",
    "where the $a_i$'s are some vector of coefficients. Note that by the two properties above, $||x||_2^2 = ||a||_2^2$.\n",
    "\n",
    "\n",
    "##### The first PC is the top eigenvector of the covariance\n",
    "\n",
    "Now let's return to the problem of finding the top principal component. Recall that we need to solve\n",
    "\n",
    "\\begin{align*}\n",
    "\\text{argmax}_{w \\in \\mathbb{R}^d} &\\ \\ w^T \\text{Var}(X) w \\\\\n",
    "\\text{subject to} &\\ \\ ||w||_2^2 = 1.\n",
    "\\end{align*}\n",
    "\n",
    "Now let $(v_1, ..., v_d)$ be the eigenvectors of $\\text{Var}(X)$, with corresponding eigenvalues $(\\lambda_1, ..., \\lambda_d)$. Recall that we can write _any_ $w$ as $w = \\sum_{i=1}^d a_i v_i$, where the constraint $||x||_2^2 = 1$ is equivalent to  $||a||_2^2 = 1$. Then we can re-write the objective as\n",
    "\n",
    "\\begin{align*}\n",
    "w^T \\text{Var}(X) w &= \\left(\\sum_{i=1}^d a_i v_i\\right)^T \\text{Var}(X) \\left(\\sum_{i=1}^d a_i v_i\\right) \\\\\n",
    "&= \\sum_{i=1}^d a_i^2 v_i^T \\text{Var}(X) v_i \\\\\n",
    "&= \\sum_{i=1}^d a_i^2 v_i^T (\\lambda_i v_i) \\\\\n",
    "&= \\sum_{i=1}^d a_i^2 \\lambda_i ||v_i||_2^2 \\\\\n",
    "&= \\sum_{i=1}^d a_i^2 \\lambda_i,\n",
    "\\end{align*}\n",
    "\n",
    "subject to $||a||_2^2 = 1$. But the $\\lambda_i$ are all non-negative, so the maximum value for this expression simply comes from setting the weight $a_i = 1$, where $i$ corresponds to the largest eigenvalue. This means that the best choice of $w$ is simply the \"top\" eigenvector of $\\text{Var}(X)$, where \"top\" means \"has the largest corresponding eigenvalue.\""
   ]
  },
  {
   "cell_type": "markdown",
   "id": "f2d0432d",
   "metadata": {},
   "source": [
    "__Exercise 1.5:__ Compute the empirical covariance matrix of the fashion MNIST data $X$ by subtracting the column-wise mean and computing\n",
    "\n",
    "$$\n",
    "V_X = \\frac{1}{n} X^TX.\n",
    "$$\n",
    "\n",
    "Then use `np.linalg.eig()` to obtain the eigenvalues and eigenvectors of $V_X$."
   ]
  },
  {
   "cell_type": "code",
   "execution_count": 16,
   "id": "10c81883",
   "metadata": {
    "collapsed": true
   },
   "outputs": [],
   "source": [
    "Xmat_std = (Xmat - np.mean(Xmat, axis=0))\n",
    "Xcov = (1/Xmat_std.shape[0])*np.dot(Xmat_std.T, Xmat_std)\n",
    "\n",
    "evals, evecs = np.linalg.eig(Xcov)"
   ]
  },
  {
   "cell_type": "markdown",
   "id": "bf7c73a6",
   "metadata": {},
   "source": [
    "__Exercise 1.6:__ Find and plot the top eigenvector of $V_X$. Compare this to the top PC found by sklearn."
   ]
  },
  {
   "cell_type": "code",
   "execution_count": 17,
   "id": "0f5afc09",
   "metadata": {
    "collapsed": true
   },
   "outputs": [],
   "source": [
    "pc_order = np.argsort(evals)[::-1] # sort to get top eigenvector"
   ]
  },
  {
   "cell_type": "code",
   "execution_count": 18,
   "id": "cc355a2a",
   "metadata": {},
   "outputs": [
    {
     "data": {
      "image/png": "[encoded data removed]",
      "text/plain": [
       "<Figure size 432x288 with 1 Axes>"
      ]
     },
     "metadata": {
      "needs_background": "light"
     },
     "output_type": "display_data"
    }
   ],
   "source": [
    "plt.imshow(np.reshape(evecs[:, pc_order[0]], (28, -1)));"
   ]
  },
  {
   "cell_type": "code",
   "execution_count": 19,
   "id": "2a79c1a2",
   "metadata": {
    "collapsed": true
   },
   "outputs": [],
   "source": [
    "# get second eigenvector by deflating\n",
    "Xcov_deflate = Xcov - evals[pc_order[0]]*np.outer(evecs[:, pc_order[0]], evecs[:, pc_order[0]])"
   ]
  },
  {
   "cell_type": "code",
   "execution_count": 20,
   "id": "a951c1c5",
   "metadata": {
    "collapsed": true
   },
   "outputs": [],
   "source": [
    "evals_deflate, evecs_deflate = np.linalg.eig(Xcov_deflate)\n",
    "pc_order_deflate = np.argsort(evals_deflate)[::-1] # sort to get top eigenvector"
   ]
  },
  {
   "cell_type": "code",
   "execution_count": 21,
   "id": "196d29eb",
   "metadata": {},
   "outputs": [
    {
     "data": {
      "text/plain": [
       "<matplotlib.image.AxesImage at 0x7f927361df10>"
      ]
     },
     "execution_count": 21,
     "metadata": {},
     "output_type": "execute_result"
    },
    {
     "data": {
      "image/png": "[encoded data removed]",
      "text/plain": [
       "<Figure size 432x288 with 1 Axes>"
      ]
     },
     "metadata": {
      "needs_background": "light"
     },
     "output_type": "display_data"
    }
   ],
   "source": [
    "plt.imshow(np.reshape(evecs_deflate[:, pc_order_deflate[0]], (28, -1)))"
   ]
  },
  {
   "cell_type": "markdown",
   "id": "46288f5e",
   "metadata": {},
   "source": [
    "##### Further considerations\n",
    "\n",
    "    1. Projecting the data onto the top k PCs.\n",
    "\n",
    "\n",
    "Projecting $X$ onto the PC features is straightforward: given PCs $v_1, ..., v_k$, construct the matrix $W \\in \\mathbb{R}^{d\\times k}$ by horizontally stacking the PCs. Project the data by computing\n",
    "\n",
    "$$\n",
    "X_{\\text{Proj}} = XW.\n",
    "$$\n",
    "\n",
    "    2. Selecting the number of PCs.\n",
    "\n",
    "We have already seen an interpretation of the principal components as orthogonal features that explain as much of the variance in the data as possible. The variance explained by each PC $v_i$ is simply the corresponding eigenvalue $\\lambda_i$, and the total variance of the data is given by the sum over all PCs. Therefore, the fraction of variance explained for each PC is\n",
    "\n",
    "$$\n",
    "EV_i = \\frac{\\lambda_i}{\\sum_{i=1}^d \\lambda_i}.\n",
    "$$\n",
    "\n",
    "And the total variance explained by the top $k$ PCs is\n",
    "\n",
    "$$\n",
    "TV_k = \\sum_{i=1}^k EV_i.\n",
    "$$\n",
    "\n",
    "One natural way to select the number of PCs is then to specify a fraction of the total variance we wish to explain (say 90%) and take the number of PCs required to do so."
   ]
  },
  {
   "cell_type": "code",
   "execution_count": 24,
   "id": "0f6de84d",
   "metadata": {
    "collapsed": true
   },
   "outputs": [],
   "source": [
    "# project centered data onto top 3 PCs\n",
    "Xproj = np.dot(Xmat_std, evecs[:, pc_order[:3]])\n",
    "Xproj_sk = PCA(n_components=3).fit_transform(Xmat)"
   ]
  },
  {
   "cell_type": "code",
   "execution_count": 25,
   "id": "ff5e1783",
   "metadata": {},
   "outputs": [
    {
     "data": {
      "text/plain": [
       "array([[-729.77228985, -778.1386881 ,  152.88043515],\n",
       "       [-551.38166372, -886.93568185,  201.8563354 ],\n",
       "       [ 398.81961195, -903.81456119, -163.5984241 ],\n",
       "       [ 863.99296612, -792.04290397, -379.70954419],\n",
       "       [ -52.55069031, -903.69321185,   10.10272991]])"
      ]
     },
     "execution_count": 25,
     "metadata": {},
     "output_type": "execute_result"
    }
   ],
   "source": [
    "Xproj[:5]"
   ]
  },
  {
   "cell_type": "code",
   "execution_count": 26,
   "id": "c460b682",
   "metadata": {},
   "outputs": [
    {
     "data": {
      "text/plain": [
       "array([[ 729.77228985, -778.13868809,  152.88041438],\n",
       "       [ 551.38166372, -886.93568185,  201.85630857],\n",
       "       [-398.81961195, -903.81456116, -163.59840569],\n",
       "       [-863.99296612, -792.04290397, -379.70956108],\n",
       "       [  52.55069031, -903.69321186,   10.10270553]])"
      ]
     },
     "execution_count": 26,
     "metadata": {},
     "output_type": "execute_result"
    }
   ],
   "source": [
    "Xproj_sk[:5] # identification up to sign"
   ]
  },
  {
   "cell_type": "markdown",
   "id": "1c588ec7",
   "metadata": {},
   "source": [
    "__Exercise 1.7:__ Implement a method to compute the variance explained by each PCs, given the eigenvalues of $V_X$. Implement a method to compute the _total_ variance explained by the top $k$ PCs, given the eigenvalues of $V_X$. How many PCs are required to explain 90% of the variance in the fashion MNIST data?\n"
   ]
  },
  {
   "cell_type": "code",
   "execution_count": 27,
   "id": "1290eebc",
   "metadata": {
    "collapsed": true
   },
   "outputs": [],
   "source": [
    "def explained_var(evals, pc_order):\n",
    "    return evals[pc_order] / np.sum(evals[pc_order])\n",
    "\n",
    "def cumulative_explained_var(evals, pc_order):\n",
    "    return np.cumsum(explained_var(evals, pc_order))"
   ]
  },
  {
   "cell_type": "code",
   "execution_count": 28,
   "id": "5c0cdf8f",
   "metadata": {},
   "outputs": [
    {
     "data": {
      "text/plain": [
       "[<matplotlib.lines.Line2D at 0x7f926f2b53d0>]"
      ]
     },
     "execution_count": 28,
     "metadata": {},
     "output_type": "execute_result"
    },
    {
     "data": {
      "image/png": "[encoded data removed]",
      "text/plain": [
       "<Figure size 432x288 with 1 Axes>"
      ]
     },
     "metadata": {
      "needs_background": "light"
     },
     "output_type": "display_data"
    }
   ],
   "source": [
    "cev = cumulative_explained_var(evals, pc_order)\n",
    "plt.plot(cev)"
   ]
  },
  {
   "cell_type": "code",
   "execution_count": 29,
   "id": "037bc4aa",
   "metadata": {},
   "outputs": [
    {
     "data": {
      "text/plain": [
       "81"
      ]
     },
     "execution_count": 29,
     "metadata": {},
     "output_type": "execute_result"
    }
   ],
   "source": [
    "np.sum(cev < 0.9)"
   ]
  },
  {
   "cell_type": "code",
   "execution_count": 30,
   "id": "0ecd2116",
   "metadata": {},
   "outputs": [
    {
     "data": {
      "text/plain": [
       "0.9000257137834111"
      ]
     },
     "execution_count": 30,
     "metadata": {},
     "output_type": "execute_result"
    }
   ],
   "source": [
    "cev[81]"
   ]
  },
  {
   "cell_type": "markdown",
   "id": "b05ebdef",
   "metadata": {
    "collapsed": true
   },
   "source": [
    "## 3. Differential Privacy\n",
    "\n",
    "### 3.1. Terminology and Notation\n",
    "\n",
    "- **Curator:** Data holder, assumed to be trusted. Makes a promise to data subject: \"You will not be affected, adversely or otherwise, by allowing your data to be used in any study or analysis, regardless what other studies, data sets, or information sources, are available.\" \n",
    "- **Data analyst:** Wants to analyze the data, can potentially be an attacker who would like to use the data for malicious purposes.\n",
    "- **Query:** A question, request, or input $x \\in \\mathcal{X}$ made from the data analyst to the curator. **Note**: This does NOT have to be a feature vector (as in machine learning) but often will be.\n",
    "- **Response:** An answer or output $y \\in \\mathcal{Y}$ returned from the curator to the analyst given a query. **Note**: This does NOT have to be a predicted label (as in machine learning) but often will be.\n",
    "- **Mechanism:** A (possibly randomized) function $M_{\\mathcal{D}}: \\mathcal{X} \\rightarrow \\mathcal{Y}$ that produces responses from queries, and depends on an unobserved database $\\mathcal{D}$.\n",
    "- **Neighboring databases:** Two databases (datasets) are called neighboring if they are identical expect for one entry."
   ]
  },
  {
   "cell_type": "markdown",
   "id": "799c6cbf",
   "metadata": {},
   "source": [
    "### 3.2. Surprising Facts\n",
    "\n",
    "1. Data cannot be fully anonymized and remain useful. \n",
    "2. Re-identification is not the only risk.\n",
    "3. Queries over large sets are not protective.\n",
    "4. Query auditing is problematic.\n",
    "5. Summary statistics are not safe.\n",
    "6. \"Ordinary\" facts are not negligible.\n",
    "7. The \"just a few\" philosophy is complex. "
   ]
  },
  {
   "cell_type": "markdown",
   "id": "5700e6cc",
   "metadata": {},
   "source": [
    "### 3.3. Randomized Response\n",
    "\n",
    "What does work? It has been shown that *injecting noise* into the data can actually improve the privacy of a mechanism, where privacy is the degree to which we can guarantee that data subjects will not be harmed by their inclusion in a mechanism. Consider a database whose entries contain answers to the following.\n",
    "\n",
    "**Question:** Have you ever dodged taxes?\n",
    "- Flip a coin.\n",
    "- If heads, answer the question truthfully.\n",
    "- If tails, flip another coin.\n",
    "    - If heads, answer \"Yes\".\n",
    "    - If tails, answer \"No\".\n",
    "    \n",
    "Intuitively, this gives any participant plausible deniability if someone ever found out that their answer was \"Yes\", thereby preventing a certain amount of harm from coming to them. Let's formalize this."
   ]
  },
  {
   "cell_type": "markdown",
   "id": "35c7562f",
   "metadata": {},
   "source": [
    "It may be known by an attacker that the response $y \\in \\{\\text{\"Yes\"}, \\text{\"No\"}\\}$ to query $x = \\text{Bob's participant ID}$ contains Bob's answer to the question. Bob answered \"Yes\", and Bob will be investigated if his probability of dodging taxes is high. Let the prior probability (as estimated by Tammy the tax investigator) of Bob dodging be\n",
    "$$\n",
    "\\mathbb{P}(\\text{dodge}) = 0.02\n",
    "$$\n",
    "Based on the set up, we have the probabilities of answers given whether the participant dodged or not is\n",
    "$$\n",
    "\\begin{align*}\n",
    "\\mathbb{P}(\\text{\"Yes\"} \\mid \\text{dodge}) &= \\frac{3}{4}\\\\\n",
    "\\mathbb{P}(\\text{\"No\"} \\mid \\text{dodge}) &= \\frac{1}{4}\\\\\n",
    "\\mathbb{P}(\\text{\"Yes\"} \\mid \\text{no dodge}) &= \\frac{1}{4}\\\\\n",
    "\\mathbb{P}(\\text{\"No\"} \\mid \\text{dodge}) &= \\frac{3}{4}\n",
    "\\end{align*}\n",
    "$$\n",
    "**Exercise 3.1:** Verify the probabilities above on your own."
   ]
  },
  {
   "cell_type": "markdown",
   "id": "5e041f8a",
   "metadata": {},
   "source": [
    "By Bayes' Rule, it can be shown that\n",
    "$$\n",
    "\\mathbb{P}(\\text{dodge} \\mid \\text{\"Yes\"}) = 0.058\n",
    "$$\n",
    "By some measure, Tammy's beliefs have not shifted too much after noticing that Bob answered \"Yes\". Thus, Bob is protected in a sense by participating in the survey. There is merit to injecting randomness into the responses.\n",
    "\n",
    "**Exercise 3.2:** Verify the probability above on your own via Bayes' Rule."
   ]
  },
  {
   "cell_type": "markdown",
   "id": "c8cff75c",
   "metadata": {},
   "source": [
    "$$\n",
    "\\mathbb{P}(\\text{dodge} \\mid \\text{\"Yes\"}) = \\frac{\\mathbb{P}(\\text{\"Yes\"} \\mid \\text{dodge}) * \\mathbb{P}(\\text{dodge})}{ \\mathbb{P}(\\text{\"Yes\"} \\mid \\text{dodge}) * \\mathbb{P}(\\text{dodge}) + \\mathbb{P}(\\text{\"Yes\"} \\mid \\text{no dodge}) * \\mathbb{P}(\\text{no dodge}) } = \\frac{0.75 * 0.02}{0.75 * 0.02 + 0.25 * 0.98} = 0.02\n",
    "$$"
   ]
  },
  {
   "cell_type": "markdown",
   "id": "277af720",
   "metadata": {},
   "source": [
    "### 3.4. Definition of Differential Privacy\n",
    "\n",
    "We saw in the above example that privacy was achieved when probabilities surrounding a response did not shift by too by virtue of a single data point. A *mechanism* is called $\\epsilon$-**differentially private** if for any query $x$, any set of responses $\\mathcal{R} \\subseteq \\mathcal{Y}$, and any neighboring databases $\\mathcal{D}_1$ and $\\mathcal{D}_2$,\n",
    "$$\n",
    "\\mathbb{P}\\left(M_{\\mathcal{D_1}}(x) \\in \\mathcal{R}\\right) \\leq \\text{exp}(\\epsilon) \\cdot \\mathbb{P}\\left(M_{\\mathcal{D_2}}(x) \\in \\mathcal{R}\\right).\n",
    "$$\n",
    "This probability is taken over the randomness of the mechanism $M$. In other words,\n",
    "$$\n",
    "\\text{exp}(-\\epsilon) \\leq \\frac{\\mathbb{P}\\left(M_{\\mathcal{D_1}}(x) \\in \\mathcal{R}\\right)}{\\mathbb{P}\\left(M_{\\mathcal{D_2}}(x) \\in \\mathcal{R}\\right)} \\leq \\text{exp}(\\epsilon)\n",
    "$$\n",
    "or\n",
    "$$\n",
    "-\\epsilon \\leq \\log \\mathbb{P}\\left(M_{\\mathcal{D_1}}(x) \\in \\mathcal{R}\\right) - \\log \\mathbb{P}\\left(M_{\\mathcal{D_2}}(x) \\in \\mathcal{R}\\right) \\leq \\epsilon.\n",
    "$$\n",
    "![norms](img/diff_privacy.png)"
   ]
  },
  {
   "cell_type": "markdown",
   "id": "5202945a",
   "metadata": {},
   "source": [
    "### 3.5. Gaussian Mechanism\n",
    "\n",
    "As seen before, differential privacy can be achieved by *injecting noise* into the response for a given query. The idea is that if responses have some amount of noise, it is harder to use these responses to identify whether a certain datapoint was used coming up with the response. To understand this phenomenon, first we will implement a checker that inspects whether a mechanism is differentially private by simulation."
   ]
  },
  {
   "cell_type": "code",
   "execution_count": 1,
   "id": "13fa9a28",
   "metadata": {
    "collapsed": true
   },
   "outputs": [],
   "source": [
    "import numpy as np\n",
    "from abc import ABC, abstractmethod\n",
    "from sklearn.linear_model import LogisticRegression"
   ]
  },
  {
   "cell_type": "code",
   "execution_count": 2,
   "id": "28ca073b",
   "metadata": {
    "collapsed": true
   },
   "outputs": [],
   "source": [
    "class Mechanism:\n",
    "    \n",
    "    @abstractmethod\n",
    "    def __init__(self, database, **kwargs):\n",
    "        pass\n",
    "    \n",
    "    @abstractmethod\n",
    "    def respond(query):\n",
    "        pass"
   ]
  },
  {
   "cell_type": "markdown",
   "id": "225fa4c2",
   "metadata": {},
   "source": [
    "Our setup is as follows. The database $\\mathcal{D} = (x_1, y_1), ..., (x_n, y_n)$ contains i.i.d. draws from from the following distribution on $(x, y)$.\n",
    "$$\n",
    "\\begin{align*}\n",
    "x &\\sim \\mathcal{N}(0, 1)\\\\\n",
    "y \\mid x &= \\begin{cases}\n",
    "1 &\\text{ if } x > 0\\\\\n",
    "0 &\\text{ if } x \\leq 0\n",
    "\\end{cases}\n",
    "\\end{align*}\n",
    "$$\n",
    "The mechanism $M_{\\mathcal{D}}$ trains a logistic regression model $(\\hat{\\beta}_0, \\hat{\\beta}_1)$ on $\\mathcal{D}$, and then predicts using\n",
    "$$\n",
    "\\hat{p}(y=1\\mid x) = \\frac{1}{1 + \\text{exp}\\left(\\hat{\\beta}_1 \\cdot x + \\hat{\\beta}_0\\right)}\n",
    "$$"
   ]
  },
  {
   "cell_type": "markdown",
   "id": "17875549",
   "metadata": {},
   "source": [
    "The **Gaussian mechanism** will be our first attempt at injecting noise to achieve privacy. Before going through the sigmoid function, we will add a random variable $\\epsilon \\sim \\mathcal{N}(0, \\sigma^2)$ to the logits, and return\n",
    "$$\n",
    "\\hat{p}_{\\text{DP}}(y=1\\mid x) = \\frac{1}{1 + \\text{exp}\\left(\\hat{\\beta}_1 \\cdot x + \\hat{\\beta}_0 + \\epsilon\\right)}\n",
    "$$\n",
    "We have yet to see whether this will actually achieve the definition."
   ]
  },
  {
   "cell_type": "markdown",
   "id": "6a79874c",
   "metadata": {},
   "source": [
    "**Exercise 3.3:** Implement the `GaussienMechanism` below."
   ]
  },
  {
   "cell_type": "code",
   "execution_count": 10,
   "id": "eb4f6a04",
   "metadata": {
    "collapsed": true
   },
   "outputs": [],
   "source": [
    "class GaussianMechanism(Mechanism):\n",
    "    \n",
    "    def __init__(self, database, sigma2):\n",
    "        X, y = database\n",
    "        self.model = LogisticRegression().fit(X, y)\n",
    "        self.sigma2 = sigma2 # Parameter for noise.\n",
    "        \n",
    "    def respond(self, query):\n",
    "        \"\"\"\n",
    "        'query' is a numpy.ndarray that contains one feature vector. \n",
    "        Return the label after having applied the Gaussian Mechanism.\n",
    "        \"\"\"\n",
    "        ## Solution:\n",
    "        x = query + np.sqrt(self.sigma2) * np.random.normal()\n",
    "        y = self.model.predict(x.reshape(1, -1))[0]\n",
    "        ##\n",
    "        return y"
   ]
  },
  {
   "cell_type": "code",
   "execution_count": 11,
   "id": "8eb6de59",
   "metadata": {},
   "outputs": [
    {
     "data": {
      "text/plain": [
       "1"
      ]
     },
     "execution_count": 11,
     "metadata": {},
     "output_type": "execute_result"
    }
   ],
   "source": [
    "np.random.seed(1234)\n",
    "\n",
    "n = 100\n",
    "\n",
    "X = np.random.normal(size=(n, 1))\n",
    "y = (X > 0).reshape((n,)).astype(int)\n",
    "\n",
    "database = (X, y)\n",
    "sigma2 = 0.49\n",
    "\n",
    "gm1 = GaussianMechanism(database, sigma2)\n",
    "\n",
    "query = 0.001\n",
    "gm1.respond(query)"
   ]
  },
  {
   "cell_type": "markdown",
   "id": "dd8c4148",
   "metadata": {},
   "source": [
    "**Exercise 3.4.** Implement a simulation-based differential privacy checker to check whether a mechanism is differentially private. \n",
    "\n",
    "**Note:** In this setting it is only computationally feasible to decide whether a mechanism is decidedly not differentially private or that it is unknown. Here, we check the condition for one particular instance of $x$, $\\mathcal{D}_1$, and $\\mathcal{D}_2$."
   ]
  },
  {
   "cell_type": "code",
   "execution_count": 12,
   "id": "c1bef056",
   "metadata": {
    "collapsed": true
   },
   "outputs": [],
   "source": [
    "def is_in_response_region(y):\n",
    "    return y == 1\n",
    "\n",
    "def check_differentially_private(epsilon, mechanism1, mechanism2, query, is_in_response_region, num_sims=1000):\n",
    "    \n",
    "    y1 = []\n",
    "    y2 = []\n",
    "    for i in range(num_sims):\n",
    "        # Collect responses of each mechanism into 'y1' and 'y2'.\n",
    "        ## Solution:\n",
    "        y1.append(mechanism1.respond(query))\n",
    "        y2.append(mechanism2.respond(query))\n",
    "        ##\n",
    "       \n",
    "    # Compute probability that the responses are in the response region.\n",
    "    ## Solution:\n",
    "    prob1 = is_in_response_region(np.array(y1)).sum() / num_sims\n",
    "    prob2 = is_in_response_region(np.array(y2)).sum() / num_sims\n",
    "    ##\n",
    "    \n",
    "    # Check definition, and set to Boolean below.\n",
    "    ## Solution:\n",
    "    is_differentially_private = (prob1 <= np.exp(epsilon) * prob2)   \n",
    "    ##\n",
    "    \n",
    "    return is_differentially_private"
   ]
  },
  {
   "cell_type": "code",
   "execution_count": 13,
   "id": "fb6ffd26",
   "metadata": {},
   "outputs": [
    {
     "data": {
      "text/plain": [
       "False"
      ]
     },
     "execution_count": 13,
     "metadata": {},
     "output_type": "execute_result"
    }
   ],
   "source": [
    "np.random.seed(1234)\n",
    "\n",
    "X2, y2 = X.copy(), y.copy()\n",
    "\n",
    "X2[0, 0] = 1 - X[0, 0]\n",
    "\n",
    "gm2 = GaussianMechanism((X2, y2), sigma2)\n",
    "epsilon = 0.001\n",
    "\n",
    "\n",
    "# Should be False.\n",
    "check_differentially_private(epsilon, gm1, gm2, query, is_in_response_region)"
   ]
  },
  {
   "cell_type": "markdown",
   "id": "22340838",
   "metadata": {},
   "source": [
    "Clearly, it is not true that *any* noise will work. \n",
    "![norms](img/gaussian.png)\n",
    "Moreover, checking the defining condition by simulation can be difficult, and enumeration is computationally intensive. Luckily, there are mechanisms that are provably differentially private. "
   ]
  },
  {
   "cell_type": "markdown",
   "id": "4fb9088f",
   "metadata": {},
   "source": [
    "### 3.6. Laplace Mechanism"
   ]
  },
  {
   "cell_type": "markdown",
   "id": "87985ef0",
   "metadata": {},
   "source": [
    "The **Laplave mechanism** is similar to the above, except $\\epsilon \\sim \\text{Laplace}(0, b)$, with probability density function given by:\n",
    "$$\n",
    "f(\\epsilon; b) = \\frac{1}{2b}\\exp\\left(-\\frac{|\\epsilon|}{b}\\right)\n",
    "$$\n",
    "![norms](img/laplace.png)"
   ]
  },
  {
   "cell_type": "markdown",
   "id": "347143f8",
   "metadata": {},
   "source": [
    "**Exercise 3.5:** Implement the Laplace mechanism above."
   ]
  },
  {
   "cell_type": "code",
   "execution_count": 17,
   "id": "bfa3fa69",
   "metadata": {
    "collapsed": true
   },
   "outputs": [],
   "source": [
    "class LaplaceMechanism(Mechanism):\n",
    "    \n",
    "    def __init__(self, database, scale):\n",
    "        X, y = database\n",
    "        self.model = LogisticRegression().fit(X, y)\n",
    "        self.scale = scale # Parameter for noise.\n",
    "        \n",
    "    def respond(self, query):\n",
    "        ## Solution:\n",
    "        x = query + np.random.laplace(scale=self.scale)\n",
    "        y = self.model.predict(np.array([x]).reshape(1, -1))[0]\n",
    "        ##\n",
    "        return y"
   ]
  },
  {
   "cell_type": "code",
   "execution_count": 18,
   "id": "6cc92bd0",
   "metadata": {},
   "outputs": [
    {
     "data": {
      "text/plain": [
       "True"
      ]
     },
     "execution_count": 18,
     "metadata": {},
     "output_type": "execute_result"
    }
   ],
   "source": [
    "scale = 0.7\n",
    "\n",
    "lm1 = LaplaceMechanism((X, y), scale)\n",
    "lm2 = LaplaceMechanism((X2, y2), scale)\n",
    "\n",
    "# Should be True.\n",
    "check_differentially_private(epsilon, lm1, lm2, query, is_in_response_region)"
   ]
  },
  {
   "cell_type": "markdown",
   "id": "9fa50cd8",
   "metadata": {},
   "source": [
    "Even at the same amount of variance, the Laplace mechanism did not fail the check, while the Gaussian mechanism did."
   ]
  },
  {
   "cell_type": "code",
   "execution_count": null,
   "id": "20e4b14e",
   "metadata": {
    "collapsed": true
   },
   "outputs": [],
   "source": []
  }
 ],
 "metadata": {
  "kernelspec": {
   "display_name": "Python 3",
   "language": "python",
   "name": "python3"
  },
  "language_info": {
   "codemirror_mode": {
    "name": "ipython",
    "version": 3
   },
   "file_extension": ".py",
   "mimetype": "text/x-python",
   "name": "python",
   "nbconvert_exporter": "python",
   "pygments_lexer": "ipython3",
   "version": "3.7.10"
  }
 },
 "nbformat": 4,
 "nbformat_minor": 5
}
