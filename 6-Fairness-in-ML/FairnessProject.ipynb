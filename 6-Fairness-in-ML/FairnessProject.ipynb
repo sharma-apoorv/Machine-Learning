{
 "cells": [
  {
   "cell_type": "markdown",
   "id": "fourth-sacrifice",
   "metadata": {},
   "source": [
    "# <center>Data Science Project Part 2:  Fairness </center>\n",
    "<center>DATA 558, Spring 2021</center>\n",
    "<center>TAs: Alec Greaves-Tunnell and Ronak Mehta</center>\n"
   ]
  },
  {
   "cell_type": "markdown",
   "id": "known-notice",
   "metadata": {},
   "source": [
    "## Instructions\n",
    "\n",
    "Welcome back to the DATA 558 project! Let's begin with a brief reminder of the format: each week, you will receive a notebook containing a data analysis involving the Animals with Attributes 2 (AwA2) dataset. The notebook will claim to meet some statistical or machine learning criterion relevant to the week's lecture topic. Your goal is to investigate and critique this analysis.\n",
    "\n",
    "__Objective__: This notebook claims to implement a new method for classification of the AwA2 animals that is fair with respect to a given attribute. There are no mistakes in the syntax; each cell runs and returns a plausible result. However, there are several mistakes from a statistical and conceptual perspective. Working with your partner, you are expected to provide (1) a list of these mistakes and (2) a justification for why each item you list in (1) is a mistake. Justification can take many forms, including but not limited to a __detailed comment__, a __code example showing the problem__, or (perhaps simplest in some cases) a __direct fix of the code and demonstration that the problem is resolved__.\n",
    "\n",
    "\n",
    "__Deliverable__: Please submit to Gradescope __a copy of this notebook with your findings and comments__. Please use the cell below to summarize the mistakes you found. That is, for each mistake, write a (short) indication of what the mistake is and where you found it. For every item in this summary, you are expected to provide a matching justification in the notebook with the same label - e.g. for mistake `A`, include in the notebook a justification (again, this may be a comment, code block, etc.) at the location where this mistake is made, also labeled `A`.\n",
    "\n"
   ]
  },
  {
   "cell_type": "markdown",
   "id": "desirable-print",
   "metadata": {},
   "source": [
    "#### Name: Apoorv Sharma\n",
    "#### Partner: Leena Elamrawy\t\n",
    "#### Summary of findings:\n",
    "\n",
    "    A: The `FairClassifier` is being evaluated on the training set. It should be evaluated on the test set. \n",
    "\n",
    "    B: Equal Odds fariness criterion fails for the `FairClassifier`\n",
    "    \n",
    "    C: The testset should be used to predict the performance of the model for `DefinitelyFairModel`\n",
    "    \n",
    "    D: Use of `balanced_accuracy_score` instead of `r2_score`\n",
    "    \n",
    "    E: `FairClassifier` is an unfair classifier\n",
    "    \n",
    "    F: `DefinitelyFairClassifier` is a more fair model "
   ]
  },
  {
   "cell_type": "code",
   "execution_count": 99,
   "id": "phantom-industry",
   "metadata": {},
   "outputs": [],
   "source": [
    "import copy\n",
    "import pickle\n",
    "import numpy as np\n",
    "import pandas as pd\n",
    "\n",
    "import matplotlib.pyplot as plt\n",
    "\n",
    "from sklearn.linear_model import LogisticRegression\n",
    "from sklearn.tree import DecisionTreeClassifier\n",
    "from sklearn.metrics import r2_score, plot_roc_curve, roc_auc_score, balanced_accuracy_score, confusion_matrix\n",
    "from sklearn.model_selection import train_test_split\n",
    "\n",
    "from fairlearn.metrics import equalized_odds_difference, demographic_parity_difference"
   ]
  },
  {
   "cell_type": "markdown",
   "id": "rubber-purpose",
   "metadata": {},
   "source": [
    "## Dataset: Animals with Attributes v2\n",
    "\n",
    "The data consists of $n=5000$ examples from the `Animals with Attributes 2` dataset. In particular we have:\n",
    "\n",
    "- $X \\in \\mathbb{R}^{n\\times d}$, a $d=128$ dimensional random projection of the image data\n",
    "- $Y \\in \\{0,1\\}^n$, a binary label indicating whether the animal has the `paws` attribute\n",
    "- $A \\in \\{0,1\\}^n$, a binary label indicating whether the animal has the `cave` attribute\n",
    "\n",
    "Our goal is to train a model to predict whether an animal has `paws` from the projected image data, in such a way that is fair with respect to whether or not the animal lives in a `cave`."
   ]
  },
  {
   "cell_type": "code",
   "execution_count": 100,
   "id": "comparable-purse",
   "metadata": {},
   "outputs": [],
   "source": [
    "data = pickle.load(open(\"fairness_data.pkl\", \"rb\"))\n",
    "\n",
    "X = data['X']\n",
    "y = data['y']\n",
    "A = data['A'] # Sensitive attribute\n",
    "A_str = pd.DataFrame(A)[0].map({0: 'No cave', 1: 'Cave'})"
   ]
  },
  {
   "cell_type": "code",
   "execution_count": 101,
   "id": "instrumental-reputation",
   "metadata": {},
   "outputs": [],
   "source": [
    "X_train, X_test, y_train, y_test, A_train, A_test = train_test_split(X, \n",
    "                                                                  y, \n",
    "                                                                  A, \n",
    "                                                                  test_size = 0.2, \n",
    "                                                                  random_state=12345,\n",
    "                                                                  stratify=y) #preserves the same proportions of examples in each class as observed in the original dataset"
   ]
  },
  {
   "cell_type": "markdown",
   "id": "faced-attention",
   "metadata": {},
   "source": [
    "The analysis you are expected to critique begins below."
   ]
  },
  {
   "cell_type": "markdown",
   "id": "portable-begin",
   "metadata": {},
   "source": [
    "## A first pass at fairness\n",
    "\n",
    "You are joined on this project by a colleague, a budding machine learning scientist who dreams of developing the next great method in ML. After some initial data exploration, they report a simple finding:"
   ]
  },
  {
   "cell_type": "code",
   "execution_count": 102,
   "id": "gorgeous-brake",
   "metadata": {},
   "outputs": [
    {
     "data": {
      "text/plain": [
       "0    0.9345\n",
       "1    0.0655\n",
       "dtype: float64"
      ]
     },
     "execution_count": 102,
     "metadata": {},
     "output_type": "execute_result"
    }
   ],
   "source": [
    "pd.DataFrame(A_train).value_counts(normalize=True)"
   ]
  },
  {
   "cell_type": "markdown",
   "id": "normal-fifty",
   "metadata": {},
   "source": [
    "\"Hardly any animals in this dataset actually live in caves! I think we can do better if we focus the modeling effort on the non-cave animals. But don't worry, I also know how to make the model completely fair in terms of its predictions.\"\n",
    "\n",
    "Some time later they return with the following implementation:"
   ]
  },
  {
   "cell_type": "code",
   "execution_count": 103,
   "id": "aboriginal-arthritis",
   "metadata": {},
   "outputs": [],
   "source": [
    "class FairClassifier:\n",
    "    def __init__(self, clf):\n",
    "        self.base_clf = clf\n",
    "        \n",
    "    def fit(self, X, y, A):\n",
    "        counter = pd.DataFrame(A).value_counts()\n",
    "        self.a = counter.index[0][counter.argmax()] #focus just on non-cave animals\n",
    "        self.maj_clf = self.base_clf.fit(X[A==self.a], y[A==self.a]) #re-train model with non-cave animals\n",
    "        self.pos_prob = np.mean(self.base_clf.predict(X[A==self.a]))\n",
    "        \n",
    "    def predict(self, X, A):\n",
    "        preds = np.zeros(X.shape[0])\n",
    "        preds[A==self.a] = self.base_clf.predict(X[A==self.a])\n",
    "        preds[A!=self.a] = np.random.binomial(1, \n",
    "                                              self.pos_prob,\n",
    "                                              size=len(preds[A!=self.a]))\n",
    "        return preds"
   ]
  },
  {
   "cell_type": "code",
   "execution_count": 104,
   "id": "figured-middle",
   "metadata": {},
   "outputs": [
    {
     "name": "stdout",
     "output_type": "stream",
     "text": [
      "The probability of predicting 1 is: 0.44141252006420545\n"
     ]
    }
   ],
   "source": [
    "clf = DecisionTreeClassifier(max_depth=64)\n",
    "fc = FairClassifier(clf)\n",
    "\n",
    "fc.fit(X_train, y_train, A_train)\n",
    "\n",
    "\n",
    "# What is the actual probability of predicting a positive ?\n",
    "print(f'The probability of predicting 1 is: {fc.pos_prob}')"
   ]
  },
  {
   "cell_type": "markdown",
   "id": "little-alignment",
   "metadata": {},
   "source": [
    "First, they demonstrate that the classifier achieves a satisfactory level of predictive accuracy:"
   ]
  },
  {
   "cell_type": "markdown",
   "id": "fcc08cae",
   "metadata": {},
   "source": [
    "## Finding A\n",
    "\n",
    "The `FairClassifier` is being evaluated on the training set. It should be evaluated on the test set. "
   ]
  },
  {
   "cell_type": "code",
   "execution_count": 105,
   "id": "original-convertible",
   "metadata": {},
   "outputs": [],
   "source": [
    "'''\n",
    "It represents the proportion of variance (of y) that has been explained by the \n",
    "independent variables in the model. \n",
    "It provides an indication of goodness of fit and therefore a measure of how well \n",
    "unseen samples are likely to be predicted by the model, \n",
    "through the proportion of explained variance.\n",
    "'''\n",
    "\n",
    "preds_train = fc.predict(X_train, A_train) #Finding A - Mistake\n",
    "preds_test = fc.predict(X_test, A_test) #Finding A - Correction"
   ]
  },
  {
   "cell_type": "markdown",
   "id": "ba2de1ff",
   "metadata": {},
   "source": [
    "## Finding D"
   ]
  },
  {
   "cell_type": "code",
   "execution_count": 106,
   "id": "0afd856c",
   "metadata": {},
   "outputs": [
    {
     "name": "stdout",
     "output_type": "stream",
     "text": [
      "r2 score: -5.444259965386726\n",
      "balanced accuracy: 0.5019206145966709\n"
     ]
    }
   ],
   "source": [
    "print(f'r2 score: {r2_score(A_test, preds_test)}') #Finding D - Mistake\n",
    "print(f'balanced accuracy: {balanced_accuracy_score(A_test, preds_test)}') #Finding - Correction"
   ]
  },
  {
   "cell_type": "markdown",
   "id": "owned-absence",
   "metadata": {},
   "source": [
    "Next, they argue that the method is fair via the following analysis:"
   ]
  },
  {
   "cell_type": "code",
   "execution_count": 107,
   "id": "danish-uruguay",
   "metadata": {},
   "outputs": [
    {
     "data": {
      "text/html": [
       "<div>\n",
       "<style scoped>\n",
       "    .dataframe tbody tr th:only-of-type {\n",
       "        vertical-align: middle;\n",
       "    }\n",
       "\n",
       "    .dataframe tbody tr th {\n",
       "        vertical-align: top;\n",
       "    }\n",
       "\n",
       "    .dataframe thead th {\n",
       "        text-align: right;\n",
       "    }\n",
       "</style>\n",
       "<table border=\"1\" class=\"dataframe\">\n",
       "  <thead>\n",
       "    <tr style=\"text-align: right;\">\n",
       "      <th></th>\n",
       "      <th>No cave</th>\n",
       "      <th>Cave</th>\n",
       "    </tr>\n",
       "  </thead>\n",
       "  <tbody>\n",
       "    <tr>\n",
       "      <th>Prediction rate</th>\n",
       "      <td>0.450704</td>\n",
       "      <td>0.454545</td>\n",
       "    </tr>\n",
       "  </tbody>\n",
       "</table>\n",
       "</div>"
      ],
      "text/plain": [
       "                  No cave      Cave\n",
       "Prediction rate  0.450704  0.454545"
      ]
     },
     "execution_count": 107,
     "metadata": {},
     "output_type": "execute_result"
    }
   ],
   "source": [
    "# pos_rates = pd.DataFrame({a: [np.mean(preds[A_train==a])] for a in np.unique(A_train)}) #Finding A - Mistake\n",
    "pos_rates = pd.DataFrame({a: [np.mean(preds_test[A_test==a])] for a in np.unique(A_test)}) #Finding A - Correction\n",
    "pos_rates.columns = A_str.unique()\n",
    "pos_rates.index = ['Prediction rate']\n",
    "pos_rates"
   ]
  },
  {
   "cell_type": "code",
   "execution_count": 108,
   "id": "copyrighted-doubt",
   "metadata": {},
   "outputs": [
    {
     "data": {
      "text/plain": [
       "0.003841229193341844"
      ]
     },
     "execution_count": 108,
     "metadata": {},
     "output_type": "execute_result"
    }
   ],
   "source": [
    "# demographic_parity_difference(y_train, preds, sensitive_features=A_train)\n",
    "demographic_parity_difference(y_test, preds_test, sensitive_features=A_test)"
   ]
  },
  {
   "cell_type": "markdown",
   "id": "8e498f50",
   "metadata": {},
   "source": [
    "## Finding E\n",
    "\n",
    "`FairClassifier` is an unfair classifier"
   ]
  },
  {
   "cell_type": "markdown",
   "id": "alert-robert",
   "metadata": {},
   "source": [
    "Are you impressed by the `FairClassifier` scheme?"
   ]
  },
  {
   "cell_type": "markdown",
   "id": "b77cc3da",
   "metadata": {},
   "source": [
    "This FairClassifier class is an example that is trying to satisfy the Demographic Parity fairness criterion. \n",
    "\n",
    "After the corrections made using Finding A, it can be seen that the classifier has unequal performance across the various sub-groups in the data. Moreover, the method that has been applied is very trival. Since the same probability is applied to the rest of the sub-groups, if there were more sub-groups, the model could be potentially a lot worse"
   ]
  },
  {
   "cell_type": "markdown",
   "id": "d822d31d",
   "metadata": {},
   "source": [
    "## Finding B\n",
    "\n",
    "Eventhough the demography parity is somewhat satisifed, this specific classifer fail the equal odds fairness criterion. This is illustrated by the equal odds table presented below. The TPR and FPR rates for A=0, are significantly different!"
   ]
  },
  {
   "cell_type": "code",
   "execution_count": 109,
   "id": "c33f41bd",
   "metadata": {},
   "outputs": [],
   "source": [
    "def demo_parity_table(preds, A):\n",
    "    attr_probs = {a : preds[A==a].mean() for a in np.unique(A)}\n",
    "    return pd.DataFrame({'P(f(X)=1 | A=a)': attr_probs, 'P(f(X)=1)' : preds.mean()}).T\n",
    "\n",
    "def eq_odds_table(preds, A, Y):\n",
    "    res = {}\n",
    "    for a in np.unique(A):\n",
    "        a_ix = A==a\n",
    "        preds_a = preds[a_ix]\n",
    "        Y_a = Y[a_ix]\n",
    "        \n",
    "        res[a] = {'TPR' : np.mean(Y_a * preds_a)/np.mean(Y_a),\n",
    "                  'FPR': np.mean((1-Y_a)*preds_a)/np.mean(1-Y_a)}\n",
    "    return pd.DataFrame(res)"
   ]
  },
  {
   "cell_type": "code",
   "execution_count": 110,
   "id": "a5b82596",
   "metadata": {},
   "outputs": [
    {
     "data": {
      "text/html": [
       "<div>\n",
       "<style scoped>\n",
       "    .dataframe tbody tr th:only-of-type {\n",
       "        vertical-align: middle;\n",
       "    }\n",
       "\n",
       "    .dataframe tbody tr th {\n",
       "        vertical-align: top;\n",
       "    }\n",
       "\n",
       "    .dataframe thead th {\n",
       "        text-align: right;\n",
       "    }\n",
       "</style>\n",
       "<table border=\"1\" class=\"dataframe\">\n",
       "  <thead>\n",
       "    <tr style=\"text-align: right;\">\n",
       "      <th></th>\n",
       "      <th>0</th>\n",
       "      <th>1</th>\n",
       "    </tr>\n",
       "  </thead>\n",
       "  <tbody>\n",
       "    <tr>\n",
       "      <th>P(f(X)=1 | A=a)</th>\n",
       "      <td>0.450704</td>\n",
       "      <td>0.454545</td>\n",
       "    </tr>\n",
       "    <tr>\n",
       "      <th>P(f(X)=1)</th>\n",
       "      <td>0.451000</td>\n",
       "      <td>0.451000</td>\n",
       "    </tr>\n",
       "  </tbody>\n",
       "</table>\n",
       "</div>"
      ],
      "text/plain": [
       "                        0         1\n",
       "P(f(X)=1 | A=a)  0.450704  0.454545\n",
       "P(f(X)=1)        0.451000  0.451000"
      ]
     },
     "execution_count": 110,
     "metadata": {},
     "output_type": "execute_result"
    }
   ],
   "source": [
    "dpt = demo_parity_table(preds_test, A_test)\n",
    "dpt"
   ]
  },
  {
   "cell_type": "code",
   "execution_count": 111,
   "id": "f3ed8310",
   "metadata": {},
   "outputs": [
    {
     "data": {
      "text/html": [
       "<div>\n",
       "<style scoped>\n",
       "    .dataframe tbody tr th:only-of-type {\n",
       "        vertical-align: middle;\n",
       "    }\n",
       "\n",
       "    .dataframe tbody tr th {\n",
       "        vertical-align: top;\n",
       "    }\n",
       "\n",
       "    .dataframe thead th {\n",
       "        text-align: right;\n",
       "    }\n",
       "</style>\n",
       "<table border=\"1\" class=\"dataframe\">\n",
       "  <thead>\n",
       "    <tr style=\"text-align: right;\">\n",
       "      <th></th>\n",
       "      <th>0</th>\n",
       "      <th>1</th>\n",
       "    </tr>\n",
       "  </thead>\n",
       "  <tbody>\n",
       "    <tr>\n",
       "      <th>TPR</th>\n",
       "      <td>0.804455</td>\n",
       "      <td>0.467742</td>\n",
       "    </tr>\n",
       "    <tr>\n",
       "      <th>FPR</th>\n",
       "      <td>0.175337</td>\n",
       "      <td>0.400000</td>\n",
       "    </tr>\n",
       "  </tbody>\n",
       "</table>\n",
       "</div>"
      ],
      "text/plain": [
       "            0         1\n",
       "TPR  0.804455  0.467742\n",
       "FPR  0.175337  0.400000"
      ]
     },
     "execution_count": 111,
     "metadata": {},
     "output_type": "execute_result"
    }
   ],
   "source": [
    "eot = eq_odds_table(preds_test, A_test, y_test)\n",
    "eot"
   ]
  },
  {
   "cell_type": "code",
   "execution_count": 112,
   "id": "17453693",
   "metadata": {},
   "outputs": [],
   "source": [
    "def attr_ROC_curves(cls, X, A, Y, tau_range = np.linspace(0,1,51)):\n",
    "    ## <YOUR CODE HERE>\n",
    "    res = {}\n",
    "    all_probs = cls.predict_proba(X)[:, 1]\n",
    "    for a in np.unique(A):\n",
    "        res[a] = []\n",
    "        prob_a = all_probs[A==a]\n",
    "        Ya = Y[A==a]\n",
    "        for t in tau_range:\n",
    "            pred = prob_a > t\n",
    "            res[a] += [(np.mean(pred[Ya==0]), np.mean(pred[Ya==1]))] \n",
    "    return tau_range, res"
   ]
  },
  {
   "cell_type": "code",
   "execution_count": 113,
   "id": "5908d189",
   "metadata": {},
   "outputs": [
    {
     "data": {
      "image/png": "[encoded data removed]",
      "text/plain": [
       "<Figure size 432x288 with 1 Axes>"
      ]
     },
     "metadata": {
      "needs_background": "light"
     },
     "output_type": "display_data"
    }
   ],
   "source": [
    "taus, roc = attr_ROC_curves(clf, X_train, A_train, y_train)\n",
    "\n",
    "for a in roc.keys():\n",
    "    fp = [x[0] for x in roc[a]]\n",
    "    tp = [x[1] for x in roc[a]]\n",
    "    \n",
    "    plt.plot(fp, tp, label=a)\n",
    "    ix = np.argmin(np.abs(taus-y_train.mean())) # decision threshold\n",
    "    plt.plot(fp[ix], tp[ix], 'kx')\n",
    "    \n",
    "plt.xlabel('False Positive Rate')\n",
    "plt.ylabel('True Positive Rate')\n",
    "plt.legend();"
   ]
  },
  {
   "cell_type": "markdown",
   "id": "bronze-discharge",
   "metadata": {},
   "source": [
    "## A new idea for fair classification\n",
    "\n",
    "After a blissfully uninterrupted afternoon of data science, your colleague bursts back into your office with a new and improved method:\n",
    "\n",
    "\"It's obvious that the best way to achieve fairness is to fit a model to each group - by minimizing the train error for each group separately, we guarantee that each group gets the best performance possible!\" "
   ]
  },
  {
   "cell_type": "code",
   "execution_count": 114,
   "id": "cheap-medline",
   "metadata": {},
   "outputs": [],
   "source": [
    "class DefinitelyFairModel:\n",
    "    def __init__(self, clf):\n",
    "        self.base_clf = clf\n",
    "        self.predictors = {}\n",
    "    \n",
    "    def fit(self, X, y, A):\n",
    "        '''\n",
    "        Train a model for each sub-group in A\n",
    "        '''\n",
    "        for a in np.unique(A):\n",
    "            Xa = X[A==a]\n",
    "            ya = y[A==a]\n",
    "            clf = copy.copy(self.base_clf)\n",
    "            self.predictors[a] = clf.fit(Xa, ya)\n",
    "            \n",
    "    def predict(self, X, A):\n",
    "        preds = np.zeros(X.shape[0])\n",
    "        for a in np.unique(A):\n",
    "            preds[A==a] = self.predictors[a].predict(X[A==a])\n",
    "        return preds\n",
    "    \n",
    "    def predict_proba(self, X, A):\n",
    "        probs = np.zeros((X.shape[0], 2)) # 2 since its binary ?\n",
    "        for a in np.unique(A):\n",
    "            probs[A==a] = self.predictors[a].predict_proba(X[A==a])\n",
    "        return probs"
   ]
  },
  {
   "cell_type": "markdown",
   "id": "impossible-beijing",
   "metadata": {},
   "source": [
    "Again, they claim that this new method demonstrates high accuracy. "
   ]
  },
  {
   "cell_type": "code",
   "execution_count": 115,
   "id": "italic-jefferson",
   "metadata": {},
   "outputs": [],
   "source": [
    "clf = LogisticRegression(C=1e-2, max_iter=250)\n",
    "\n",
    "dfm = DefinitelyFairModel(clf)\n",
    "dfm.fit(X_train, y_train, A_train)"
   ]
  },
  {
   "cell_type": "markdown",
   "id": "4c46abfc",
   "metadata": {},
   "source": [
    "## Finding C\n",
    "\n",
    "The testset should be used to predict the performance of the model for `DefinitelyFairModel`"
   ]
  },
  {
   "cell_type": "code",
   "execution_count": 116,
   "id": "listed-internet",
   "metadata": {},
   "outputs": [
    {
     "data": {
      "text/plain": [
       "0.7548665027085243"
      ]
     },
     "execution_count": 116,
     "metadata": {},
     "output_type": "execute_result"
    }
   ],
   "source": [
    "# preds = dfm.predict(X_train, A_train) #Finding C: mistake\n",
    "test_preds = dfm.predict(X_test, A_test) #Finding C: correction\n",
    "train_preds = dfm.predict(X_train, A_train)\n",
    "r2_score(y_test, test_preds)"
   ]
  },
  {
   "cell_type": "markdown",
   "id": "pleasant-dakota",
   "metadata": {},
   "source": [
    "And not only does it achieve high accuracy, but it also seems to have excellent performance on each subgroup:"
   ]
  },
  {
   "cell_type": "code",
   "execution_count": 117,
   "id": "0658ceb1",
   "metadata": {},
   "outputs": [],
   "source": [
    "def precision(y_true, y_pred):\n",
    "    tn, fp, fn, tp = confusion_matrix(y_true, y_pred).ravel()\n",
    "    prec = tp / (tp + fp)\n",
    "    return prec\n",
    "\n",
    "def recall(y_true, y_pred):\n",
    "    tn, fp, fn, tp = confusion_matrix(y_true, y_pred).ravel()\n",
    "    rec = tp / (tp + fn)\n",
    "    return rec\n",
    "def tpr(y_true, y_pred):\n",
    "    TPR = recall(y_true, y_pred)\n",
    "    return TPR\n",
    "\n",
    "def fpr(y_true, y_pred):\n",
    "    tn, fp, fn, tp = confusion_matrix(y_true, y_pred).ravel()\n",
    "    FPR = fp / (fp + tn)\n",
    "    return FPR"
   ]
  },
  {
   "cell_type": "code",
   "execution_count": 118,
   "id": "interior-allah",
   "metadata": {},
   "outputs": [],
   "source": [
    "def attr_ROC_curves(cls, X, A, Y_true, Y_pred, tau_range = np.linspace(0,1,51)):\n",
    "    curves = {}\n",
    "    all_probs = cls.predict_proba(X, A)[:, 1]\n",
    "    for a in np.unique(A):\n",
    "        curves[a] = []\n",
    "        prob_a = all_probs[A==a]\n",
    "        Ya = Y_true[A==a]\n",
    "        for t in tau_range:\n",
    "            pred = prob_a > t\n",
    "            # curves[a] += [(np.mean(pred[Ya==0]), np.mean(pred[Ya==1]))] \n",
    "            curves[a] += [(fpr(Ya, pred), tpr(Ya, pred))] \n",
    "    return tau_range, curves"
   ]
  },
  {
   "cell_type": "code",
   "execution_count": 119,
   "id": "respiratory-summit",
   "metadata": {},
   "outputs": [
    {
     "data": {
      "image/png": "[encoded data removed]",
      "text/plain": [
       "<Figure size 432x288 with 1 Axes>"
      ]
     },
     "metadata": {
      "needs_background": "light"
     },
     "output_type": "display_data"
    }
   ],
   "source": [
    "taus, roc = attr_ROC_curves(dfm, X_train, A_train, y_train, train_preds)\n",
    "\n",
    "for a in roc.keys():\n",
    "    fp = [x[0] for x in roc[a]]\n",
    "    tp = [x[1] for x in roc[a]]\n",
    "    \n",
    "    plt.plot(fp, tp, label=a)\n",
    "    ix = np.argmin(np.abs(taus-y_train.mean())) # decision threshold\n",
    "    plt.plot(fp[ix], tp[ix], 'kx')\n",
    "    \n",
    "plt.xlabel('False Positive Rate')\n",
    "plt.ylabel('True Positive Rate')\n",
    "plt.legend();"
   ]
  },
  {
   "cell_type": "markdown",
   "id": "f73b891a",
   "metadata": {},
   "source": [
    "## Finding F"
   ]
  },
  {
   "cell_type": "code",
   "execution_count": 120,
   "id": "ec061c8f",
   "metadata": {},
   "outputs": [
    {
     "data": {
      "text/html": [
       "<div>\n",
       "<style scoped>\n",
       "    .dataframe tbody tr th:only-of-type {\n",
       "        vertical-align: middle;\n",
       "    }\n",
       "\n",
       "    .dataframe tbody tr th {\n",
       "        vertical-align: top;\n",
       "    }\n",
       "\n",
       "    .dataframe thead th {\n",
       "        text-align: right;\n",
       "    }\n",
       "</style>\n",
       "<table border=\"1\" class=\"dataframe\">\n",
       "  <thead>\n",
       "    <tr style=\"text-align: right;\">\n",
       "      <th></th>\n",
       "      <th>0</th>\n",
       "      <th>1</th>\n",
       "    </tr>\n",
       "  </thead>\n",
       "  <tbody>\n",
       "    <tr>\n",
       "      <th>P(f(X)=1 | A=a)</th>\n",
       "      <td>0.430119</td>\n",
       "      <td>0.779221</td>\n",
       "    </tr>\n",
       "    <tr>\n",
       "      <th>P(f(X)=1)</th>\n",
       "      <td>0.457000</td>\n",
       "      <td>0.457000</td>\n",
       "    </tr>\n",
       "  </tbody>\n",
       "</table>\n",
       "</div>"
      ],
      "text/plain": [
       "                        0         1\n",
       "P(f(X)=1 | A=a)  0.430119  0.779221\n",
       "P(f(X)=1)        0.457000  0.457000"
      ]
     },
     "execution_count": 120,
     "metadata": {},
     "output_type": "execute_result"
    }
   ],
   "source": [
    "dpt = demo_parity_table(test_preds, A_test)\n",
    "dpt"
   ]
  },
  {
   "cell_type": "code",
   "execution_count": 121,
   "id": "outstanding-wiring",
   "metadata": {},
   "outputs": [
    {
     "data": {
      "text/plain": [
       "0.05009633911368015"
      ]
     },
     "execution_count": 121,
     "metadata": {},
     "output_type": "execute_result"
    }
   ],
   "source": [
    "# equalized_odds_difference(y_train, preds, sensitive_features=A_train)\n",
    "equalized_odds_difference(y_test, test_preds, sensitive_features=A_test)"
   ]
  },
  {
   "cell_type": "markdown",
   "id": "standing-crash",
   "metadata": {},
   "source": [
    "What do you think of the `DefinitelyFairClassifier`?\n",
    "\n",
    "Here the model peforms badly for demographic parity. This is because since a new model has been trained for each sub-group in the data, there is no consistiency accross the whole set of predictions. \n",
    "\n",
    "As can be seen, the equalized odds performs very well.\n",
    "\n",
    "Overall, the model is slightly better than the first classifier"
   ]
  },
  {
   "cell_type": "markdown",
   "id": "acceptable-arizona",
   "metadata": {},
   "source": [
    "## A new state-of-the-art method in fair ML?\n",
    "\n",
    "Your colleague concludes with a final claim: \"There's no way to train a logistic regression model that beats my `DefinitelyFairClassifier` - it dominates all the rest in terms of fairness and accuracy. I even went through the MSR `fairlearn` package, and their method doesn't even come close. I'm going to be up to my eyeballs in job offers with my new state-of-the-art method!\"\n",
    "\n",
    "They justify this claim with the following analysis:"
   ]
  },
  {
   "cell_type": "code",
   "execution_count": 122,
   "id": "simplified-being",
   "metadata": {},
   "outputs": [],
   "source": [
    "from fairlearn.reductions import GridSearch, EqualizedOdds"
   ]
  },
  {
   "cell_type": "code",
   "execution_count": 123,
   "id": "regulated-signature",
   "metadata": {},
   "outputs": [],
   "source": [
    "model = LogisticRegression(C=1e-2, max_iter=250) # same base model as in `DefinitelyFairClassifier`\n",
    "\n",
    "sweep = GridSearch(model,\n",
    "                   constraints=EqualizedOdds(),\n",
    "                   grid_size=7,\n",
    "                  grid_limit=0.5)\n",
    "\n",
    "sweep.fit(X_train, y_train, sensitive_features=A_train)"
   ]
  },
  {
   "cell_type": "code",
   "execution_count": 124,
   "id": "departmental-beauty",
   "metadata": {},
   "outputs": [],
   "source": [
    "# compute scores, predictions, and fairness / accuracy metrics for each model in the sweep\n",
    "sweep_preds = [predictor.predict(X_train) for predictor in sweep.predictors_] \n",
    "sweep_scores = [predictor.predict_proba(X_train)[:, 1] for predictor in sweep.predictors_]\n",
    "\n",
    "equalized_odds_sweep = [\n",
    "    equalized_odds_difference(y_train, preds, sensitive_features=A_train)\n",
    "    for preds in sweep_preds\n",
    "]\n",
    "auc_sweep = [roc_auc_score(y_train, scores) for scores in sweep_scores]\n",
    "\n",
    "all_results = pd.DataFrame(\n",
    "    {\"predictor\": sweep.predictors_, \"accuracy\": auc_sweep, \"disparity\": equalized_odds_sweep}\n",
    ") \n",
    "non_dominated = [] \n",
    "for row in all_results.itertuples(): \n",
    "    accuracy_for_lower_or_eq_disparity = all_results[\"accuracy\"][all_results[\"disparity\"] <= row.disparity] \n",
    "    if row.accuracy >= accuracy_for_lower_or_eq_disparity.max(): \n",
    "        non_dominated.append(True)\n",
    "    else:\n",
    "        non_dominated.append(False)\n",
    "\n",
    "equalized_odds_sweep_non_dominated = np.asarray(equalized_odds_sweep)[non_dominated]\n",
    "auc_non_dominated = np.asarray(auc_sweep)[non_dominated]"
   ]
  },
  {
   "cell_type": "code",
   "execution_count": 125,
   "id": "macro-grass",
   "metadata": {},
   "outputs": [],
   "source": [
    "# get comparable results for the DFC\n",
    "train_preds = dfm.predict(X_train, A_train)\n",
    "train_scores = dfm.predict_proba(X_train, A_train)\n",
    "\n",
    "dfm_auc = roc_auc_score(y_train, train_scores[:,1])\n",
    "dfm_eod = equalized_odds_difference(y_train, train_preds, sensitive_features=A_train)"
   ]
  },
  {
   "cell_type": "code",
   "execution_count": 126,
   "id": "celtic-rebound",
   "metadata": {},
   "outputs": [
    {
     "data": {
      "image/png": "[encoded data removed]",
      "text/plain": [
       "<Figure size 432x288 with 1 Axes>"
      ]
     },
     "metadata": {
      "needs_background": "light"
     },
     "output_type": "display_data"
    }
   ],
   "source": [
    "# plot results \n",
    "plt.scatter(auc_non_dominated, equalized_odds_sweep_non_dominated, label=\"Grid Search Models\")\n",
    "plt.scatter(dfm_auc, dfm_eod, label=\"DefinitelyFair Model\")\n",
    "\n",
    "plt.xlabel(\"AUC\")\n",
    "plt.ylabel(\"Equalized Odds Difference\")\n",
    "plt.legend(bbox_to_anchor=(1.55, 1))\n",
    "plt.xlim([0.97,1])\n",
    "plt.xticks([1.0])\n",
    "plt.show()"
   ]
  }
 ],
 "metadata": {
  "kernelspec": {
   "display_name": "Python 3",
   "language": "python",
   "name": "python3"
  },
  "language_info": {
   "codemirror_mode": {
    "name": "ipython",
    "version": 3
   },
   "file_extension": ".py",
   "mimetype": "text/x-python",
   "name": "python",
   "nbconvert_exporter": "python",
   "pygments_lexer": "ipython3",
   "version": "3.7.10"
  }
 },
 "nbformat": 4,
 "nbformat_minor": 5
}
