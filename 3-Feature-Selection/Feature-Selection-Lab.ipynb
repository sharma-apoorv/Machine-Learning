{
 "cells": [
  {
   "cell_type": "markdown",
   "id": "b06c83d8",
   "metadata": {},
   "source": [
    "# <center>Lab 4: Feature Selection and Coordinate Descent</center>\n",
    "<center>DATA 558, Spring 2021</center>\n",
    "<center>TAs: Alec Greaves-Tunnell and Ronak Mehta</center>"
   ]
  },
  {
   "cell_type": "markdown",
   "id": "23e194f4",
   "metadata": {},
   "source": [
    "## 0. Overview\n",
    "\n",
    "In this lab, we will cover:\n",
    "- Feature selection via LASSO and forward stepwise selection\n",
    "- Hyperparameter selection via K-fold cross-validation\n",
    "- Optimization via coordinate descent"
   ]
  },
  {
   "cell_type": "code",
   "execution_count": 1,
   "id": "81761794",
   "metadata": {},
   "outputs": [],
   "source": [
    "import pandas as pd\n",
    "import numpy as np\n",
    "import matplotlib.pyplot as plt\n",
    "import copy\n",
    "\n",
    "%matplotlib inline"
   ]
  },
  {
   "cell_type": "markdown",
   "id": "8ade3c1b",
   "metadata": {},
   "source": [
    "## 1. Feature Selection\n",
    "\n",
    "In this section, we cover an alternate view on regularization that has scientific and computational advantages over previous methods."
   ]
  },
  {
   "cell_type": "markdown",
   "id": "a5c6fe33",
   "metadata": {},
   "source": [
    "### 1.1. Background\n",
    "- Based on the previous section and Lab 3, we saw that when data is centered, scaled, and encoded appropriately, we no longer need to consider an intercept term. We will now just use $d$ to describe the number of features, and the design matrix $X \\in \\mathbb{R}^{n \\times d}$ will not be assumed to contain a column of ones.\n",
    "- We saw in Lab 2 that issues can arise in high-dimensional data ($d \\gg n$ or even $d \\approx n$), namely overfitting and computational burden. Consider two examples.\n",
    "    - **Example 2.1**: $X_{ij} = $ expression level of the $j$-th gene in the $i$-th genome, $y_i = $ presence or absence of a disease in patient $i$. \n",
    "    - **Example 2.2**: $X_{ij} = $ represents the frequency of word $j$ in the $i$-th email, and $y_i = $ whether $i$-th email is spam.\n",
    "- In Labs 2 and 3, we presented $\\ell^2$ regularization for both least-squares and logistic regression to mitigate these issues.\n",
    "- There are two main disadvantages to the previous approaches.\n",
    "    - **Interpretation**: Cannot answer the questions \"Which genes contribute most to the disease?\" or \"Which word is the most relevant for identifying spam?\".\n",
    "    - **Computational**: Must still include all $d$ variables in the model, which is particularly burdensome if the model is evaluated many times."
   ]
  },
  {
   "cell_type": "markdown",
   "id": "ce3937ee",
   "metadata": {},
   "source": [
    "To address this shortcoming, we introduce *linear feature selection methods*. These methods, while in the process of picking $\\beta \\in \\mathbb{R}^d$ such that $\\beta^\\top x$ is close to $y$, will also return a *subset* of the $d$ features that are the only ones used in the prediction. Where as $\\ell^2$ regularization will shrink the values of the $\\beta$ vector, these new methods will set some of them to zero, and only have nonzero coefficients for the most important features."
   ]
  },
  {
   "cell_type": "markdown",
   "id": "52d27b15",
   "metadata": {},
   "source": [
    "### 1.2. The LASSO"
   ]
  },
  {
   "cell_type": "markdown",
   "id": "bbc2f792",
   "metadata": {},
   "source": [
    "Give dataset $(x_1, y_1), ..., (x_n, y_n)$, the LASSO objective is defined as\n",
    "$$\n",
    "L_1(\\beta) = \\frac{1}{2n} \\sum_{i=1}^n (y_i - \\beta^\\top x_i)^2 + \\lambda ||\\beta||_1,\n",
    "$$\n",
    "where\n",
    "$$\n",
    "||\\beta||_1 = \\sum_{j=1}^d |\\beta_j|\n",
    "$$\n",
    "is called the $\\ell^1$ (pronounced \"ell 1\") norm of $\\beta$. \n",
    "![norms](img/norms.jpeg)"
   ]
  },
  {
   "cell_type": "code",
   "execution_count": 2,
   "id": "b173da39",
   "metadata": {},
   "outputs": [
    {
     "data": {
      "text/html": [
       "<div>\n",
       "<style scoped>\n",
       "    .dataframe tbody tr th:only-of-type {\n",
       "        vertical-align: middle;\n",
       "    }\n",
       "\n",
       "    .dataframe tbody tr th {\n",
       "        vertical-align: top;\n",
       "    }\n",
       "\n",
       "    .dataframe thead th {\n",
       "        text-align: right;\n",
       "    }\n",
       "</style>\n",
       "<table border=\"1\" class=\"dataframe\">\n",
       "  <thead>\n",
       "    <tr style=\"text-align: right;\">\n",
       "      <th></th>\n",
       "      <th>TV</th>\n",
       "      <th>Radio</th>\n",
       "      <th>Newspaper</th>\n",
       "      <th>Sales</th>\n",
       "    </tr>\n",
       "  </thead>\n",
       "  <tbody>\n",
       "    <tr>\n",
       "      <th>1</th>\n",
       "      <td>230.1</td>\n",
       "      <td>37.8</td>\n",
       "      <td>69.2</td>\n",
       "      <td>22.1</td>\n",
       "    </tr>\n",
       "    <tr>\n",
       "      <th>2</th>\n",
       "      <td>44.5</td>\n",
       "      <td>39.3</td>\n",
       "      <td>45.1</td>\n",
       "      <td>10.4</td>\n",
       "    </tr>\n",
       "    <tr>\n",
       "      <th>3</th>\n",
       "      <td>17.2</td>\n",
       "      <td>45.9</td>\n",
       "      <td>69.3</td>\n",
       "      <td>9.3</td>\n",
       "    </tr>\n",
       "    <tr>\n",
       "      <th>4</th>\n",
       "      <td>151.5</td>\n",
       "      <td>41.3</td>\n",
       "      <td>58.5</td>\n",
       "      <td>18.5</td>\n",
       "    </tr>\n",
       "    <tr>\n",
       "      <th>5</th>\n",
       "      <td>180.8</td>\n",
       "      <td>10.8</td>\n",
       "      <td>58.4</td>\n",
       "      <td>12.9</td>\n",
       "    </tr>\n",
       "  </tbody>\n",
       "</table>\n",
       "</div>"
      ],
      "text/plain": [
       "      TV  Radio  Newspaper  Sales\n",
       "1  230.1   37.8       69.2   22.1\n",
       "2   44.5   39.3       45.1   10.4\n",
       "3   17.2   45.9       69.3    9.3\n",
       "4  151.5   41.3       58.5   18.5\n",
       "5  180.8   10.8       58.4   12.9"
      ]
     },
     "execution_count": 2,
     "metadata": {},
     "output_type": "execute_result"
    }
   ],
   "source": [
    "ad_data = pd.read_csv('Advertising.csv', index_col=0)\n",
    "ad_data.head()"
   ]
  },
  {
   "cell_type": "code",
   "execution_count": 3,
   "id": "27803b98",
   "metadata": {},
   "outputs": [],
   "source": [
    "X_full = ad_data[[\"TV\", \"Newspaper\"]].to_numpy()\n",
    "y_full = ad_data[\"Sales\"].to_numpy()"
   ]
  },
  {
   "cell_type": "markdown",
   "id": "b9b1f138",
   "metadata": {},
   "source": [
    "**Exercise 1.1**: Use `sklearn` to split the data 80/20 into a train and test set, and center and scale `X`. Do not provide a `random_state`."
   ]
  },
  {
   "cell_type": "code",
   "execution_count": 4,
   "id": "8c9d7d83",
   "metadata": {},
   "outputs": [],
   "source": [
    "np.random.seed(123)\n",
    "\n",
    "## <YOUR CODE HERE>\n",
    "# Import correct methods.\n",
    "from sklearn.preprocessing import StandardScaler\n",
    "from sklearn.model_selection import train_test_split\n",
    "\n",
    "# Split the data into train and test set.\n",
    "## <YOUR CODE HERE>\n",
    "X, X_test, y, y_test = train_test_split(X_full, y_full, test_size=0.20) \n",
    "\n",
    "# Standardize the train and test design matrix.\n",
    "## <YOUR CODE HERE>\n",
    "scaler = StandardScaler().fit(X)\n",
    "X = scaler.transform(X)\n",
    "X_test = scaler.transform(X_test)"
   ]
  },
  {
   "cell_type": "code",
   "execution_count": 5,
   "id": "bd9e14d4",
   "metadata": {},
   "outputs": [],
   "source": [
    "def plot_objective(X, y, beta=None, beta_r=None, beta_l=None, l1=None, l2=None):\n",
    "    nb = 100\n",
    "    brange = np.linspace(-10, 10, nb)\n",
    "    b1, b2 = np.meshgrid(brange, brange)\n",
    "    \n",
    "    def obj(beta_, X, y):\n",
    "        return 0.5 * np.dot(y - np.dot(X, beta_), y - np.dot(X, beta_)) / len(X)\n",
    "    z = np.array([obj(x, X, y) for x in zip(b1.ravel(), b2.ravel())])\n",
    "    \n",
    "    # TODO: adjust levels to match the solutions.\n",
    "    levels=np.logspace(-5,4,100)\n",
    "    \n",
    "    plt.figure(figsize=(6,6))\n",
    "    \n",
    "    plt.hlines(y=0, xmin=-10, xmax=10, color='k')\n",
    "    plt.vlines(x=0, ymin=-10, ymax=10, color='k')\n",
    "    \n",
    "    labels = False\n",
    "    if beta is not None:\n",
    "        plt.scatter(beta[0], beta[1], marker=\"x\", s=100, color='k', label=\"LR\")\n",
    "        labels = True\n",
    "    if beta_r is not None:\n",
    "        plt.scatter(beta_r[0], beta_r[1], marker=\"o\", s=100, color='k', label=\"Ridge\")\n",
    "    if beta_l is not None:\n",
    "        plt.scatter(beta_l[0], beta_l[1], marker=\"D\", s=100, color='k', label=\"LASSO\")\n",
    "        \n",
    "    if l2 is not None:\n",
    "        # x1^2 + x2^2 = l2\n",
    "        x = np.linspace(-l2, l2, 100)\n",
    "        plt.plot(x, np.sqrt(l2**2 - x**2), color='blue', label='L2 Ball')\n",
    "        plt.plot(x, -np.sqrt(l2**2 - x**2), color='blue')\n",
    "        \n",
    "    if l1 is not None:\n",
    "        plt.plot([0, l1], [l1, 0], color='red', label='L1 Ball')\n",
    "        plt.plot([-l1, 0], [0, l1], color='red')\n",
    "        plt.plot([-l1, 0], [0, -l1], color='red')\n",
    "        plt.plot([0, l1], [-l1, 0], color='red')\n",
    "        \n",
    "    if labels:\n",
    "        plt.legend(loc=\"lower left\")\n",
    "    plt.contour(brange, brange, z.reshape((nb, nb)), levels=levels);\n",
    "    plt.show()"
   ]
  },
  {
   "cell_type": "code",
   "execution_count": 6,
   "id": "c9997361",
   "metadata": {},
   "outputs": [
    {
     "data": {
      "image/png": "[encoded data removed]",
      "text/plain": [
       "<Figure size 432x432 with 1 Axes>"
      ]
     },
     "metadata": {
      "needs_background": "light"
     },
     "output_type": "display_data"
    }
   ],
   "source": [
    "plot_objective(X, y)"
   ]
  },
  {
   "cell_type": "markdown",
   "id": "799bdc1a",
   "metadata": {},
   "source": [
    "**Exercise 1.2**: Fit an unregularized linear regression model, and plot the value with the given function."
   ]
  },
  {
   "cell_type": "code",
   "execution_count": 7,
   "id": "7bfc982f",
   "metadata": {},
   "outputs": [
    {
     "data": {
      "image/png": "[encoded data removed]",
      "text/plain": [
       "<Figure size 432x432 with 1 Axes>"
      ]
     },
     "metadata": {
      "needs_background": "light"
     },
     "output_type": "display_data"
    }
   ],
   "source": [
    "from sklearn.linear_model import LinearRegression\n",
    "\n",
    "## <YOUR CODE HERE>\n",
    "beta = LinearRegression().fit(X, y).coef_\n",
    "\n",
    "plot_objective(X, y, beta=beta)"
   ]
  },
  {
   "cell_type": "markdown",
   "id": "1fd65f93",
   "metadata": {},
   "source": [
    "Recall that the ridge regression objective is given by\n",
    "$$\n",
    "L_2(\\beta) = \\frac{1}{2n}\\sum_{i=1}^n (y_i - \\beta^\\top x_i)^2 + \\lambda ||\\beta||_2^2\n",
    "$$\n",
    "where\n",
    "$$\n",
    "||\\beta||_2 = \\sqrt{\\sum_{j=1}^d \\beta_j}.\n",
    "$$"
   ]
  },
  {
   "cell_type": "markdown",
   "id": "1d1245b9",
   "metadata": {},
   "source": [
    "**Exercise 1.3**: Choose the value of `alpha` (the `sklearn` regularization constant) that corresponds to the our choice of `lambda_` above. Use this to fit a `Ridge` and `Lasso` model on the data, and plot the solution. (Hint: consult the `sklearn` documentation.)"
   ]
  },
  {
   "cell_type": "code",
   "execution_count": 8,
   "id": "c44d1a93",
   "metadata": {},
   "outputs": [
    {
     "name": "stdout",
     "output_type": "stream",
     "text": [
      "[1.22512479 0.35363531]\n",
      "[2.82988963 0.        ]\n"
     ]
    },
    {
     "data": {
      "image/png": "[encoded data removed]",
      "text/plain": [
       "<Figure size 432x432 with 1 Axes>"
      ]
     },
     "metadata": {
      "needs_background": "light"
     },
     "output_type": "display_data"
    }
   ],
   "source": [
    "from sklearn.linear_model import Ridge, Lasso\n",
    "\n",
    "lambda_ = 1.1\n",
    "n = len(X)\n",
    "\n",
    "# Ridge\n",
    "alpha_r = 2 * n * lambda_ ## <YOUR CODE HERE>\n",
    "beta_r = Ridge(alpha=alpha_r).fit(X, y).coef_ ## <YOUR CODE HERE>\n",
    "\n",
    "# LASSO\n",
    "alpha_l = lambda_ ## <YOUR CODE HERE>\n",
    "beta_l = Lasso(alpha=alpha_l).fit(X, y).coef_ ## <YOUR CODE HERE>\n",
    "\n",
    "print(beta_r)\n",
    "print(beta_l)\n",
    "\n",
    "plot_objective(X, y, beta=beta, beta_r=beta_r, beta_l=beta_l)"
   ]
  },
  {
   "cell_type": "markdown",
   "id": "97d48086",
   "metadata": {},
   "source": [
    "It can be proved that the optimal solution for both $\\ell^1$ and $\\ell^2$ regularized regression can be written in the form\n",
    "\\begin{align*}\n",
    "    &\\min_{\\beta \\in \\mathbb{R}^n} \\frac{1}{2n}\\sum_{i=1}^n (y_i - \\beta^\\top x_i)^2\\\\\n",
    "    &\\text{subject to } ||\\beta||_p \\leq s_p^\\lambda\n",
    "\\end{align*}\n",
    "where $s^\\lambda_p$ depends on $\\lambda$ and $p = 1, 2$.\n",
    "\n",
    "We have the following intuition in two dimensions.\n",
    "- For $\\ell^2$ regularization, this can be interpreted as finding the best $\\beta$ within a circle centered at the origin with length $s_2^\\lambda$.\n",
    "- For $\\ell^1$ regularization, this can be interpreted as finding the best $\\beta$ within a diamond centered at the origin with side length $s_1^\\lambda \\sqrt{2}$."
   ]
  },
  {
   "cell_type": "markdown",
   "id": "fdf4dc2e",
   "metadata": {},
   "source": [
    "**Exercise 1.4**: Plot the $\\ell^1$ and $\\ell^2$ balls on our plot using the `l1` and `l2` arguments. Adjust the values of `s1` and `s2` so that the LASSO solution is on the diamond and the ridge solution is on the circle. Can you guess analytically what these values should be?"
   ]
  },
  {
   "cell_type": "code",
   "execution_count": 9,
   "id": "9a3b7c26",
   "metadata": {},
   "outputs": [
    {
     "data": {
      "image/png": "[encoded data removed]",
      "text/plain": [
       "<Figure size 432x432 with 1 Axes>"
      ]
     },
     "metadata": {
      "needs_background": "light"
     },
     "output_type": "display_data"
    }
   ],
   "source": [
    "## <YOUR CODE HERE>\n",
    "s1 = np.linalg.norm(beta_l)\n",
    "s2 = np.linalg.norm(beta_r)\n",
    "\n",
    "plot_objective(X, y, beta=beta, beta_r=beta_r, beta_l=beta_l, l2=s2, l1=s1)"
   ]
  },
  {
   "cell_type": "markdown",
   "id": "c2e40f96",
   "metadata": {},
   "source": [
    "LASSO tends to pick *sparse* solutions, because the countours of the objective function (assuming the unregularized solution is outside the ball) touch the $\\ell^1$ ball at its corners."
   ]
  },
  {
   "cell_type": "markdown",
   "id": "287185e7",
   "metadata": {},
   "source": [
    "### 1.3. Forward Stepwise Selection\n",
    "\n",
    "The LASSO might seem like an indirect method to estimate the best subset of variables. Can you think of a \"brute force\" method to determine the best subset? \n",
    "\n",
    "One could just train and test every single subset of variables in the dataset, but that would require $2^d$ training and evaluation loops, and even more if we evaluate multiple metrics per model. *Forward stepwise regression* is a compromise in which we search progressively larger model classes until reaching a reasonable subset of features."
   ]
  },
  {
   "cell_type": "markdown",
   "id": "1fb15d72",
   "metadata": {},
   "source": [
    "**Algorithm 1.1: Forward stepwise selection** (ISLR)\n",
    "\n",
    "1. Let $\\mathcal{M}_0$ denote the *null* model, which contains no predictors (i.e. return $\\bar{y}$).\n",
    "2. Let $k = 0, ..., d$:\n",
    "    - Start with model $\\mathcal{M}_k$. The subscript $k$ indexes the number of features included in this model. Thus, there are $d - k$ remaining features.\n",
    "    - Evaluate on the training set all models that contain the $k$ features of $\\mathcal{M}_k$, augmented with one of the remaining $d-k$ features ($k+1$ features total).\n",
    "    - Select the best among these $d - k$ models, and call that $\\mathcal{M}_{k+1}$.\n",
    "3. Select the single best model among $\\mathcal{M}_0, ..., \\mathcal{M}_d$ using a metric on the validation set."
   ]
  },
  {
   "cell_type": "markdown",
   "id": "ec5ea87e",
   "metadata": {},
   "source": [
    "**Exercise 1.5**: How many total models are trained in the forward stepwise regression procedure?"
   ]
  },
  {
   "cell_type": "markdown",
   "id": "59a3094e",
   "metadata": {},
   "source": [
    "**Solution**:\n",
    "\n",
    "- Inner Loop: $d - k$ models.\n",
    "- Outer Loop: Summed over $d+1$ choices of model size.\n",
    "$$\n",
    "\\sum_{k=0}^{d} d - k = (d+1)d - \\sum_{k=0}^{d} k = (d+1)d - \\frac{(d+1) d}{2} = \\frac{(d+1) d}{2}\n",
    "$$"
   ]
  },
  {
   "cell_type": "markdown",
   "id": "bcbd1d84",
   "metadata": {},
   "source": [
    "Given the above run times, it is quite remarkable that the LASSO is able to perform model training and feature selection *at the same time*. This explains why it is generally the preferred method for feature selection."
   ]
  },
  {
   "cell_type": "markdown",
   "id": "040409fd",
   "metadata": {},
   "source": [
    "### 1.4. K-Fold Cross Validation"
   ]
  },
  {
   "cell_type": "markdown",
   "id": "a0a433cc",
   "metadata": {},
   "source": [
    "As in other settings, we have a hyperparameter to tune, namely the *regularization constant* $\\lambda$. A large value of $\\lambda$ induces an increase in bias and decrease in variance, whereas a small value of $\\lambda$ induces a decrease in bias and increase in variance. Thus, we use a hold out set to select the best choice of this hyperparameter. In previous labs, we have seen five-by-two validation. $K$-fold cross validation is another popular method to select hyperparameters."
   ]
  },
  {
   "cell_type": "markdown",
   "id": "8cdf03e6",
   "metadata": {},
   "source": [
    "**Algorithm 1.2: K-fold cross validation**\n",
    "\n",
    "Let $\\mathcal{T} = (x_1, y_1), ..., (x_n, y_n)$ be the training set, and $\\mathcal{H}$ be the set of hyperparameter settings that we would like to evaluate.\n",
    "1. For each $\\lambda \\in \\mathcal{H}$: \n",
    "    1. Partition the training set $\\mathcal{T}$ into $K$ \"folds\" $\\mathcal{T}_1, ..., \\mathcal{T}_K$, each with $\\frac{n}{K}$ data points.\n",
    "    2. For folds $j = 1, ..., K$:\n",
    "        1. Consider $\\mathcal{T}_j$ as the validation set, and pool $\\mathcal{T}_1, ..., \\mathcal{T}_{j-1}, \\mathcal{T}_{j+1}, ..., \\mathcal{T}_{K}$ to form the training set.\n",
    "        2. Train the model with hyperparameter setting $\\lambda$ on the training set and evaluate on the validation set.\n",
    "    3. Average the $K$ evaluation metrics from each fold (say accuracy or RSS), and consider this the performance of $\\lambda$.\n",
    "2. Return the $\\lambda \\in \\mathcal{H}$ with the best performance."
   ]
  },
  {
   "cell_type": "markdown",
   "id": "4145e2b5",
   "metadata": {},
   "source": [
    "**Exercise 1.6**: Implement $K$-fold cross validation to select the best choice of $\\lambda$ for the LASSO."
   ]
  },
  {
   "cell_type": "code",
   "execution_count": 10,
   "id": "3af2113c",
   "metadata": {},
   "outputs": [],
   "source": [
    "from sklearn.metrics import mean_squared_error\n",
    "\n",
    "def get_fold_indices(n, K, j):\n",
    "    # <YOUR-CODE-HERE>\n",
    "    # TODO: deal with the case when n is not a multiple of K.\n",
    "    fold_size = n // K\n",
    "    \n",
    "    idx = np.arange(n)\n",
    "    val_idx = idx[j * fold_size : (j+1) * fold_size]\n",
    "    \n",
    "    if j == 0: \n",
    "        train_idx = idx[fold_size : n]\n",
    "    elif j == K-1:\n",
    "        train_idx = idx[0 : (K-1) * fold_size]\n",
    "    else:\n",
    "        first_range = idx[0 : j * fold_size]\n",
    "        second_range = idx[(j+1) * fold_size : n]\n",
    "        train_idx = np.concatenate((first_range, second_range))\n",
    "    \n",
    "    return train_idx, val_idx\n",
    "\n",
    "def K_fold_cross_validation(lambdas, X, y, K):\n",
    "    \n",
    "    n = len(X)\n",
    "    best_model = None\n",
    "    best_lambda = None\n",
    "    best_performance = np.inf\n",
    "        \n",
    "    for i, lambda_ in enumerate(lambdas):\n",
    "        \n",
    "        print(\"---------------------------------------------------\")\n",
    "        print(\"Evaluating lambda =\", lambda_, end=\"\")\n",
    "        \n",
    "        # <YOUR-CODE-HERE>: How long should this array be?\n",
    "        mses = np.zeros(K)\n",
    "        for j in range(K):\n",
    "            \n",
    "            print(\".\", end=\"\")\n",
    "            \n",
    "            # Subset into training and validation set.\n",
    "            train_idx, val_idx = get_fold_indices(n, K, j)\n",
    "            X_train, y_train = X[train_idx], y[train_idx]\n",
    "            X_val, y_val = X[val_idx], y[val_idx]\n",
    "            \n",
    "            # Train on the training set.\n",
    "            # <YOUR-CODE-HERE>\n",
    "            alpha = lambda_\n",
    "            \n",
    "            model = Lasso(alpha=alpha).fit(X_train, y_train)\n",
    "            \n",
    "            # Evaluate on the validation set.\n",
    "            # <YOUR-CODE-HERE>\n",
    "            mses[j] = mean_squared_error(model.predict(X_val), y_val)\n",
    "        \n",
    "        performance = mses.mean()\n",
    "        print(\"\")\n",
    "        print(\"Average MSE:\", performance)\n",
    "        print(\"---------------------------------------------------\")\n",
    "        \n",
    "        # <YOUR-CODE-HERE>\n",
    "        if performance < best_performance:\n",
    "            best_performance = performance\n",
    "            best_model = model\n",
    "            best_lambda = lambda_\n",
    "            \n",
    "    return best_model, best_lambda, best_performance"
   ]
  },
  {
   "cell_type": "markdown",
   "id": "2d8e7a87",
   "metadata": {},
   "source": [
    "Let us apply this to the `Hitters` dataset, and reproduce ISLR page 255. This is a dataset with 322 observations of major league players on the following 20 variables.\n",
    "\n",
    "- `AtBat` - Number of times at bat in 1986\n",
    "- `Hits` - Number of hits in 1986\n",
    "- `HmRun` - Number of home runs in 1986\n",
    "- `Runs` - Number of runs in 1986\n",
    "- `RBI` - Number of runs batted in in 1986\n",
    "- `Walks` - Number of walks in 1986\n",
    "- `Years` - Number of years in the major leagues\n",
    "- `CAtBat` - Number of times at bat during his career\n",
    "- `CHits` - Number of hits during his career\n",
    "- `CHmRun` - Number of home runs during his career\n",
    "- `CRuns` - Number of runs during his career\n",
    "- `CRBI` - Number of runs batted in during his career\n",
    "- `CWalks` - Number of walks during his career\n",
    "- `League` - A factor with levels A and N indicating player's league at the end of 1986\n",
    "- `Division` - A factor with levels E and W indicating player's division at the end of 1986\n",
    "- `PutOuts` - Number of put outs in 1986\n",
    "- `Assists` - Number of assists in 1986\n",
    "- `Errors` - Number of errors in 1986\n",
    "- `Salary` - 1987 annual salary on opening day in thousands of dollars\n",
    "- `NewLeague` - A factor with levels A and N indicating player's league at the beginning of 1987\n",
    "\n",
    "The response variable is `Salary`."
   ]
  },
  {
   "cell_type": "code",
   "execution_count": 11,
   "id": "34643c0d",
   "metadata": {},
   "outputs": [
    {
     "data": {
      "text/html": [
       "<div>\n",
       "<style scoped>\n",
       "    .dataframe tbody tr th:only-of-type {\n",
       "        vertical-align: middle;\n",
       "    }\n",
       "\n",
       "    .dataframe tbody tr th {\n",
       "        vertical-align: top;\n",
       "    }\n",
       "\n",
       "    .dataframe thead th {\n",
       "        text-align: right;\n",
       "    }\n",
       "</style>\n",
       "<table border=\"1\" class=\"dataframe\">\n",
       "  <thead>\n",
       "    <tr style=\"text-align: right;\">\n",
       "      <th></th>\n",
       "      <th>AtBat</th>\n",
       "      <th>Hits</th>\n",
       "      <th>HmRun</th>\n",
       "      <th>Runs</th>\n",
       "      <th>RBI</th>\n",
       "      <th>Walks</th>\n",
       "      <th>Years</th>\n",
       "      <th>CAtBat</th>\n",
       "      <th>CHits</th>\n",
       "      <th>CHmRun</th>\n",
       "      <th>CRuns</th>\n",
       "      <th>CRBI</th>\n",
       "      <th>CWalks</th>\n",
       "      <th>League</th>\n",
       "      <th>Division</th>\n",
       "      <th>PutOuts</th>\n",
       "      <th>Assists</th>\n",
       "      <th>Errors</th>\n",
       "      <th>Salary</th>\n",
       "      <th>NewLeague</th>\n",
       "    </tr>\n",
       "  </thead>\n",
       "  <tbody>\n",
       "    <tr>\n",
       "      <th>1</th>\n",
       "      <td>315</td>\n",
       "      <td>81</td>\n",
       "      <td>7</td>\n",
       "      <td>24</td>\n",
       "      <td>38</td>\n",
       "      <td>39</td>\n",
       "      <td>14</td>\n",
       "      <td>3449</td>\n",
       "      <td>835</td>\n",
       "      <td>69</td>\n",
       "      <td>321</td>\n",
       "      <td>414</td>\n",
       "      <td>375</td>\n",
       "      <td>N</td>\n",
       "      <td>W</td>\n",
       "      <td>632</td>\n",
       "      <td>43</td>\n",
       "      <td>10</td>\n",
       "      <td>475.0</td>\n",
       "      <td>N</td>\n",
       "    </tr>\n",
       "    <tr>\n",
       "      <th>2</th>\n",
       "      <td>479</td>\n",
       "      <td>130</td>\n",
       "      <td>18</td>\n",
       "      <td>66</td>\n",
       "      <td>72</td>\n",
       "      <td>76</td>\n",
       "      <td>3</td>\n",
       "      <td>1624</td>\n",
       "      <td>457</td>\n",
       "      <td>63</td>\n",
       "      <td>224</td>\n",
       "      <td>266</td>\n",
       "      <td>263</td>\n",
       "      <td>A</td>\n",
       "      <td>W</td>\n",
       "      <td>880</td>\n",
       "      <td>82</td>\n",
       "      <td>14</td>\n",
       "      <td>480.0</td>\n",
       "      <td>A</td>\n",
       "    </tr>\n",
       "    <tr>\n",
       "      <th>3</th>\n",
       "      <td>496</td>\n",
       "      <td>141</td>\n",
       "      <td>20</td>\n",
       "      <td>65</td>\n",
       "      <td>78</td>\n",
       "      <td>37</td>\n",
       "      <td>11</td>\n",
       "      <td>5628</td>\n",
       "      <td>1575</td>\n",
       "      <td>225</td>\n",
       "      <td>828</td>\n",
       "      <td>838</td>\n",
       "      <td>354</td>\n",
       "      <td>N</td>\n",
       "      <td>E</td>\n",
       "      <td>200</td>\n",
       "      <td>11</td>\n",
       "      <td>3</td>\n",
       "      <td>500.0</td>\n",
       "      <td>N</td>\n",
       "    </tr>\n",
       "    <tr>\n",
       "      <th>4</th>\n",
       "      <td>321</td>\n",
       "      <td>87</td>\n",
       "      <td>10</td>\n",
       "      <td>39</td>\n",
       "      <td>42</td>\n",
       "      <td>30</td>\n",
       "      <td>2</td>\n",
       "      <td>396</td>\n",
       "      <td>101</td>\n",
       "      <td>12</td>\n",
       "      <td>48</td>\n",
       "      <td>46</td>\n",
       "      <td>33</td>\n",
       "      <td>N</td>\n",
       "      <td>E</td>\n",
       "      <td>805</td>\n",
       "      <td>40</td>\n",
       "      <td>4</td>\n",
       "      <td>91.5</td>\n",
       "      <td>N</td>\n",
       "    </tr>\n",
       "    <tr>\n",
       "      <th>5</th>\n",
       "      <td>594</td>\n",
       "      <td>169</td>\n",
       "      <td>4</td>\n",
       "      <td>74</td>\n",
       "      <td>51</td>\n",
       "      <td>35</td>\n",
       "      <td>11</td>\n",
       "      <td>4408</td>\n",
       "      <td>1133</td>\n",
       "      <td>19</td>\n",
       "      <td>501</td>\n",
       "      <td>336</td>\n",
       "      <td>194</td>\n",
       "      <td>A</td>\n",
       "      <td>W</td>\n",
       "      <td>282</td>\n",
       "      <td>421</td>\n",
       "      <td>25</td>\n",
       "      <td>750.0</td>\n",
       "      <td>A</td>\n",
       "    </tr>\n",
       "  </tbody>\n",
       "</table>\n",
       "</div>"
      ],
      "text/plain": [
       "   AtBat  Hits  HmRun  Runs  RBI  Walks  Years  CAtBat  CHits  CHmRun  CRuns  \\\n",
       "1    315    81      7    24   38     39     14    3449    835      69    321   \n",
       "2    479   130     18    66   72     76      3    1624    457      63    224   \n",
       "3    496   141     20    65   78     37     11    5628   1575     225    828   \n",
       "4    321    87     10    39   42     30      2     396    101      12     48   \n",
       "5    594   169      4    74   51     35     11    4408   1133      19    501   \n",
       "\n",
       "   CRBI  CWalks League Division  PutOuts  Assists  Errors  Salary NewLeague  \n",
       "1   414     375      N        W      632       43      10   475.0         N  \n",
       "2   266     263      A        W      880       82      14   480.0         A  \n",
       "3   838     354      N        E      200       11       3   500.0         N  \n",
       "4    46      33      N        E      805       40       4    91.5         N  \n",
       "5   336     194      A        W      282      421      25   750.0         A  "
      ]
     },
     "execution_count": 11,
     "metadata": {},
     "output_type": "execute_result"
    }
   ],
   "source": [
    "hitters_data = pd.read_csv('Hitters.csv').dropna()\n",
    "hitters_data.head()"
   ]
  },
  {
   "cell_type": "code",
   "execution_count": 12,
   "id": "795cf46e",
   "metadata": {},
   "outputs": [
    {
     "data": {
      "text/html": [
       "<div>\n",
       "<style scoped>\n",
       "    .dataframe tbody tr th:only-of-type {\n",
       "        vertical-align: middle;\n",
       "    }\n",
       "\n",
       "    .dataframe tbody tr th {\n",
       "        vertical-align: top;\n",
       "    }\n",
       "\n",
       "    .dataframe thead th {\n",
       "        text-align: right;\n",
       "    }\n",
       "</style>\n",
       "<table border=\"1\" class=\"dataframe\">\n",
       "  <thead>\n",
       "    <tr style=\"text-align: right;\">\n",
       "      <th></th>\n",
       "      <th>AtBat</th>\n",
       "      <th>Hits</th>\n",
       "      <th>HmRun</th>\n",
       "      <th>Runs</th>\n",
       "      <th>RBI</th>\n",
       "      <th>Walks</th>\n",
       "      <th>Years</th>\n",
       "      <th>CAtBat</th>\n",
       "      <th>CHits</th>\n",
       "      <th>CHmRun</th>\n",
       "      <th>CRuns</th>\n",
       "      <th>CRBI</th>\n",
       "      <th>CWalks</th>\n",
       "      <th>PutOuts</th>\n",
       "      <th>Assists</th>\n",
       "      <th>Errors</th>\n",
       "      <th>Salary</th>\n",
       "      <th>League_N</th>\n",
       "      <th>Division_W</th>\n",
       "      <th>NewLeague_N</th>\n",
       "    </tr>\n",
       "  </thead>\n",
       "  <tbody>\n",
       "    <tr>\n",
       "      <th>1</th>\n",
       "      <td>315</td>\n",
       "      <td>81</td>\n",
       "      <td>7</td>\n",
       "      <td>24</td>\n",
       "      <td>38</td>\n",
       "      <td>39</td>\n",
       "      <td>14</td>\n",
       "      <td>3449</td>\n",
       "      <td>835</td>\n",
       "      <td>69</td>\n",
       "      <td>321</td>\n",
       "      <td>414</td>\n",
       "      <td>375</td>\n",
       "      <td>632</td>\n",
       "      <td>43</td>\n",
       "      <td>10</td>\n",
       "      <td>475.0</td>\n",
       "      <td>1</td>\n",
       "      <td>1</td>\n",
       "      <td>1</td>\n",
       "    </tr>\n",
       "    <tr>\n",
       "      <th>2</th>\n",
       "      <td>479</td>\n",
       "      <td>130</td>\n",
       "      <td>18</td>\n",
       "      <td>66</td>\n",
       "      <td>72</td>\n",
       "      <td>76</td>\n",
       "      <td>3</td>\n",
       "      <td>1624</td>\n",
       "      <td>457</td>\n",
       "      <td>63</td>\n",
       "      <td>224</td>\n",
       "      <td>266</td>\n",
       "      <td>263</td>\n",
       "      <td>880</td>\n",
       "      <td>82</td>\n",
       "      <td>14</td>\n",
       "      <td>480.0</td>\n",
       "      <td>0</td>\n",
       "      <td>1</td>\n",
       "      <td>0</td>\n",
       "    </tr>\n",
       "    <tr>\n",
       "      <th>3</th>\n",
       "      <td>496</td>\n",
       "      <td>141</td>\n",
       "      <td>20</td>\n",
       "      <td>65</td>\n",
       "      <td>78</td>\n",
       "      <td>37</td>\n",
       "      <td>11</td>\n",
       "      <td>5628</td>\n",
       "      <td>1575</td>\n",
       "      <td>225</td>\n",
       "      <td>828</td>\n",
       "      <td>838</td>\n",
       "      <td>354</td>\n",
       "      <td>200</td>\n",
       "      <td>11</td>\n",
       "      <td>3</td>\n",
       "      <td>500.0</td>\n",
       "      <td>1</td>\n",
       "      <td>0</td>\n",
       "      <td>1</td>\n",
       "    </tr>\n",
       "    <tr>\n",
       "      <th>4</th>\n",
       "      <td>321</td>\n",
       "      <td>87</td>\n",
       "      <td>10</td>\n",
       "      <td>39</td>\n",
       "      <td>42</td>\n",
       "      <td>30</td>\n",
       "      <td>2</td>\n",
       "      <td>396</td>\n",
       "      <td>101</td>\n",
       "      <td>12</td>\n",
       "      <td>48</td>\n",
       "      <td>46</td>\n",
       "      <td>33</td>\n",
       "      <td>805</td>\n",
       "      <td>40</td>\n",
       "      <td>4</td>\n",
       "      <td>91.5</td>\n",
       "      <td>1</td>\n",
       "      <td>0</td>\n",
       "      <td>1</td>\n",
       "    </tr>\n",
       "    <tr>\n",
       "      <th>5</th>\n",
       "      <td>594</td>\n",
       "      <td>169</td>\n",
       "      <td>4</td>\n",
       "      <td>74</td>\n",
       "      <td>51</td>\n",
       "      <td>35</td>\n",
       "      <td>11</td>\n",
       "      <td>4408</td>\n",
       "      <td>1133</td>\n",
       "      <td>19</td>\n",
       "      <td>501</td>\n",
       "      <td>336</td>\n",
       "      <td>194</td>\n",
       "      <td>282</td>\n",
       "      <td>421</td>\n",
       "      <td>25</td>\n",
       "      <td>750.0</td>\n",
       "      <td>0</td>\n",
       "      <td>1</td>\n",
       "      <td>0</td>\n",
       "    </tr>\n",
       "  </tbody>\n",
       "</table>\n",
       "</div>"
      ],
      "text/plain": [
       "   AtBat  Hits  HmRun  Runs  RBI  Walks  Years  CAtBat  CHits  CHmRun  CRuns  \\\n",
       "1    315    81      7    24   38     39     14    3449    835      69    321   \n",
       "2    479   130     18    66   72     76      3    1624    457      63    224   \n",
       "3    496   141     20    65   78     37     11    5628   1575     225    828   \n",
       "4    321    87     10    39   42     30      2     396    101      12     48   \n",
       "5    594   169      4    74   51     35     11    4408   1133      19    501   \n",
       "\n",
       "   CRBI  CWalks  PutOuts  Assists  Errors  Salary  League_N  Division_W  \\\n",
       "1   414     375      632       43      10   475.0         1           1   \n",
       "2   266     263      880       82      14   480.0         0           1   \n",
       "3   838     354      200       11       3   500.0         1           0   \n",
       "4    46      33      805       40       4    91.5         1           0   \n",
       "5   336     194      282      421      25   750.0         0           1   \n",
       "\n",
       "   NewLeague_N  \n",
       "1            1  \n",
       "2            0  \n",
       "3            1  \n",
       "4            1  \n",
       "5            0  "
      ]
     },
     "execution_count": 12,
     "metadata": {},
     "output_type": "execute_result"
    }
   ],
   "source": [
    "hitters_data_transformed = pd.get_dummies(hitters_data, drop_first=True)\n",
    "hitters_data_transformed.head()"
   ]
  },
  {
   "cell_type": "code",
   "execution_count": 13,
   "id": "e396c38d",
   "metadata": {},
   "outputs": [
    {
     "name": "stdout",
     "output_type": "stream",
     "text": [
      "['AtBat', 'Hits', 'HmRun', 'Runs', 'RBI', 'Walks', 'Years', 'CAtBat', 'CHits', 'CHmRun', 'CRuns', 'CRBI', 'CWalks', 'PutOuts', 'Assists', 'Errors', 'League_N', 'Division_W', 'NewLeague_N']\n"
     ]
    }
   ],
   "source": [
    "col_names = list(hitters_data_transformed.columns)\n",
    "col_names.pop(16)\n",
    "print(col_names)"
   ]
  },
  {
   "cell_type": "code",
   "execution_count": 14,
   "id": "abbb8346",
   "metadata": {},
   "outputs": [],
   "source": [
    "y_full = hitters_data_transformed[\"Salary\"].to_numpy()\n",
    "X_full = hitters_data_transformed[col_names].to_numpy()\n",
    "\n",
    "# Split the data into train and test set.\n",
    "X, X_test, y, y_test = train_test_split(X_full, y_full, test_size=0.20) \n",
    "\n",
    "# Standardize the train and test design matrix.\n",
    "scaler = StandardScaler().fit(X)\n",
    "X = scaler.transform(X)\n",
    "X_test = scaler.transform(X_test)"
   ]
  },
  {
   "cell_type": "code",
   "execution_count": 15,
   "id": "2a925b22",
   "metadata": {},
   "outputs": [
    {
     "name": "stdout",
     "output_type": "stream",
     "text": [
      "---------------------------------------------------\n",
      "Evaluating lambda = 2.3988329190194904.....\n",
      "Average MSE: 139106.294812177\n",
      "---------------------------------------------------\n",
      "---------------------------------------------------\n",
      "Evaluating lambda = 2.8111815178699864.....\n",
      "Average MSE: 138653.09172708448\n",
      "---------------------------------------------------\n",
      "---------------------------------------------------\n",
      "Evaluating lambda = 3.294410987841538.....\n",
      "Average MSE: 138344.4245752117\n",
      "---------------------------------------------------\n",
      "---------------------------------------------------\n",
      "Evaluating lambda = 3.860705432153813.....\n",
      "Average MSE: 138104.6918702491\n",
      "---------------------------------------------------\n",
      "---------------------------------------------------\n",
      "Evaluating lambda = 4.524343346616745.....\n",
      "Average MSE: 138012.2823007799\n",
      "---------------------------------------------------\n",
      "---------------------------------------------------\n",
      "Evaluating lambda = 5.302057636304972.....\n",
      "Average MSE: 137935.6524779428\n",
      "---------------------------------------------------\n",
      "---------------------------------------------------\n",
      "Evaluating lambda = 6.213457517480757.....\n",
      "Average MSE: 137943.7219432544\n",
      "---------------------------------------------------\n",
      "---------------------------------------------------\n",
      "Evaluating lambda = 7.281522942561516.....\n",
      "Average MSE: 137720.32360846145\n",
      "---------------------------------------------------\n",
      "---------------------------------------------------\n",
      "Evaluating lambda = 8.533184014517392.....\n",
      "Average MSE: 137126.6197804802\n",
      "---------------------------------------------------\n",
      "---------------------------------------------------\n",
      "Evaluating lambda = 10.0.....\n",
      "Average MSE: 136784.21343975794\n",
      "---------------------------------------------------\n",
      "BEST LAMBDA: 10.0\n"
     ]
    },
    {
     "name": "stderr",
     "output_type": "stream",
     "text": [
      "/Users/avsharma/opt/anaconda3/envs/DATA558/lib/python3.7/site-packages/sklearn/linear_model/_coordinate_descent.py:532: ConvergenceWarning: Objective did not converge. You might want to increase the number of iterations. Duality gap: 5528.211098605767, tolerance: 3646.8334512291663\n",
      "  positive)\n",
      "/Users/avsharma/opt/anaconda3/envs/DATA558/lib/python3.7/site-packages/sklearn/linear_model/_coordinate_descent.py:532: ConvergenceWarning: Objective did not converge. You might want to increase the number of iterations. Duality gap: 6083.678852887824, tolerance: 3646.8334512291663\n",
      "  positive)\n"
     ]
    }
   ],
   "source": [
    "K = 5\n",
    "lambdas = np.logspace(0.38, 1, 10)\n",
    "\n",
    "best_model, best_lambda, best_performance = K_fold_cross_validation(lambdas, X, y, K)\n",
    "print(\"BEST LAMBDA:\", best_lambda)"
   ]
  },
  {
   "cell_type": "code",
   "execution_count": 16,
   "id": "48c935b5",
   "metadata": {},
   "outputs": [
    {
     "name": "stdout",
     "output_type": "stream",
     "text": [
      "10.0\n"
     ]
    },
    {
     "name": "stderr",
     "output_type": "stream",
     "text": [
      "/Users/avsharma/opt/anaconda3/envs/DATA558/lib/python3.7/site-packages/sklearn/linear_model/_coordinate_descent.py:528: ConvergenceWarning: Objective did not converge. You might want to increase the number of iterations. Duality gap: 8161.926148440689, tolerance: 3646.8334512291663\n",
      "  tol, rng, random, positive)\n"
     ]
    }
   ],
   "source": [
    "# Compare to sklearn implementation.\n",
    "from sklearn.linear_model import LassoCV\n",
    "\n",
    "print(LassoCV(alphas=lambdas, cv=K).fit(X, y).alpha_)"
   ]
  },
  {
   "cell_type": "code",
   "execution_count": 17,
   "id": "f782e7f5",
   "metadata": {},
   "outputs": [
    {
     "data": {
      "image/png": "[encoded data removed]",
      "text/plain": [
       "<Figure size 432x288 with 1 Axes>"
      ]
     },
     "metadata": {
      "needs_background": "light"
     },
     "output_type": "display_data"
    }
   ],
   "source": [
    "# Visualize the betas.\n",
    "beta = best_model.coef_\n",
    "plt.bar(np.arange(len(beta)), np.abs(beta), tick_label = col_names)\n",
    "plt.hlines(y=0, color='k', xmin=-0.5, xmax=17.5)\n",
    "plt.xticks(rotation = 45)\n",
    "plt.ylabel(r\"$|\\beta_j|$\")\n",
    "plt.show()"
   ]
  },
  {
   "cell_type": "markdown",
   "id": "7fa16911",
   "metadata": {},
   "source": [
    "## 2. Coordinate Descent\n",
    "\n",
    "Thus far in the course we have discussed and implemented two optimization algorithms: gradient descent and fast gradient descent. Both algorithms are _iterative_ and make use of _first-order_ (i.e. gradient) information to generate a sequence of iterates that converges to a minimizer of the objective function.\n",
    "\n",
    "We'll now consider a third algorithm, coordinate descent, that takes a somewhat different approach. GD and FGD update all parameters at every iteration by taking a step in the direction of the gradient. By contrast, coordinate descent focuses on one parameter at a time (holding the others constant) and takes a step that _exactly optimizes_ the objective considered as a function of that one parameter.\n",
    "\n",
    "An outline of the algorithm is written below. We assume that the function to be minimized, $L(\\beta)$, has a $d$-dimensional parameter, i.e. $\\beta \\in \\mathbb{R}^d$, so that we can equivalently write $L(\\beta) = L(\\beta_1, ..., \\beta_d)$.\n",
    "\n",
    "\n",
    "`Algorithm: Coordinate Descent`\n",
    "\n",
    "`initialize` $\\beta = \\beta^{(0)}$\n",
    "\n",
    "`while not converged:`\n",
    "\n",
    "- `select dimension` $j \\in \\{1, ..., d\\}$\n",
    "    \n",
    "- `fix all parameters` $\\beta_{j'}$ `such that` $j' \\neq j$\n",
    "    \n",
    "- `update` $\\beta_j = \\text{argmin}_{\\theta} \\ \\ L(\\beta_1, ..., \\beta_{j-1}, \\theta, \\beta_{j+1}, ..., \\beta_d)$\n",
    "\n",
    "`return` $\\beta$"
   ]
  },
  {
   "cell_type": "markdown",
   "id": "8ac03b5b",
   "metadata": {},
   "source": [
    "### 2.1 Coordinate descent for the ridge regression objective\n",
    "\n",
    "Let's see how this is implemented for the ridge regression objective\n",
    "\n",
    "$$\n",
    "L_2(\\beta) = \\frac{1}{2n}||y - X\\beta||_2^2 + \\lambda ||\\beta||_2^2.\n",
    "$$\n",
    "\n",
    "The main step in coordinate descent is the minimization over the coordinate $\\beta_j$. Note that we can write the objective as\n",
    "\n",
    "$$\n",
    "L_2(\\beta) = \\frac{1}{2n}||y - X_{-j}\\beta_{-j} - X_j\\beta_j||_2^2 + \\lambda \\left(||\\beta_{-j}||_2^2 + \\beta_j^2\\right) ,\n",
    "$$\n",
    "\n",
    "\n",
    "where we use the notation $X_{-j}$ and $\\beta_{-j}$ to indicate the removal of the $j^{th}$ column or element, respectively.\n",
    "\n",
    "\n",
    "For ridge regression, we can derive the update\n",
    "\n",
    "$$\n",
    "\\beta_j = \\text{argmin}_{\\theta} \\ \\ L_2(\\beta_1, ..., \\beta_{j-1}, \\theta, \\beta_{j+1}, ..., \\beta_d)\n",
    "$$\n",
    "\n",
    "in closed form. We'll do this (and then implement it) as a sequence of exercises.\n",
    "\n",
    "__Exercise 2.1__: Compute the partial derivative $\\frac{\\partial}{\\partial \\beta_j} L_2(\\beta)$, using the form of the ridge objective that separates $\\beta_j$ from $\\beta_{-j}$."
   ]
  },
  {
   "cell_type": "markdown",
   "id": "9b1ac91e",
   "metadata": {},
   "source": [
    "_Solution_:\n",
    "\n",
    "\n",
    "Define $r_j = y-X_{-j}\\beta_{-j}$. Then\n",
    "\n",
    "$$\n",
    "\\frac{\\partial}{\\partial \\beta_j} L_2(\\beta) = -\\frac{1}{n} X_j^T(r_j - X_j\\beta_j) + 2\\lambda \\beta_j.\n",
    "$$"
   ]
  },
  {
   "cell_type": "markdown",
   "id": "86432cf0",
   "metadata": {},
   "source": [
    "__Exercise 2.2__: Find the update rule for $\\beta_j$ by setting the partial derivative from __Ex. 3.1__ equal to zero and solving for $\\beta_j$."
   ]
  },
  {
   "cell_type": "markdown",
   "id": "0dc89eb6",
   "metadata": {},
   "source": [
    "_Solution_:\n",
    "\n",
    "We set\n",
    "\n",
    "$$\n",
    "-\\frac{1}{n} X_j^T(r_j - X_j\\beta_j) + 2\\lambda \\beta_j = (\\frac{1}{n}X_j^TX_j + 2\\lambda)\\beta_j - \\frac{1}{n}X_j^Tr_j = 0.\n",
    "$$\n",
    "\n",
    "Solving for $\\beta_j$ yields\n",
    "\n",
    "$$\n",
    "\\beta_j = \\frac{\\frac{1}{n} X_j^Tr_j}{\\frac{1}{n}X_j^TX_j + 2\\lambda}.\n",
    "$$"
   ]
  },
  {
   "cell_type": "markdown",
   "id": "e9ad7073",
   "metadata": {},
   "source": [
    "__Exercise 2.3__: Implement this update rule in the coordinate descent code provided below."
   ]
  },
  {
   "cell_type": "code",
   "execution_count": 18,
   "id": "22a039b3",
   "metadata": {},
   "outputs": [],
   "source": [
    "def coorddescent(beta_init, X, y, lam, max_iter=20):\n",
    "    d = X.shape[1] # initialize\n",
    "    it = 0\n",
    "    iterates = [beta_init]\n",
    "    \n",
    "    while it < max_iter:\n",
    "        j = np.random.choice(d) # select a random dimension\n",
    "        \n",
    "        Xj = X[:, j] # form X_j, X_{-j}, and beta_{-j}\n",
    "        Xnj = np.hstack((X[:, :j], X[:, (j+1):]))\n",
    "        beta = iterates[-1]\n",
    "        bnj = np.concatenate((beta[:j], beta[(j+1):]))\n",
    "        \n",
    "        ## <YOUR CODE HERE>\n",
    "        resid = y-np.dot(Xnj, bnj)\n",
    "        bj = (1/n*np.dot(Xj, resid)) / (2*lam + (1/n)*np.linalg.norm(Xj)**2)\n",
    "\n",
    "        new_beta = copy.copy(beta)\n",
    "        new_beta[j] = bj\n",
    "        iterates.append(new_beta)\n",
    "        it += 1\n",
    "        \n",
    "    return np.array(iterates)"
   ]
  },
  {
   "cell_type": "markdown",
   "id": "ae28e49b",
   "metadata": {},
   "source": [
    "Let's visualize the results and compare to gradient descent."
   ]
  },
  {
   "cell_type": "code",
   "execution_count": 19,
   "id": "e986e22c",
   "metadata": {},
   "outputs": [],
   "source": [
    "# plotting code\n",
    "def generate_data1(n, d, scale, beta):\n",
    "    cov = np.array([[1.0, 0.35],[0.35, 1.0]])\n",
    "    X = np.dot(np.random.normal(size=(n,d)), cov)\n",
    "    X[:, 0] = X[:, 0] * scale    \n",
    "    y = np.dot(X, beta) + np.random.normal(size=n)\n",
    "    \n",
    "    return X, y\n",
    "\n",
    "def generate_data2(n, d, k, scale):\n",
    "    X = np.random.normal(size=(n,d))\n",
    "    \n",
    "    beta = np.zeros(d)\n",
    "    supp_ix = np.random.choice(d, size=k, replace=False)\n",
    "    beta[supp_ix] = (np.random.normal(size=k)+5.0) * np.sign(np.random.normal(size=k))\n",
    "    y = np.dot(X, beta) + np.random.normal(size=n)\n",
    "    \n",
    "    return X, y, beta\n",
    "    \n",
    "def obj(beta, X, y, lam):\n",
    "    return 1/2*np.mean((y-np.dot(X, beta))**2) + lam*np.linalg.norm(beta)**2\n",
    "\n",
    "def plot_objective(X, y, iterates=None, levels=None, color='k'):\n",
    "    nb = 100\n",
    "    brange = np.linspace(-10, 10, nb)\n",
    "    b1, b2 = np.meshgrid(brange, brange)\n",
    "    z = np.array([obj(x, X, y, lam) for x in zip(b1.ravel(), b2.ravel())])\n",
    "    \n",
    "    if levels is None:\n",
    "        levels=np.logspace(-2,4,30)\n",
    "    \n",
    "    plt.contour(brange, brange, z.reshape((nb, nb)), levels=levels);\n",
    "    \n",
    "    if iterates is not None:\n",
    "        # Points.\n",
    "        plt.plot(iterates[:,0], iterates[:,1], '.', color=color);\n",
    "        \n",
    "        # Arrows.\n",
    "        for j in range(1, len(iterates)):\n",
    "            plt.annotate(\n",
    "                \"\",\n",
    "                xy=iterates[j],\n",
    "                xytext=iterates[j - 1],\n",
    "                arrowprops={\"arrowstyle\": \"->\", \"color\": color, \"lw\": 1},\n",
    "                va=\"center\",\n",
    "                ha=\"center\",\n",
    "            )"
   ]
  },
  {
   "cell_type": "code",
   "execution_count": 20,
   "id": "0ef7289c",
   "metadata": {},
   "outputs": [],
   "source": [
    "# GD code\n",
    "def computegrad(beta, X, y, lam):\n",
    "    n = len(X)\n",
    "    return -1/n * np.dot(X.T, y-np.dot(X, beta)) + 2*lam*beta\n",
    "\n",
    "def graddescent(beta_init, eta, X, y, lam, max_iter=20):\n",
    "    \"\"\"Run gradient descent with a fixed step size\n",
    "    Inputs:\n",
    "    - beta_init: Starting point\n",
    "    - eta: Step size (a constant)\n",
    "    - max_iter: Maximum number of iterations to perform\n",
    "    Output:\n",
    "    - beta_vals: Matrix of estimated betas at each iteration,\n",
    "                with the most recent values in the last row.\n",
    "    \"\"\"\n",
    "    beta = beta_init\n",
    "    grad_beta = computegrad(beta, X=X, y=y, lam=lam)\n",
    "    beta_vals = [beta]\n",
    "    iter_num = 0\n",
    "    while iter_num < max_iter:\n",
    "        beta = beta - eta*grad_beta\n",
    "        beta_vals.append(beta)\n",
    "        grad_beta = computegrad(beta, X=X, y=y, lam=lam)\n",
    "        iter_num += 1\n",
    "        \n",
    "    return np.array(beta_vals)"
   ]
  },
  {
   "cell_type": "code",
   "execution_count": 21,
   "id": "d20a75e1",
   "metadata": {},
   "outputs": [
    {
     "data": {
      "image/png": "[encoded data removed]",
      "text/plain": [
       "<Figure size 432x288 with 1 Axes>"
      ]
     },
     "metadata": {
      "needs_background": "light"
     },
     "output_type": "display_data"
    }
   ],
   "source": [
    "np.random.seed(123)\n",
    "\n",
    "n = 20\n",
    "d = 2\n",
    "scale = 5\n",
    "beta = np.array([4.0, -2.0])\n",
    "lam = 0.5\n",
    "X, y = generate_data1(n, d, scale, beta)\n",
    "\n",
    "beta_init = np.array([-5.0, 8.0])\n",
    "eta = 0.01\n",
    "GD_iterates = graddescent(beta_init, eta, X, y, lam, max_iter=20)\n",
    "CD_iterates = coorddescent(beta_init, X, y, lam, max_iter=20)\n",
    "\n",
    "\n",
    "plot_objective(X, y, iterates=GD_iterates)\n",
    "plot_objective(X, y, iterates=CD_iterates, color='red')"
   ]
  },
  {
   "cell_type": "markdown",
   "id": "2df832b5",
   "metadata": {},
   "source": [
    "Compare to sklearn results:"
   ]
  },
  {
   "cell_type": "code",
   "execution_count": 22,
   "id": "e24ee112",
   "metadata": {},
   "outputs": [],
   "source": [
    "from sklearn.linear_model import Ridge, Lasso"
   ]
  },
  {
   "cell_type": "code",
   "execution_count": 23,
   "id": "6d704d5b",
   "metadata": {},
   "outputs": [
    {
     "name": "stdout",
     "output_type": "stream",
     "text": [
      "sklearn parameters: [ 3.74544038 -0.76478525]\n"
     ]
    }
   ],
   "source": [
    "print('sklearn parameters: {}'.format(Ridge(alpha=lam*2*n, fit_intercept=False).fit(X, y).coef_))"
   ]
  },
  {
   "cell_type": "code",
   "execution_count": 24,
   "id": "e17e5af4",
   "metadata": {},
   "outputs": [
    {
     "name": "stdout",
     "output_type": "stream",
     "text": [
      "coord descent parameters: [ 3.74291944 -0.75945225]\n"
     ]
    }
   ],
   "source": [
    "print('coord descent parameters: {}'.format(CD_iterates[-1]))"
   ]
  },
  {
   "cell_type": "code",
   "execution_count": 25,
   "id": "3485e591",
   "metadata": {},
   "outputs": [
    {
     "name": "stdout",
     "output_type": "stream",
     "text": [
      "grad descent parameters: [2.77375902 5.97645686]\n"
     ]
    }
   ],
   "source": [
    "print('grad descent parameters: {}'.format(GD_iterates[-1])) # not converged!"
   ]
  },
  {
   "cell_type": "markdown",
   "id": "861a443c",
   "metadata": {},
   "source": [
    "### 2.2 The regularization path\n",
    "\n",
    "A key perspective in penalized estimation is to understand the general behavior of the estimator $\\hat{\\beta}_\\lambda$, which is defined as the solution to the optimization problem\n",
    "\n",
    "$$\n",
    "\\hat{\\beta}_\\lambda = \\text{argmin}_\\beta \\ \\ \\frac{1}{2n}||y - X\\beta||_2^2 + \\lambda \\Omega(\\beta)\n",
    "$$\n",
    "\n",
    "as a function of the regularization parameter $\\lambda \\geq 0$. In the above, we use $\\Omega(\\beta)$ as a general stand-in for the various types of penalty we might use; so far in this course, we have seen $\\Omega(\\beta) = ||\\beta||_2^2$ (ridge regression) and $\\Omega(\\beta) = ||\\beta||_1$ (Lasso).\n",
    "\n",
    "\n",
    "One way to build visual intuition is to plot the _regularization path_ of the parameters, that is, the sequence of values taken by each component of $\\hat{\\beta}_\\lambda$ as we vary $\\lambda$ over some range."
   ]
  },
  {
   "cell_type": "code",
   "execution_count": 26,
   "id": "54349c83",
   "metadata": {},
   "outputs": [],
   "source": [
    "def compute_ridge_reg_path(X, y, lam_range):\n",
    "    n = X.shape[0]\n",
    "    coefs = []\n",
    "    for lam in lam_range:\n",
    "        ## <YOUR CODE HERE>\n",
    "        coefs += [Ridge(alpha=2*n*lam).fit(X, y).coef_]\n",
    "        \n",
    "    return np.array(coefs)\n",
    "\n",
    "def plot_reg_path(coefs, lam_range):\n",
    "    d = coefs.shape[1]\n",
    "    for j in range(d):\n",
    "        log_decreasing_lams = np.log(lam_range)[::-1]\n",
    "        plt.plot(np.log(lam_range), coefs[:,j], label='Component {}'.format(j))\n",
    "        \n",
    "    plt.gca().invert_xaxis() # plot w/ lambda decreasing from left to right\n",
    "    plt.xlabel(r'$\\log \\lambda$')\n",
    "    plt.ylabel('Ridge parameter')\n",
    "    plt.legend(frameon=False, loc='upper left', fontsize=10)\n",
    "    plt.show()"
   ]
  },
  {
   "cell_type": "code",
   "execution_count": 27,
   "id": "de685e07",
   "metadata": {},
   "outputs": [],
   "source": [
    "n = 100\n",
    "d = 5\n",
    "k = 5\n",
    "scale = 5\n",
    "X, y, beta = generate_data2(n, d, k, scale)"
   ]
  },
  {
   "cell_type": "code",
   "execution_count": 28,
   "id": "80a7c25f",
   "metadata": {},
   "outputs": [],
   "source": [
    "lam_range = np.logspace(-3,3,20)\n",
    "params = compute_ridge_reg_path(X, y, lam_range)"
   ]
  },
  {
   "cell_type": "code",
   "execution_count": 36,
   "id": "42eb8332",
   "metadata": {},
   "outputs": [
    {
     "data": {
      "text/plain": [
       "array([[-6.38224414e+00,  5.06991553e+00, -4.81159789e+00,\n",
       "         5.20978129e+00,  5.73240449e+00],\n",
       "       [-6.36987343e+00,  5.05252527e+00, -4.79761928e+00,\n",
       "         5.19213128e+00,  5.71879668e+00],\n",
       "       [-6.34441990e+00,  5.01690468e+00, -4.76895480e+00,\n",
       "         5.15597588e+00,  5.69087480e+00],\n",
       "       [-6.29235909e+00,  4.94471526e+00, -4.71072994e+00,\n",
       "         5.08269161e+00,  5.63408275e+00],\n",
       "       [-6.18717259e+00,  4.80152274e+00, -4.59470224e+00,\n",
       "         4.93728611e+00,  5.52059133e+00],\n",
       "       [-5.97985996e+00,  4.52923568e+00, -4.37204583e+00,\n",
       "         4.66065579e+00,  5.30148498e+00],\n",
       "       [-5.59085982e+00,  4.05086012e+00, -3.97403682e+00,\n",
       "         4.17430967e+00,  4.90468467e+00],\n",
       "       [-4.92509811e+00,  3.31738898e+00, -3.34490967e+00,\n",
       "         3.42807310e+00,  4.25995516e+00],\n",
       "       [-3.94892361e+00,  2.40102364e+00, -2.52028801e+00,\n",
       "         2.49502247e+00,  3.36901508e+00],\n",
       "       [-2.79965416e+00,  1.51461930e+00, -1.66894362e+00,\n",
       "         1.58989360e+00,  2.36905538e+00],\n",
       "       [-1.74776970e+00,  8.50475374e-01, -9.81957411e-01,\n",
       "         9.05364963e-01,  1.47620912e+00],\n",
       "       [-9.83615182e-01,  4.42868242e-01, -5.30067543e-01,\n",
       "         4.78081981e-01,  8.31837722e-01],\n",
       "       [-5.16508196e-01,  2.21629515e-01, -2.71457902e-01,\n",
       "         2.41757351e-01,  4.37540521e-01],\n",
       "       [-2.60534527e-01,  1.08852651e-01, -1.35075682e-01,\n",
       "         1.19499167e-01,  2.20961943e-01],\n",
       "       [-1.28633637e-01,  5.30057788e-02, -6.62264476e-02,\n",
       "         5.83935901e-02,  1.09168980e-01],\n",
       "       [-6.28236815e-02,  2.57089938e-02, -3.22321253e-02,\n",
       "         2.83730677e-02,  5.33360921e-02],\n",
       "       [-3.05178996e-02,  1.24462206e-02, -1.56307196e-02,\n",
       "         1.37482335e-02,  2.59136939e-02],\n",
       "       [-1.47857251e-02,  6.02011316e-03, -7.56669374e-03,\n",
       "         6.65279987e-03,  1.25561112e-02],\n",
       "       [-7.15442717e-03,  2.91063055e-03, -3.65985112e-03,\n",
       "         3.21721117e-03,  6.07583324e-03],\n",
       "       [-3.45969462e-03,  1.40695621e-03, -1.76946351e-03,\n",
       "         1.55531375e-03,  2.93817527e-03]])"
      ]
     },
     "execution_count": 36,
     "metadata": {},
     "output_type": "execute_result"
    }
   ],
   "source": [
    "params"
   ]
  },
  {
   "cell_type": "code",
   "execution_count": 29,
   "id": "572661f6",
   "metadata": {},
   "outputs": [
    {
     "data": {
      "image/png": "[encoded data removed]",
      "text/plain": [
       "<Figure size 432x288 with 1 Axes>"
      ]
     },
     "metadata": {
      "needs_background": "light"
     },
     "output_type": "display_data"
    }
   ],
   "source": [
    "plot_reg_path(params, lam_range)"
   ]
  },
  {
   "cell_type": "markdown",
   "id": "f3b2d1bb",
   "metadata": {},
   "source": [
    "__Exercise 2.4__: Substitute your own implementation of coordinate descent for the sklearn version in the regularization path code above. Your method should produce (nearly) identical results."
   ]
  },
  {
   "cell_type": "markdown",
   "id": "b68f2fc3",
   "metadata": {},
   "source": [
    "### 2.3 Subgradients\n",
    "\n",
    "In the above, we solved the coordinate-wise minimization problem by solving the optimality condition\n",
    "\n",
    "$$\n",
    "\\frac{\\partial}{\\partial \\beta_j} L = 0\n",
    "$$\n",
    "\n",
    "at every iteration. This approach is not applicable when $L$ is not differentiable as a function of $\\beta_j$ - for example, when $L$ is the Lasso objective\n",
    "\n",
    "$$\n",
    "L(\\beta) = \\frac{1}{2n}||y - X\\beta||_2^2 + \\lambda ||\\beta||_1.\n",
    "$$\n",
    "\n",
    "Instead, we need to use the concept of the _subgradient_.\n",
    "\n",
    "\n",
    "__Definition__: A _subgradient_ of a function $f$ at $x$ is _any quantity_ $g$ satisfying\n",
    "\n",
    "$$\n",
    "f(z) \\geq f(x) + g^T (z-x) \\ \\ \\text{ for all } z.\n",
    "$$\n",
    "\n",
    "__Definition__: The _subdifferential_ of $f$ at $x$ is the set of all subgradients of $f$ at $x$. It is denoted by $\\partial f(x)$.\n",
    "\n",
    "\n",
    "Two important properties:\n",
    "1. A convex function $f$ is differentiable at $x$ if and only if the subdifferential $\\partial f(x)$ consists of a single point.\n",
    "2. The point $x$ is a global minimum of $f$ if and only if $0 \\in \\partial f(x)$.\n",
    "\n",
    "Property (2) generalizes the optimality condition for differentiable functions to _subdifferentiable_ functions, such as the Lasso objective. We can use this for coordinate descent!\n",
    "\n",
    "In particular, we have seen in the lecture that the subgradient optimality condition yields a solution in terms of the soft thresholding function in the case of the Lasso problem (writing $L(\\beta_j)$ to indicate that we are considering the Lasso objective $L$ a function of $\\beta_j$ only for the coordinate descent sub-problem):\n",
    "\n",
    "$$\n",
    "0 \\in \\partial L(\\beta_j) \\implies \\beta_j = S(\\gamma_j, \\eta_j, \\lambda),\n",
    "$$\n",
    "\n",
    "where the soft-thresholding function $S$ is given by\n",
    "\n",
    "$$\n",
    "S(\\gamma_j, \\eta_j, \\lambda) = \\begin{cases} \\frac{\\gamma_j - \\lambda}{\\eta_j} & \\gamma_j > \\lambda \\\\ 0 & -\\lambda \\leq \\gamma_j \\leq \\lambda \\\\ \\frac{\\gamma_j + \\lambda}{\\eta_j} & \\gamma_j < -\\lambda \\end{cases},\n",
    "$$\n",
    "\n",
    "and \n",
    "$$\n",
    "\\gamma_j = \\frac{1}{n} X_j^T(y-X_{-j}^T\\beta_{-j}) \\\\\n",
    "\\eta_j = \\frac{1}{n} X_j^TX_j.\n",
    "$$ "
   ]
  },
  {
   "cell_type": "markdown",
   "id": "c290ca64",
   "metadata": {},
   "source": [
    "__Exercise 2.5__: Implement the soft-threshold function."
   ]
  },
  {
   "cell_type": "code",
   "execution_count": 30,
   "id": "561a13f3",
   "metadata": {},
   "outputs": [],
   "source": [
    "def soft_threshold(gamma, eta, lam):\n",
    "    '''\n",
    "    See HW4 solutions.\n",
    "    '''"
   ]
  },
  {
   "cell_type": "markdown",
   "id": "659d5439",
   "metadata": {},
   "source": [
    "### 2.4 Coordinate descent for the Lasso\n",
    "\n",
    "Finally, let's put the above two sections together to implement our own optimization algorithm for the Lasso objective - our first nonsmooth optimization problem. Note that neither GD nor fast GD is applicable here, as the Lasso objective is not differentiable.\n",
    "\n",
    "__Exercise 2.6__: Re-implement coordinate descent, this time for the Lasso objective.\n",
    "\n",
    "__Exercise 2.7__: Generate data from the `generate_data2()` function, then compute regularization paths for _both_ ridge regression and the Lasso on this data. Plot the regularization paths, either together or side-by-side. How does the regularization path of the Lasso compare to that of ridge regression?"
   ]
  },
  {
   "cell_type": "code",
   "execution_count": 31,
   "id": "fd955207",
   "metadata": {},
   "outputs": [],
   "source": [
    "def coorddescent_lasso(beta_init, X, y, lam, max_iter=20):\n",
    "    d = X.shape[1] # initialize\n",
    "    it = 0\n",
    "    iterates = [beta_init]\n",
    "    \n",
    "    while it < max_iter:\n",
    "        '''\n",
    "        See HW4 solutions.\n",
    "        '''\n",
    "    \n",
    "        new_beta = copy.copy(beta)\n",
    "        new_beta[j] = soft_threshold(gamma, eta, lam)\n",
    "        iterates.append(new_beta)\n",
    "        it += 1\n",
    "        \n",
    "    return np.array(iterates)"
   ]
  },
  {
   "cell_type": "markdown",
   "id": "d3cba72b",
   "metadata": {},
   "source": [
    "As always, we can compare our implementation to sklearn to check for correctness."
   ]
  },
  {
   "cell_type": "code",
   "execution_count": 32,
   "id": "c7a083a9",
   "metadata": {},
   "outputs": [],
   "source": [
    "n = 100\n",
    "d = 50\n",
    "k = 20\n",
    "scale = 5\n",
    "lam = 1.0\n",
    "X, y, beta = generate_data2(n, d, k, scale)\n",
    "\n",
    "X = X-np.mean(X, axis=0)\n",
    "y = y-np.mean(y)"
   ]
  },
  {
   "cell_type": "code",
   "execution_count": 33,
   "id": "5c5f46a0",
   "metadata": {},
   "outputs": [
    {
     "data": {
      "text/plain": [
       "array([ 0.        ,  0.        ,  4.57109839,  0.        ,  0.        ,\n",
       "        5.47352486,  0.        ,  0.        ,  0.        ,  0.        ,\n",
       "        0.        , -2.52143921,  4.43375432,  0.        , -5.27789076,\n",
       "       -3.43052745, -4.05864218,  0.        , -5.74735922,  0.        ,\n",
       "        4.71237914,  0.        ,  0.        ,  5.11468039,  0.        ,\n",
       "       -6.51999898,  0.        , -5.24744217,  0.        , -4.29322129,\n",
       "        0.        ,  0.        ,  0.        ,  5.23250015,  0.        ,\n",
       "        0.        ,  0.        ,  5.64069926,  0.        ,  5.02913409,\n",
       "        0.        ,  0.        ,  0.        ,  3.6913096 ,  0.        ,\n",
       "       -3.50960491,  5.50864037, -4.36037263,  0.        ,  0.        ])"
      ]
     },
     "execution_count": 33,
     "metadata": {},
     "output_type": "execute_result"
    }
   ],
   "source": [
    "beta"
   ]
  },
  {
   "cell_type": "code",
   "execution_count": 34,
   "id": "e0f46a68",
   "metadata": {},
   "outputs": [
    {
     "data": {
      "text/plain": [
       "array([-0.        ,  0.        ,  5.33972439, -0.        ,  0.        ,\n",
       "        4.34465214,  0.        , -0.        , -0.        , -0.        ,\n",
       "        0.        , -0.75707096,  2.16274144,  0.86809311, -4.25941536,\n",
       "       -1.93930344, -3.39945976,  0.        , -3.3297463 ,  0.        ,\n",
       "        5.02499038,  0.        , -0.        ,  4.55238661, -0.        ,\n",
       "       -5.43718019, -0.        , -3.91662411,  0.        , -1.99263844,\n",
       "       -0.        , -0.        ,  0.        ,  3.53429781,  0.        ,\n",
       "        0.        ,  0.        ,  4.28404432,  0.        ,  4.24647574,\n",
       "       -0.        ,  0.        , -0.        ,  2.48388791,  0.        ,\n",
       "       -1.60201486,  3.18139349, -2.42577423,  0.        ,  0.        ])"
      ]
     },
     "execution_count": 34,
     "metadata": {},
     "output_type": "execute_result"
    }
   ],
   "source": [
    "la = Lasso(alpha=lam).fit(X,y)\n",
    "la.coef_"
   ]
  },
  {
   "cell_type": "code",
   "execution_count": 35,
   "id": "b3ca872c",
   "metadata": {},
   "outputs": [
    {
     "ename": "NameError",
     "evalue": "name 'gamma' is not defined",
     "output_type": "error",
     "traceback": [
      "\u001b[0;31m---------------------------------------------------------------------------\u001b[0m",
      "\u001b[0;31mNameError\u001b[0m                                 Traceback (most recent call last)",
      "\u001b[0;32m<ipython-input-35-facf634dffb6>\u001b[0m in \u001b[0;36m<module>\u001b[0;34m\u001b[0m\n\u001b[1;32m      1\u001b[0m \u001b[0mbeta_init\u001b[0m \u001b[0;34m=\u001b[0m \u001b[0mnp\u001b[0m\u001b[0;34m.\u001b[0m\u001b[0mrandom\u001b[0m\u001b[0;34m.\u001b[0m\u001b[0mnormal\u001b[0m\u001b[0;34m(\u001b[0m\u001b[0msize\u001b[0m\u001b[0;34m=\u001b[0m\u001b[0md\u001b[0m\u001b[0;34m)\u001b[0m\u001b[0;34m\u001b[0m\u001b[0;34m\u001b[0m\u001b[0m\n\u001b[0;32m----> 2\u001b[0;31m \u001b[0mCD_iterates\u001b[0m \u001b[0;34m=\u001b[0m \u001b[0mcoorddescent_lasso\u001b[0m\u001b[0;34m(\u001b[0m\u001b[0mbeta_init\u001b[0m\u001b[0;34m,\u001b[0m \u001b[0mX\u001b[0m\u001b[0;34m,\u001b[0m \u001b[0my\u001b[0m\u001b[0;34m,\u001b[0m \u001b[0mlam\u001b[0m\u001b[0;34m,\u001b[0m \u001b[0mmax_iter\u001b[0m\u001b[0;34m=\u001b[0m\u001b[0;36m2000\u001b[0m\u001b[0;34m)\u001b[0m\u001b[0;34m\u001b[0m\u001b[0;34m\u001b[0m\u001b[0m\n\u001b[0m",
      "\u001b[0;32m<ipython-input-31-e176b742d660>\u001b[0m in \u001b[0;36mcoorddescent_lasso\u001b[0;34m(beta_init, X, y, lam, max_iter)\u001b[0m\n\u001b[1;32m     10\u001b[0m \u001b[0;34m\u001b[0m\u001b[0m\n\u001b[1;32m     11\u001b[0m         \u001b[0mnew_beta\u001b[0m \u001b[0;34m=\u001b[0m \u001b[0mcopy\u001b[0m\u001b[0;34m.\u001b[0m\u001b[0mcopy\u001b[0m\u001b[0;34m(\u001b[0m\u001b[0mbeta\u001b[0m\u001b[0;34m)\u001b[0m\u001b[0;34m\u001b[0m\u001b[0;34m\u001b[0m\u001b[0m\n\u001b[0;32m---> 12\u001b[0;31m         \u001b[0mnew_beta\u001b[0m\u001b[0;34m[\u001b[0m\u001b[0mj\u001b[0m\u001b[0;34m]\u001b[0m \u001b[0;34m=\u001b[0m \u001b[0msoft_threshold\u001b[0m\u001b[0;34m(\u001b[0m\u001b[0mgamma\u001b[0m\u001b[0;34m,\u001b[0m \u001b[0meta\u001b[0m\u001b[0;34m,\u001b[0m \u001b[0mlam\u001b[0m\u001b[0;34m)\u001b[0m\u001b[0;34m\u001b[0m\u001b[0;34m\u001b[0m\u001b[0m\n\u001b[0m\u001b[1;32m     13\u001b[0m         \u001b[0miterates\u001b[0m\u001b[0;34m.\u001b[0m\u001b[0mappend\u001b[0m\u001b[0;34m(\u001b[0m\u001b[0mnew_beta\u001b[0m\u001b[0;34m)\u001b[0m\u001b[0;34m\u001b[0m\u001b[0;34m\u001b[0m\u001b[0m\n\u001b[1;32m     14\u001b[0m         \u001b[0mit\u001b[0m \u001b[0;34m+=\u001b[0m \u001b[0;36m1\u001b[0m\u001b[0;34m\u001b[0m\u001b[0;34m\u001b[0m\u001b[0m\n",
      "\u001b[0;31mNameError\u001b[0m: name 'gamma' is not defined"
     ]
    }
   ],
   "source": [
    "beta_init = np.random.normal(size=d)\n",
    "CD_iterates = coorddescent_lasso(beta_init, X, y, lam, max_iter=2000)"
   ]
  },
  {
   "cell_type": "code",
   "execution_count": null,
   "id": "ecd2e336",
   "metadata": {},
   "outputs": [],
   "source": [
    "CD_iterates[-1]"
   ]
  },
  {
   "cell_type": "code",
   "execution_count": null,
   "id": "3c45ddda",
   "metadata": {},
   "outputs": [],
   "source": [
    "np.sum(np.logical_and(CD_iterates[-1]>0, beta>0)) # positive coefficients found"
   ]
  },
  {
   "cell_type": "code",
   "execution_count": null,
   "id": "0ce4a2fb",
   "metadata": {},
   "outputs": [],
   "source": [
    "np.sum(np.logical_and(CD_iterates[-1]>0, beta==0)) # false positives"
   ]
  },
  {
   "cell_type": "code",
   "execution_count": null,
   "id": "642cc993",
   "metadata": {},
   "outputs": [],
   "source": []
  }
 ],
 "metadata": {
  "kernelspec": {
   "display_name": "Python 3",
   "language": "python",
   "name": "python3"
  },
  "language_info": {
   "codemirror_mode": {
    "name": "ipython",
    "version": 3
   },
   "file_extension": ".py",
   "mimetype": "text/x-python",
   "name": "python",
   "nbconvert_exporter": "python",
   "pygments_lexer": "ipython3",
   "version": "3.7.10"
  }
 },
 "nbformat": 4,
 "nbformat_minor": 5
}
