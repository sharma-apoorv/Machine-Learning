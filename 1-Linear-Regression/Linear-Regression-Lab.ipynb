{
 "cells": [
  {
   "cell_type": "markdown",
   "id": "traditional-harvest",
   "metadata": {},
   "source": [
    "# <center>Lab 2: Linear Regression, Ridge Regression, Gradient Descent</center>\n",
    "<center>DATA 558, Spring 2021</center>\n",
    "<center>TAs: Alec Greaves-Tunnell and Ronak Mehta</center>"
   ]
  },
  {
   "cell_type": "markdown",
   "id": "professional-smith",
   "metadata": {},
   "source": [
    "## 0. Overview\n",
    "\n",
    "In this lab, we will cover:\n",
    "- Running ordinary least-squares linear regression (OLS) using `sklearn`.\n",
    "- Training performance metrics such as RSS, RSE, and $R^2$.\n",
    "- Generalization performance metrics such MSE.\n",
    "- Handling qualitative predictors using `pandas`.\n",
    "- Running regularized least-squares ridge regression (RLS) using `sklearn`.\n",
    "- The bias-variance tradeoff and the statistical view of regularization.\n",
    "- Gradient descent for oracle-based convex optimization.\n",
    "- The optimization perspective on regularization."
   ]
  },
  {
   "cell_type": "markdown",
   "id": "cooperative-truth",
   "metadata": {},
   "source": [
    "## 1. Ordinary Least-Squares Linear Regression (OLS)\n",
    "\n",
    "Let $(x, y) \\sim P_{x, y}$ be a random variable, where $x$ is observed in $\\mathbb{R}^{p+1}$ and $y$ is observed in $\\mathbb{R}$. $x$ is referred to as the *input* or *example*, and $y$ is referred to as the *output*, *label*, or *response*. We use $\\mathbb{R}^{p+1}$ because $x$ is assumed to have $1$ as its first entry, followed by $p$ *features* $x^{(1)}, \\ldots, x^{(p)}$. That is,\n",
    "$$\n",
    "x = \\begin{bmatrix} 1 \\\\ x^{(1)} \\\\ \\vdots \\\\ x^{(p)}\\end{bmatrix}\n",
    "$$\n",
    "The *ordinary least-squares linear regression* (OLS) method wishes to find a linear function from $\\mathbb{R}^{p+1}$ to $\\mathbb{R}$ that can accurately predict $y$ from a given $x$. Specifically, we would like the $\\beta \\in \\mathbb{R}^{p+1}$ that minimizes\n",
    "$$\n",
    "\\mathbb{E}_{x, y \\sim P_{x, y}}\\left[(y - \\beta^\\top x)^2\\right]\n",
    "$$\n",
    "This depends on the joint distribution $P_{x,y}$, to which we do not have access. Instead, we are given a training set $(x_1, y_1), ..., (x_n, y_n)$ with $x_i \\in \\mathbb{R}^{p+1}$ and $y_i \\in \\mathbb{R}$ for $i = 1, ..., n$, and estimate $\\beta$ by minimizing the objective\n",
    "$$\n",
    "\\frac{1}{n} \\sum_{i=1}^n (y_i - \\beta^\\top x_i)^2.\n",
    "$$\n",
    "In this section, we show how to find the optimal $\\beta$ using `sklearn`."
   ]
  },
  {
   "cell_type": "markdown",
   "id": "atomic-steal",
   "metadata": {},
   "source": [
    "### 1.1. Performance Measures for Training\n",
    "\n",
    "We first define a few performance measures that will come up often. Let $\\hat{y}_i = \\beta^\\top x_i$ be the predicted response for data point $x_i$ for a particular choice of $\\beta$. The *residual sum-of-squares* ($\\text{RSS}$) is defined as\n",
    "\n",
    "$$\n",
    "\\text{RSS} = \\sum_{i=1}^n (y_i - \\hat{y}_i)^2 = \\sum_{i=1}^n (y_i - \\beta^\\top x_i)^2.\n",
    "$$\n",
    "\n",
    "Implicitly, this is a function of $\\beta$. Define the vector\n",
    "\n",
    "$$\n",
    "y = \\begin{bmatrix} y_1 \\\\ \\vdots \\\\ y_n\\end{bmatrix} \\in \\mathbb{R}^n\n",
    "$$\n",
    "\n",
    "and the matrix\n",
    "\n",
    "$$\n",
    "X = \\begin{bmatrix} x_1^\\top \\\\ \\vdots \\\\ x^\\top_n\\end{bmatrix} = \\begin{bmatrix} 1 & x^{(1)}_1 & \\ldots & x^{(p)}_1 \\\\ \\vdots & \\vdots & \\ddots & \\vdots \\\\ 1 & x^{(1)}_n & \\ldots & x^{(p)}_n\\end{bmatrix} \\in \\mathbb{R}^{n \\times (p+1)}.\n",
    "$$\n",
    "\n",
    "Note that we overloaded then notation for $y$, but it should be clear from context. $\\text{RSS}$ can also be written compactly as\n",
    "\n",
    "$$\n",
    "\\text{RSS} = (y - X\\beta)^\\top (y - X\\beta) = || y-X\\beta||_2^2\n",
    "$$\n",
    "\n",
    "This is exactly the same objective as above, and is what is minimized by OLS to estimate $\\beta$."
   ]
  },
  {
   "cell_type": "markdown",
   "id": "labeled-bullet",
   "metadata": {},
   "source": [
    "One key statistical fact is that if we assume that $x_1, ..., x_n$ are fixed, and each $y_i \\sim \\mathcal{N}(\\beta^\\top x_i, \\sigma^2)$ for some $\\beta \\in \\mathbb{R}^{p+1}$, then we have that\n",
    "\n",
    "$$\n",
    "\\frac{1}{\\sigma^2} \\text{RSS} \\sim \\chi^2_{n - p - 1}\n",
    "$$\n",
    "\n",
    "This fact is used to derive hypothesis tests that compare the performance of models, usefulness of predictors, etc."
   ]
  },
  {
   "cell_type": "markdown",
   "id": "silent-wayne",
   "metadata": {},
   "source": [
    "Let us instantiate all of these terms on data. The [Advertising](https://www.kaggle.com/ishaanv/ISLR-Auto?select=Advertising.csv) dataset contains contains statistics about the sales of a product in 200 different markets, together with advertising budgets in each of these markets for different media channels: TV, radio and newspaper. The sales are in thousands of units and the budget is in thousands of dollars."
   ]
  },
  {
   "cell_type": "code",
   "execution_count": 1,
   "id": "confirmed-scotland",
   "metadata": {},
   "outputs": [],
   "source": [
    "import pandas as pd\n",
    "import numpy as np"
   ]
  },
  {
   "cell_type": "code",
   "execution_count": 2,
   "id": "vietnamese-humanity",
   "metadata": {},
   "outputs": [
    {
     "data": {
      "text/html": [
       "<div>\n",
       "<style scoped>\n",
       "    .dataframe tbody tr th:only-of-type {\n",
       "        vertical-align: middle;\n",
       "    }\n",
       "\n",
       "    .dataframe tbody tr th {\n",
       "        vertical-align: top;\n",
       "    }\n",
       "\n",
       "    .dataframe thead th {\n",
       "        text-align: right;\n",
       "    }\n",
       "</style>\n",
       "<table border=\"1\" class=\"dataframe\">\n",
       "  <thead>\n",
       "    <tr style=\"text-align: right;\">\n",
       "      <th></th>\n",
       "      <th>TV</th>\n",
       "      <th>Radio</th>\n",
       "      <th>Newspaper</th>\n",
       "      <th>Sales</th>\n",
       "    </tr>\n",
       "  </thead>\n",
       "  <tbody>\n",
       "    <tr>\n",
       "      <th>1</th>\n",
       "      <td>230.1</td>\n",
       "      <td>37.8</td>\n",
       "      <td>69.2</td>\n",
       "      <td>22.1</td>\n",
       "    </tr>\n",
       "    <tr>\n",
       "      <th>2</th>\n",
       "      <td>44.5</td>\n",
       "      <td>39.3</td>\n",
       "      <td>45.1</td>\n",
       "      <td>10.4</td>\n",
       "    </tr>\n",
       "    <tr>\n",
       "      <th>3</th>\n",
       "      <td>17.2</td>\n",
       "      <td>45.9</td>\n",
       "      <td>69.3</td>\n",
       "      <td>9.3</td>\n",
       "    </tr>\n",
       "    <tr>\n",
       "      <th>4</th>\n",
       "      <td>151.5</td>\n",
       "      <td>41.3</td>\n",
       "      <td>58.5</td>\n",
       "      <td>18.5</td>\n",
       "    </tr>\n",
       "    <tr>\n",
       "      <th>5</th>\n",
       "      <td>180.8</td>\n",
       "      <td>10.8</td>\n",
       "      <td>58.4</td>\n",
       "      <td>12.9</td>\n",
       "    </tr>\n",
       "  </tbody>\n",
       "</table>\n",
       "</div>"
      ],
      "text/plain": [
       "      TV  Radio  Newspaper  Sales\n",
       "1  230.1   37.8       69.2   22.1\n",
       "2   44.5   39.3       45.1   10.4\n",
       "3   17.2   45.9       69.3    9.3\n",
       "4  151.5   41.3       58.5   18.5\n",
       "5  180.8   10.8       58.4   12.9"
      ]
     },
     "execution_count": 2,
     "metadata": {},
     "output_type": "execute_result"
    }
   ],
   "source": [
    "# `index_col` specificies that the first column contains indices.\n",
    "ad_data = pd.read_csv('Advertising.csv', index_col=0)\n",
    "ad_data.head(5)"
   ]
  },
  {
   "cell_type": "code",
   "execution_count": 3,
   "id": "peripheral-valley",
   "metadata": {},
   "outputs": [
    {
     "name": "stdout",
     "output_type": "stream",
     "text": [
      "Sample size: n = 200\n",
      "Dimension: p = 3\n",
      "X shape: (200, 3)\n",
      "y shape: (200,)\n"
     ]
    }
   ],
   "source": [
    "X = ad_data[[\"TV\", \"Radio\", \"Newspaper\"]].to_numpy() # Index with a list of columns.\n",
    "y = ad_data[\"Sales\"].to_numpy()                      # Index with a single column.\n",
    "\n",
    "n, p = X.shape\n",
    "\n",
    "print(\"Sample size: n =\", n)\n",
    "print(\"Dimension: p =\", p)\n",
    "\n",
    "print(\"X shape:\", X.shape) # Should be 2D array.\n",
    "print(\"y shape:\", y.shape) # Should be 1D array."
   ]
  },
  {
   "cell_type": "code",
   "execution_count": 4,
   "id": "informal-quebec",
   "metadata": {},
   "outputs": [],
   "source": [
    "# Docs: https://scikit-learn.org/stable/modules/generated/sklearn.linear_model.LinearRegression.html\n",
    "from sklearn.linear_model import LinearRegression"
   ]
  },
  {
   "cell_type": "code",
   "execution_count": 5,
   "id": "preceding-criticism",
   "metadata": {},
   "outputs": [
    {
     "data": {
      "text/plain": [
       "LinearRegression()"
      ]
     },
     "execution_count": 5,
     "metadata": {},
     "output_type": "execute_result"
    }
   ],
   "source": [
    "lr = LinearRegression() # Create algorithm object (common to all of sklearn).\n",
    "lr.fit(X, y)            # Fit to data. We do not have to append the intercept because 'fit_intercept = True'"
   ]
  },
  {
   "cell_type": "markdown",
   "id": "opening-assistant",
   "metadata": {},
   "source": [
    "When running more computationally expensive procedures, it is usually good practice to have imports, fitting, and evaluation in different cells. This will not be a big issue for linear regression."
   ]
  },
  {
   "cell_type": "code",
   "execution_count": 6,
   "id": "bigger-bridge",
   "metadata": {},
   "outputs": [
    {
     "name": "stdout",
     "output_type": "stream",
     "text": [
      "beta: [ 2.93888937e+00  4.57646455e-02  1.88530017e-01 -1.03749304e-03]\n"
     ]
    }
   ],
   "source": [
    "bias = np.array(lr.intercept_).reshape((1,))\n",
    "weights = lr.coef_\n",
    "beta = np.concatenate([bias, weights])\n",
    "print(\"beta:\", beta)"
   ]
  },
  {
   "cell_type": "code",
   "execution_count": 7,
   "id": "appointed-chase",
   "metadata": {},
   "outputs": [
    {
     "name": "stdout",
     "output_type": "stream",
     "text": [
      "RSS: 556.8252629021872\n"
     ]
    }
   ],
   "source": [
    "yhat = lr.predict(X)\n",
    "RSS = np.dot(y - yhat, y - yhat)\n",
    "\n",
    "print(\"RSS:\", RSS)"
   ]
  },
  {
   "cell_type": "code",
   "execution_count": 8,
   "id": "classified-freight",
   "metadata": {},
   "outputs": [
    {
     "data": {
      "text/plain": [
       "556.8252629021872"
      ]
     },
     "execution_count": 8,
     "metadata": {},
     "output_type": "execute_result"
    }
   ],
   "source": [
    "np.linalg.norm((y-yhat))**2 # RSS is the squared 2-norm of the residuals"
   ]
  },
  {
   "cell_type": "markdown",
   "id": "provincial-english",
   "metadata": {},
   "source": [
    "Another, slightly more interpretable measure is the *residual standard error* ($\\text{RSE}$), which is computed as\n",
    "\n",
    "$$\n",
    "\\text{RSE} = \\sqrt{\\frac{1}{n-p-1}\\text{RSS}} = \\sqrt{\\frac{1}{n-p-1}\\sum_{i=1}^n (y_i - \\hat{y}_i)^2}\n",
    "$$\n",
    "\n",
    "Roughly speaking, it is the average amount that the response will deviate from the regression line. Notably, the measure is in the same units as the response."
   ]
  },
  {
   "cell_type": "code",
   "execution_count": 9,
   "id": "unnecessary-tours",
   "metadata": {},
   "outputs": [
    {
     "name": "stdout",
     "output_type": "stream",
     "text": [
      "RSE: 1.685510373414744\n"
     ]
    }
   ],
   "source": [
    "RSE = np.sqrt(RSS / (n - p - 1))\n",
    "\n",
    "print(\"RSE:\", RSE)"
   ]
  },
  {
   "cell_type": "markdown",
   "id": "catholic-journey",
   "metadata": {},
   "source": [
    "Thus, the predicted sales are about \\$1,686 off from the actual sales on average."
   ]
  },
  {
   "cell_type": "markdown",
   "id": "everyday-police",
   "metadata": {},
   "source": [
    "**Exercise 1.1:** Compare and contrast RSS vs RSE as error metrics. Which has a more natural statistical definition? Which is easier to interpret in terms of the response?"
   ]
  },
  {
   "cell_type": "markdown",
   "id": "coordinated-situation",
   "metadata": {},
   "source": [
    "One can equivalently think of the optimal $\\beta$ as minimizing $\\text{RSE}$, as multiplying by the positive constant ($\\frac{1}{n-p-1}$) or applying a monotonically increasing function ($\\sqrt{\\cdot}$) does not change the optimum. Two important notes:\n",
    "- $\\text{RSS}$ and $\\text{RSE}$ are computed on the *training set*. $\\beta$ is *selected specifically to minimize* $\\text{RSS}$, so it is not a reliable measure of the model's *generalization error*. \n",
    "- $\\text{RSS}$ can be computed for any model, not just the linear model. In other contexts, we will usually just call it squared loss. $\\text{RSE}$, while it can be computed, is more specific to linear models."
   ]
  },
  {
   "cell_type": "markdown",
   "id": "effective-edgar",
   "metadata": {},
   "source": [
    "One final performance measure on the training set is the $R^2$ statistic. Because $\\text{RSE}$ is measured in the units of the response, it is not always clear what constitutes a \"good\" value of $\\text{RSE}$. The $R^2$ statistic provides an alternate measure that is bounded between $0$ and $1$. While $\\text{RSS}$ and $\\text{RSE}$ are measures of *lack of fit*, $R^2$ measures *goodness of fit*. To compute it, first define *total sum of squares* ($\\text{TSS}$) as\n",
    "\n",
    "$$\n",
    "\\text{TSS} = \\sum_{i=1}^n (y_i - \\bar{y})^2,\n",
    "$$\n",
    "\n",
    "where $\\bar{y} = \\frac{1}{n} \\sum_{i=1}^n y_i$ is the sample average of the responses. $\\text{TSS}$ is also the $\\text{RSS}$ when using a model with $0$ features (only an intercept). The $\\text{TSS}$ measures the total variability inherent in the response before the regression is performed. We then define $R^2$ as\n",
    "\n",
    "$$\n",
    "R^2 = \\frac{\\text{TSS} - \\text{RSS}}{\\text{TSS}} = 1 - \\frac{\\text{RSS}}{\\text{TSS}}.\n",
    "$$\n",
    "\n",
    "This is guaranteed to be between $0$ and $1$ because of the identity\n",
    "\n",
    "$$\n",
    "\\sum_{i=1}^n (y_i - \\bar{y})^2 = \\sum_{i=1}^n (y_i - \\hat{y}_i)^2 + \\sum_{i=1}^n (\\hat{y}_i - \\bar{y})^2\n",
    "$$"
   ]
  },
  {
   "cell_type": "markdown",
   "id": "everyday-premiere",
   "metadata": {},
   "source": [
    "Because $R^2$ is *unitless*, it is clear that close to $1$ means \"good\" and close to $0$. Also note that the threshold for \"good\" and \"bad\" vary by field."
   ]
  },
  {
   "cell_type": "code",
   "execution_count": 10,
   "id": "legislative-batman",
   "metadata": {},
   "outputs": [
    {
     "name": "stdout",
     "output_type": "stream",
     "text": [
      "R^2: 0.8972106381789522\n"
     ]
    }
   ],
   "source": [
    "from sklearn.metrics import r2_score\n",
    "\n",
    "print(\"R^2:\", r2_score(y, yhat))"
   ]
  },
  {
   "cell_type": "markdown",
   "id": "european-gentleman",
   "metadata": {},
   "source": [
    "Because $0.90$ is close to $1$, this indicates a good fit."
   ]
  },
  {
   "cell_type": "markdown",
   "id": "homeless-still",
   "metadata": {},
   "source": [
    "### 1.2. Performance Measures for Generalization Error\n",
    "\n",
    "All of the previous performance measures are evaluated on the training set to ensure that the optimization is performed correctly. To evaluate generalization error, we will instead use (test) *mean squared error* ($\\text{MSE}$). That is, letting $(x_1, y_1), ..., (x_n, y_n)$ denote the training set, we choose $\\beta$ to minimize\n",
    "\n",
    "$$\n",
    "\\text{RSS} = \\sum_{i=1}^n (y_i - \\hat{y}_i) = \\sum_{i=1}^n (y_i - \\beta^\\top x_i).\n",
    "$$\n",
    "\n",
    "Then, using the $\\beta$ from above, and test set $(x'_1, y'_1), ..., (x'_m, y'_m)$, we evaluate\n",
    "\n",
    "$$\n",
    "\\text{MSS} = \\frac{1}{m} \\sum_{i=1}^m (y'_i - \\hat{y}'_i) = \\frac{1}{m}\\sum_{i=1}^m (y'_i - \\beta^\\top x'_i).\n",
    "$$"
   ]
  },
  {
   "cell_type": "code",
   "execution_count": 11,
   "id": "coordinate-correspondence",
   "metadata": {},
   "outputs": [],
   "source": [
    "from sklearn.model_selection import train_test_split\n",
    "from sklearn.metrics import mean_squared_error"
   ]
  },
  {
   "cell_type": "code",
   "execution_count": 12,
   "id": "automotive-report",
   "metadata": {},
   "outputs": [
    {
     "name": "stdout",
     "output_type": "stream",
     "text": [
      "Training set size: n = 134\n",
      "Test set size: m = 66\n",
      "X_train shape (134, 3)\n",
      "y_train shape (134,)\n",
      "X_test shape (66, 3)\n",
      "y_test shape (66,)\n"
     ]
    }
   ],
   "source": [
    "X_train, X_test, y_train, y_test = train_test_split(X, y, test_size=0.33, random_state=42)\n",
    "\n",
    "n = len(X_train)\n",
    "m = len(X_test)\n",
    "\n",
    "print(\"Training set size: n =\", n)\n",
    "print(\"Test set size: m =\", m)\n",
    "\n",
    "print(\"X_train shape\", X_train.shape)\n",
    "print(\"y_train shape\", y_train.shape)\n",
    "print(\"X_test shape\", X_test.shape)\n",
    "print(\"y_test shape\", y_test.shape)"
   ]
  },
  {
   "cell_type": "code",
   "execution_count": 13,
   "id": "integral-factor",
   "metadata": {},
   "outputs": [
    {
     "name": "stdout",
     "output_type": "stream",
     "text": [
      "MSE: 3.7279283306815105\n"
     ]
    }
   ],
   "source": [
    "lr = LinearRegression()\n",
    "\n",
    "lr.fit(X_train, y_train) # Fit to training set.\n",
    "\n",
    "y_pred = lr.predict(X_test) # Predicted y on the test set.\n",
    "\n",
    "MSE = mean_squared_error(y_test, y_pred)\n",
    "\n",
    "print(\"MSE:\", MSE)"
   ]
  },
  {
   "cell_type": "markdown",
   "id": "stable-ultimate",
   "metadata": {},
   "source": [
    "To put it in the same units as the response, we can use the *root mean squared error* ($\\text{RMSE}$)\n",
    "\n",
    "$$\n",
    "\\text{RMSE} = \\sqrt{\\text{MSE}}\n",
    "$$"
   ]
  },
  {
   "cell_type": "code",
   "execution_count": 14,
   "id": "generic-plumbing",
   "metadata": {},
   "outputs": [
    {
     "name": "stdout",
     "output_type": "stream",
     "text": [
      "RMSE: 1.9307843822347204\n"
     ]
    }
   ],
   "source": [
    "print(\"RMSE:\", np.sqrt(MSE))"
   ]
  },
  {
   "cell_type": "markdown",
   "id": "fatty-emerald",
   "metadata": {},
   "source": [
    "We can say more accurately that the predicted sales will be about \\$1,931 off from the actual sales on average."
   ]
  },
  {
   "cell_type": "markdown",
   "id": "dried-balance",
   "metadata": {},
   "source": [
    "### 1.3. Qualitative Predictors"
   ]
  },
  {
   "cell_type": "markdown",
   "id": "direct-nothing",
   "metadata": {},
   "source": [
    "In the discussion above, we have assumed that our features/predictors were real-valued, i.e. *quantitative* or *numerical*. We can also consider predictors that are not numbers, but elements from a small, finite set of categories. These are called *qualitative* or *categorical* features/variables/predictors. Qualitative variables also called *factors*, with the categories called *levels*."
   ]
  },
  {
   "cell_type": "markdown",
   "id": "funny-karen",
   "metadata": {},
   "source": [
    "We will use as an example the [Carseats](https://rdrr.io/cran/ISLR/man/Carseats.html) dataset, a simulated dataset containing sales of child car seats at 400 different stores. Each store has 11 associated variables.\n",
    "A data frame with 400 observations on the following 11 variables.\n",
    "\n",
    "- `Sales` - Unit sales (in thousands) at each location\n",
    "- `CompPrice` - Price charged by competitor at each location\n",
    "- `Income` - Community income level (in thousands of dollars)\n",
    "- `Advertising` - Local advertising budget for company at each location (in thousands of dollars)\n",
    "- `Population` - Population size in region (in thousands)\n",
    "- `Price` - Price company charges for car seats at each site\n",
    "- `ShelveLoc` - A factor with levels Bad, Good and Medium indicating the quality of the shelving location for the car seats at each site\n",
    "- `Age` - Average age of the local population\n",
    "- `Education` - Education level at each location\n",
    "- `Urban` - A factor with levels No and Yes to indicate whether the store is in an urban or rural location\n",
    "- `US` - A factor with levels No and Yes to indicate whether the store is in the US or not\n",
    "\n",
    "We consider `Sales` to be the response variable. The `ShelveLoc`, `Urban`, and `US` variables are qualitative, with 3, 2, and 2 levels, respectively. "
   ]
  },
  {
   "cell_type": "code",
   "execution_count": 15,
   "id": "cardiac-jewelry",
   "metadata": {},
   "outputs": [
    {
     "data": {
      "text/html": [
       "<div>\n",
       "<style scoped>\n",
       "    .dataframe tbody tr th:only-of-type {\n",
       "        vertical-align: middle;\n",
       "    }\n",
       "\n",
       "    .dataframe tbody tr th {\n",
       "        vertical-align: top;\n",
       "    }\n",
       "\n",
       "    .dataframe thead th {\n",
       "        text-align: right;\n",
       "    }\n",
       "</style>\n",
       "<table border=\"1\" class=\"dataframe\">\n",
       "  <thead>\n",
       "    <tr style=\"text-align: right;\">\n",
       "      <th></th>\n",
       "      <th>Sales</th>\n",
       "      <th>CompPrice</th>\n",
       "      <th>Income</th>\n",
       "      <th>Advertising</th>\n",
       "      <th>Population</th>\n",
       "      <th>Price</th>\n",
       "      <th>ShelveLoc</th>\n",
       "      <th>Age</th>\n",
       "      <th>Education</th>\n",
       "      <th>Urban</th>\n",
       "      <th>US</th>\n",
       "    </tr>\n",
       "  </thead>\n",
       "  <tbody>\n",
       "    <tr>\n",
       "      <th>1</th>\n",
       "      <td>9.50</td>\n",
       "      <td>138</td>\n",
       "      <td>73</td>\n",
       "      <td>11</td>\n",
       "      <td>276</td>\n",
       "      <td>120</td>\n",
       "      <td>Bad</td>\n",
       "      <td>42</td>\n",
       "      <td>17</td>\n",
       "      <td>Yes</td>\n",
       "      <td>Yes</td>\n",
       "    </tr>\n",
       "    <tr>\n",
       "      <th>2</th>\n",
       "      <td>11.22</td>\n",
       "      <td>111</td>\n",
       "      <td>48</td>\n",
       "      <td>16</td>\n",
       "      <td>260</td>\n",
       "      <td>83</td>\n",
       "      <td>Good</td>\n",
       "      <td>65</td>\n",
       "      <td>10</td>\n",
       "      <td>Yes</td>\n",
       "      <td>Yes</td>\n",
       "    </tr>\n",
       "    <tr>\n",
       "      <th>3</th>\n",
       "      <td>10.06</td>\n",
       "      <td>113</td>\n",
       "      <td>35</td>\n",
       "      <td>10</td>\n",
       "      <td>269</td>\n",
       "      <td>80</td>\n",
       "      <td>Medium</td>\n",
       "      <td>59</td>\n",
       "      <td>12</td>\n",
       "      <td>Yes</td>\n",
       "      <td>Yes</td>\n",
       "    </tr>\n",
       "    <tr>\n",
       "      <th>4</th>\n",
       "      <td>7.40</td>\n",
       "      <td>117</td>\n",
       "      <td>100</td>\n",
       "      <td>4</td>\n",
       "      <td>466</td>\n",
       "      <td>97</td>\n",
       "      <td>Medium</td>\n",
       "      <td>55</td>\n",
       "      <td>14</td>\n",
       "      <td>Yes</td>\n",
       "      <td>Yes</td>\n",
       "    </tr>\n",
       "    <tr>\n",
       "      <th>5</th>\n",
       "      <td>4.15</td>\n",
       "      <td>141</td>\n",
       "      <td>64</td>\n",
       "      <td>3</td>\n",
       "      <td>340</td>\n",
       "      <td>128</td>\n",
       "      <td>Bad</td>\n",
       "      <td>38</td>\n",
       "      <td>13</td>\n",
       "      <td>Yes</td>\n",
       "      <td>No</td>\n",
       "    </tr>\n",
       "    <tr>\n",
       "      <th>6</th>\n",
       "      <td>10.81</td>\n",
       "      <td>124</td>\n",
       "      <td>113</td>\n",
       "      <td>13</td>\n",
       "      <td>501</td>\n",
       "      <td>72</td>\n",
       "      <td>Bad</td>\n",
       "      <td>78</td>\n",
       "      <td>16</td>\n",
       "      <td>No</td>\n",
       "      <td>Yes</td>\n",
       "    </tr>\n",
       "    <tr>\n",
       "      <th>7</th>\n",
       "      <td>6.63</td>\n",
       "      <td>115</td>\n",
       "      <td>105</td>\n",
       "      <td>0</td>\n",
       "      <td>45</td>\n",
       "      <td>108</td>\n",
       "      <td>Medium</td>\n",
       "      <td>71</td>\n",
       "      <td>15</td>\n",
       "      <td>Yes</td>\n",
       "      <td>No</td>\n",
       "    </tr>\n",
       "    <tr>\n",
       "      <th>8</th>\n",
       "      <td>11.85</td>\n",
       "      <td>136</td>\n",
       "      <td>81</td>\n",
       "      <td>15</td>\n",
       "      <td>425</td>\n",
       "      <td>120</td>\n",
       "      <td>Good</td>\n",
       "      <td>67</td>\n",
       "      <td>10</td>\n",
       "      <td>Yes</td>\n",
       "      <td>Yes</td>\n",
       "    </tr>\n",
       "    <tr>\n",
       "      <th>9</th>\n",
       "      <td>6.54</td>\n",
       "      <td>132</td>\n",
       "      <td>110</td>\n",
       "      <td>0</td>\n",
       "      <td>108</td>\n",
       "      <td>124</td>\n",
       "      <td>Medium</td>\n",
       "      <td>76</td>\n",
       "      <td>10</td>\n",
       "      <td>No</td>\n",
       "      <td>No</td>\n",
       "    </tr>\n",
       "    <tr>\n",
       "      <th>10</th>\n",
       "      <td>4.69</td>\n",
       "      <td>132</td>\n",
       "      <td>113</td>\n",
       "      <td>0</td>\n",
       "      <td>131</td>\n",
       "      <td>124</td>\n",
       "      <td>Medium</td>\n",
       "      <td>76</td>\n",
       "      <td>17</td>\n",
       "      <td>No</td>\n",
       "      <td>Yes</td>\n",
       "    </tr>\n",
       "  </tbody>\n",
       "</table>\n",
       "</div>"
      ],
      "text/plain": [
       "    Sales  CompPrice  Income  Advertising  Population  Price ShelveLoc  Age  \\\n",
       "1    9.50        138      73           11         276    120       Bad   42   \n",
       "2   11.22        111      48           16         260     83      Good   65   \n",
       "3   10.06        113      35           10         269     80    Medium   59   \n",
       "4    7.40        117     100            4         466     97    Medium   55   \n",
       "5    4.15        141      64            3         340    128       Bad   38   \n",
       "6   10.81        124     113           13         501     72       Bad   78   \n",
       "7    6.63        115     105            0          45    108    Medium   71   \n",
       "8   11.85        136      81           15         425    120      Good   67   \n",
       "9    6.54        132     110            0         108    124    Medium   76   \n",
       "10   4.69        132     113            0         131    124    Medium   76   \n",
       "\n",
       "    Education Urban   US  \n",
       "1          17   Yes  Yes  \n",
       "2          10   Yes  Yes  \n",
       "3          12   Yes  Yes  \n",
       "4          14   Yes  Yes  \n",
       "5          13   Yes   No  \n",
       "6          16    No  Yes  \n",
       "7          15   Yes   No  \n",
       "8          10   Yes  Yes  \n",
       "9          10    No   No  \n",
       "10         17    No  Yes  "
      ]
     },
     "execution_count": 15,
     "metadata": {},
     "output_type": "execute_result"
    }
   ],
   "source": [
    "cs_data = pd.read_csv(\"Carseats.csv\", index_col=0)\n",
    "cs_data.head(10)"
   ]
  },
  {
   "cell_type": "markdown",
   "id": "willing-label",
   "metadata": {},
   "source": [
    "We wil encode the categorical predictors by constructing _dummy variables_. For a given categorical variable with _n_ levels, we construct _n-1_ columns that take the value 1 if an observation has that level and 0 otherwise. The omitted level becomes the \"baseline,\" with the estimated coefficients for each dummy variable describing the \"contrast\" from the baseline to the corresponding level.\n",
    "\n",
    "We'll spend more time considering data preprocessing and representation in a later lab. For now, it suffices to say that the function `pd.get_dummies()` automatically constructs dummies for categorical variables in a DataFrame, and the `drop_first=True` argument can be used to set the first level of each categorical varaible as the \"baseline.\""
   ]
  },
  {
   "cell_type": "code",
   "execution_count": 16,
   "id": "korean-electron",
   "metadata": {},
   "outputs": [
    {
     "data": {
      "text/html": [
       "<div>\n",
       "<style scoped>\n",
       "    .dataframe tbody tr th:only-of-type {\n",
       "        vertical-align: middle;\n",
       "    }\n",
       "\n",
       "    .dataframe tbody tr th {\n",
       "        vertical-align: top;\n",
       "    }\n",
       "\n",
       "    .dataframe thead th {\n",
       "        text-align: right;\n",
       "    }\n",
       "</style>\n",
       "<table border=\"1\" class=\"dataframe\">\n",
       "  <thead>\n",
       "    <tr style=\"text-align: right;\">\n",
       "      <th></th>\n",
       "      <th>CompPrice</th>\n",
       "      <th>Income</th>\n",
       "      <th>Advertising</th>\n",
       "      <th>Population</th>\n",
       "      <th>Price</th>\n",
       "      <th>Age</th>\n",
       "      <th>Education</th>\n",
       "      <th>ShelveLoc_Good</th>\n",
       "      <th>ShelveLoc_Medium</th>\n",
       "      <th>Urban_Yes</th>\n",
       "      <th>US_Yes</th>\n",
       "    </tr>\n",
       "  </thead>\n",
       "  <tbody>\n",
       "    <tr>\n",
       "      <th>1</th>\n",
       "      <td>138</td>\n",
       "      <td>73</td>\n",
       "      <td>11</td>\n",
       "      <td>276</td>\n",
       "      <td>120</td>\n",
       "      <td>42</td>\n",
       "      <td>17</td>\n",
       "      <td>0</td>\n",
       "      <td>0</td>\n",
       "      <td>1</td>\n",
       "      <td>1</td>\n",
       "    </tr>\n",
       "    <tr>\n",
       "      <th>2</th>\n",
       "      <td>111</td>\n",
       "      <td>48</td>\n",
       "      <td>16</td>\n",
       "      <td>260</td>\n",
       "      <td>83</td>\n",
       "      <td>65</td>\n",
       "      <td>10</td>\n",
       "      <td>1</td>\n",
       "      <td>0</td>\n",
       "      <td>1</td>\n",
       "      <td>1</td>\n",
       "    </tr>\n",
       "    <tr>\n",
       "      <th>3</th>\n",
       "      <td>113</td>\n",
       "      <td>35</td>\n",
       "      <td>10</td>\n",
       "      <td>269</td>\n",
       "      <td>80</td>\n",
       "      <td>59</td>\n",
       "      <td>12</td>\n",
       "      <td>0</td>\n",
       "      <td>1</td>\n",
       "      <td>1</td>\n",
       "      <td>1</td>\n",
       "    </tr>\n",
       "    <tr>\n",
       "      <th>4</th>\n",
       "      <td>117</td>\n",
       "      <td>100</td>\n",
       "      <td>4</td>\n",
       "      <td>466</td>\n",
       "      <td>97</td>\n",
       "      <td>55</td>\n",
       "      <td>14</td>\n",
       "      <td>0</td>\n",
       "      <td>1</td>\n",
       "      <td>1</td>\n",
       "      <td>1</td>\n",
       "    </tr>\n",
       "    <tr>\n",
       "      <th>5</th>\n",
       "      <td>141</td>\n",
       "      <td>64</td>\n",
       "      <td>3</td>\n",
       "      <td>340</td>\n",
       "      <td>128</td>\n",
       "      <td>38</td>\n",
       "      <td>13</td>\n",
       "      <td>0</td>\n",
       "      <td>0</td>\n",
       "      <td>1</td>\n",
       "      <td>0</td>\n",
       "    </tr>\n",
       "  </tbody>\n",
       "</table>\n",
       "</div>"
      ],
      "text/plain": [
       "   CompPrice  Income  Advertising  Population  Price  Age  Education  \\\n",
       "1        138      73           11         276    120   42         17   \n",
       "2        111      48           16         260     83   65         10   \n",
       "3        113      35           10         269     80   59         12   \n",
       "4        117     100            4         466     97   55         14   \n",
       "5        141      64            3         340    128   38         13   \n",
       "\n",
       "   ShelveLoc_Good  ShelveLoc_Medium  Urban_Yes  US_Yes  \n",
       "1               0                 0          1       1  \n",
       "2               1                 0          1       1  \n",
       "3               0                 1          1       1  \n",
       "4               0                 1          1       1  \n",
       "5               0                 0          1       0  "
      ]
     },
     "execution_count": 16,
     "metadata": {},
     "output_type": "execute_result"
    }
   ],
   "source": [
    "cs_data_dummies = pd.get_dummies(cs_data.iloc[:,1:], drop_first=True)\n",
    "cs_data_dummies.head(5)"
   ]
  },
  {
   "cell_type": "markdown",
   "id": "controlled-dietary",
   "metadata": {},
   "source": [
    "**Note:** The discussion of dummy versus one-hot encoding is only relevant for *inference* or *estimation*, i.e. saying something about the actual values within the $\\beta$ vector. If we only care about *prediction*, i.e. predicting $y$ from $x$, either encoding will yield the same result.\n",
    "\n",
    "After this step, the analysis goes through as it would for quantitative predictors. We can reuse the code from above and assess the linear model."
   ]
  },
  {
   "cell_type": "code",
   "execution_count": 17,
   "id": "spread-cabin",
   "metadata": {},
   "outputs": [],
   "source": [
    "X = cs_data_dummies.to_numpy()\n",
    "y = cs_data[\"Sales\"].to_numpy()"
   ]
  },
  {
   "cell_type": "code",
   "execution_count": 18,
   "id": "chinese-shareware",
   "metadata": {},
   "outputs": [
    {
     "name": "stdout",
     "output_type": "stream",
     "text": [
      "Sample size: n = 400\n",
      "Dimension: p = 11\n",
      "X shape: (400, 11)\n",
      "y shape: (400,)\n"
     ]
    }
   ],
   "source": [
    "n, p = X.shape\n",
    "\n",
    "print(\"Sample size: n =\", n)\n",
    "print(\"Dimension: p =\", p)\n",
    "\n",
    "print(\"X shape:\", X.shape) # Should be 2D array.\n",
    "print(\"y shape:\", y.shape) # Should be 1D array."
   ]
  },
  {
   "cell_type": "code",
   "execution_count": 19,
   "id": "casual-spectacular",
   "metadata": {},
   "outputs": [
    {
     "name": "stdout",
     "output_type": "stream",
     "text": [
      "Training set size: n = 268\n",
      "Test set size: m = 132\n",
      "\n",
      "X_train shape (268, 11)\n",
      "y_train shape (268,)\n",
      "X_test shape (132, 11)\n",
      "y_test shape (132,)\n",
      "\n",
      "MSE: 1.120204674859564\n",
      "RMSE: 1.0583972197901712\n"
     ]
    }
   ],
   "source": [
    "X_train, X_test, y_train, y_test = train_test_split(X, y, test_size=0.33, random_state=42)\n",
    "\n",
    "n = len(X_train)\n",
    "m = len(X_test)\n",
    "\n",
    "print(\"Training set size: n =\", n)\n",
    "print(\"Test set size: m =\", m)\n",
    "print(\"\")\n",
    "\n",
    "print(\"X_train shape\", X_train.shape)\n",
    "print(\"y_train shape\", y_train.shape)\n",
    "print(\"X_test shape\", X_test.shape)\n",
    "print(\"y_test shape\", y_test.shape)\n",
    "print(\"\")\n",
    "\n",
    "lr = LinearRegression()\n",
    "lr.fit(X_train, y_train) # Fit to training set.\n",
    "y_pred = lr.predict(X_test) # Predicted y on the test set.\n",
    "MSE = mean_squared_error(y_test, y_pred)\n",
    "\n",
    "print(\"MSE:\", MSE)\n",
    "print(\"RMSE:\", np.sqrt(MSE))"
   ]
  },
  {
   "cell_type": "markdown",
   "id": "viral-inventory",
   "metadata": {},
   "source": [
    "Let's say that we would like to try various combinations of predictors in order to see when combination generalizes the best. At this point, it would be good practice to package up our analysis into a function, and take these combinations as input. Try to avoid code duplication where you can."
   ]
  },
  {
   "cell_type": "markdown",
   "id": "differential-finance",
   "metadata": {},
   "source": [
    "For this case specifically, because we would like to train and test on the same examples, we have to do the splitting step before encoding the datasets. There are many ways to do this, this is just one possible solutions."
   ]
  },
  {
   "cell_type": "code",
   "execution_count": 20,
   "id": "solved-columbia",
   "metadata": {},
   "outputs": [],
   "source": [
    "test_size = 0.33\n",
    "\n",
    "n = len(cs_data)\n",
    "n_test = int(test_size * n) # Round down to nearest int.\n",
    "\n",
    "test_idx = np.random.choice(np.arange(n), size=n_test)\n",
    "train_idx = np.delete(np.arange(n), test_idx)"
   ]
  },
  {
   "cell_type": "code",
   "execution_count": 21,
   "id": "formed-sailing",
   "metadata": {},
   "outputs": [
    {
     "name": "stdout",
     "output_type": "stream",
     "text": [
      "n = 419\n",
      "n_train + n_test = 419\n",
      "Intersection: []\n"
     ]
    }
   ],
   "source": [
    "# Quickly check that the indices do not overlap and cover all examples.\n",
    "print(\"n =\", len(test_idx) + len(train_idx))\n",
    "print(\"n_train + n_test =\", len(train_idx) + len(test_idx))\n",
    "print(\"Intersection:\", np.intersect1d(train_idx, test_idx))"
   ]
  },
  {
   "cell_type": "code",
   "execution_count": 22,
   "id": "mechanical-horse",
   "metadata": {},
   "outputs": [],
   "source": [
    "def evaluate(column_names):\n",
    "    X = pd.get_dummies(cs_data[column_names], drop_first=True).to_numpy()\n",
    "    y = cs_data[\"Sales\"].to_numpy()\n",
    "    \n",
    "    X_train, y_train = X[train_idx, :], y[train_idx]\n",
    "    X_test, y_test = X[test_idx, :], y[test_idx]\n",
    "    \n",
    "    lr = LinearRegression()\n",
    "    lr.fit(X_train, y_train) \n",
    "    y_pred = lr.predict(X_test)\n",
    "    MSE = mean_squared_error(y_test, y_pred)\n",
    "    \n",
    "    return MSE"
   ]
  },
  {
   "cell_type": "code",
   "execution_count": 23,
   "id": "passive-fraction",
   "metadata": {},
   "outputs": [
    {
     "name": "stdout",
     "output_type": "stream",
     "text": [
      "['CompPrice', 'Income', 'Advertising', 'Population', 'Price', 'ShelveLoc', 'Age', 'Education', 'Urban', 'US']\n"
     ]
    }
   ],
   "source": [
    "# Display the columns.\n",
    "print(list(cs_data.columns)[1:])"
   ]
  },
  {
   "cell_type": "code",
   "execution_count": 24,
   "id": "serial-scheme",
   "metadata": {},
   "outputs": [],
   "source": [
    "feature_sets = [\n",
    "    ['CompPrice', 'Income', 'Advertising', 'Population', 'Price', 'Age', 'Education'], # Only quantitative\n",
    "    ['ShelveLoc', 'Urban', 'US'],                                                      # Only qualitative\n",
    "    ['CompPrice', 'Advertising', 'Price', 'Age', 'Urban'],                             # Odds\n",
    "    ['Income', 'Population', 'ShelveLoc', 'Education', 'US'],                          # Evens\n",
    "]"
   ]
  },
  {
   "cell_type": "code",
   "execution_count": 25,
   "id": "bigger-change",
   "metadata": {},
   "outputs": [
    {
     "name": "stdout",
     "output_type": "stream",
     "text": [
      "Features: ['CompPrice', 'Income', 'Advertising', 'Population', 'Price', 'Age', 'Education']\n",
      "MSE: 4.284963540413245\n",
      "\n",
      "Features: ['ShelveLoc', 'Urban', 'US']\n",
      "MSE: 4.850896421384482\n",
      "\n",
      "Features: ['CompPrice', 'Advertising', 'Price', 'Age', 'Urban']\n",
      "MSE: 4.263182648819037\n",
      "\n",
      "Features: ['Income', 'Population', 'ShelveLoc', 'Education', 'US']\n",
      "MSE: 4.894829355292011\n",
      "\n"
     ]
    }
   ],
   "source": [
    "for feature_set in feature_sets:\n",
    "    print(\"Features:\", feature_set)\n",
    "    print(\"MSE:\", evaluate(feature_set))\n",
    "    print(\"\")"
   ]
  },
  {
   "cell_type": "markdown",
   "id": "neutral-choir",
   "metadata": {},
   "source": [
    "Rather than random sets of features, we may be interested in ordering sets by increasing costs of data collection, or try to assess feature important by observing the results of dropping each feature from the model one-by-one."
   ]
  },
  {
   "cell_type": "markdown",
   "id": "broadband-guidance",
   "metadata": {},
   "source": [
    "## 2. Ridge Regression \n",
    "\n",
    "In this section, we will introduce *regularized* least-squares linear regression. Specifically, we will cover a *shrinkage estimator* for the optimal $\\beta$, by means of ridge regression (also known as $\\ell^2$-regularized linear regression). To do so, we will first motivate the need for such methods intuitively and mathematically."
   ]
  },
  {
   "cell_type": "markdown",
   "id": "small-philip",
   "metadata": {},
   "source": [
    "### 2.1. Motivation\n",
    "\n",
    "The need for regularization especially comes up in *high-dimensional* data (see ISLR Section 6.4). In the examples we have seen so far, we had that $n >> p$, that is the number of observations was far greater than the number of predictors. When $p > n$, and $X$ is full-rank, the linear system\n",
    "\n",
    "$$\n",
    "X\\beta = y\n",
    "$$\n",
    "\n",
    "will not in general have a unique solution $\\beta$; in fact, there may be infinitely many solutions. That is, we can always find a perfect fit to the given data. This does *not* mean that the estimated $\\beta$ will be a reasonable fit to *unseen* data. In fact, the generalization error will likely be substantial - a phenomenon known as *overfitting*. Consider Figure 6.22 from ISLR.\n",
    "![Overfitting](img/islr_fig_6_22.jpeg)\n",
    "\n",
    "The line estimated from the two data points on the right plot will perform badly in terms of test MSE on the data from left plot. ISLR defines the *high-dimensional setting* as that for which either $p > n$ or $p \\approx n$. These issues can come up even if there are more data than predictors.\n",
    "\n",
    "To be clear, both training MSE and training $R^2$ *will necessarily become better by adding more features to the data, even if those features are completely unrelated to the response*. This is because the learning algorithm is \"fitting noise\", i.e. relationships that are unique to the particular training set but unrelated to the overall relationship between $x$ and $y$. On the other hand, if the model chosen is too simple (one or zero predictors, say), the learning algorithm might not even be able to fit the training data!"
   ]
  },
  {
   "cell_type": "markdown",
   "id": "employed-russell",
   "metadata": {},
   "source": [
    "### 2.2. The Bias-Variance Tradeoff\n",
    "\n",
    "How do we quantify the tradeoff between simple and complex models? One framework in particular is pervasive in machine learning: the *bias-variance tradeoff*. We given one particular instantiation in terms of linear regression.\n",
    "\n",
    "To set this up, let $x \\in \\mathbb{R}^{p+1}$ be a fixed feature vector and let $y = f(x) + \\epsilon$, where $f: \\mathbb{R}^{p+1} \\rightarrow \\mathbb{R}$ is some labelling function, and $\\epsilon \\sim \\mathcal{N}(0, \\sigma^2)$. This implies \n",
    "\n",
    "$$\n",
    "y \\sim \\mathcal{N}(f(x), \\sigma^2).\n",
    "$$ \n",
    "\n",
    "Next, say we have an arbitrary supervised learning algorithm (not necessarily OLS) that approximates $f$ with a linear function $f(x) \\approx \\hat{\\beta}^\\top x$ learned from training data $(x_1, y_1), ..., (x_n, y_n)$. $\\hat{\\beta}$ is a random variable, because it is learned from randomly drawn data. Thus, we can define its expected value\n",
    "\n",
    "$$\n",
    "\\bar{\\beta} = \\mathbb{E}\\left[\\hat{\\beta}\\right]\n",
    "$$\n",
    "\n",
    "This is the average over *all possible training sets* used to learn $\\hat{\\beta}$. It also follows that $\\bar{\\beta}^\\top x = \\mathbb{E}\\left[\\hat{\\beta}^\\top x\\right]$. Note that both $\\bar{\\beta}$ and $\\bar{\\beta}^\\top x$ are constants. We will define three quantities of importance."
   ]
  },
  {
   "cell_type": "markdown",
   "id": "sophisticated-problem",
   "metadata": {},
   "source": [
    "- $\\text{Var}(\\epsilon) = \\sigma^2$\n",
    "is called the *irreducible error*, because it is the error of the true-but-unknown function $f$ that generated $y$. We cannot do better than this, even if the other two terms are zero. *This does not depend on the sample size or the choice of learning algorithm.*\n",
    "\n",
    "- $\\text{Bias}(\\hat{\\beta}) = \\bar{\\beta}^\\top x - f(x)$\n",
    "is the *bias*. This measures how close the *average* predictor that we learn (over all possible training sets) is to the true generating function $f$. *This usually does not depend on the sample size, but only on our choice of learning algorithm.* \n",
    "\n",
    "- $\\text{Var}(\\hat{\\beta}) = \\mathbb{E}_{\\hat{\\beta}}\\left[(\\bar{\\beta}^\\top x - \\hat{\\beta}^\\top x)^2\\right]$\n",
    "is the *variance*. This measures how much the learning algorithm's answer changes when given different training sets. *This depends on the sample size and our choice of learning algorithm.*"
   ]
  },
  {
   "cell_type": "markdown",
   "id": "liberal-development",
   "metadata": {},
   "source": [
    "![BiasVariance](img/bullseye.png)"
   ]
  },
  {
   "cell_type": "markdown",
   "id": "strategic-scale",
   "metadata": {},
   "source": [
    "How should we weigh bias and variance against one another? Up until this point, we were using MSE to evaluate our models. It turns out that there is a key relationship between bias, variance, and MSE. First, define the population MSE as\n",
    "\n",
    "$$\n",
    "\\text{MSE}(\\hat{\\beta}) = \\mathbb{E}_{y, \\hat{\\beta}}\\left[(y - \\hat{\\beta}^\\top x)^2 \\right].\n",
    "$$\n",
    "\n",
    "The $y, \\hat{\\beta}$ subscript indicates that the expected value is taken over both the randomness in $y$ and in $\\hat{\\beta}$. Note that unlike training or test MSE, this is not a statistic computed on a dataset; instead, it is a population constant defined by the distribution of our input-label pairs. Remarkably, MSE decomposes into the sum of irreducible error, bias squared, and variance. That is,\n",
    "\n",
    "$$\n",
    "\\begin{align*}\n",
    "\\text{MSE}(\\hat{\\beta}) &= \\sigma^2 + \\left(\\text{Bias}(\\hat{\\beta})\\right)^2 + \\text{Var}\\left(\\hat{\\beta}^\\top x\\right),\n",
    "\\end{align*}\n",
    "$$"
   ]
  },
  {
   "cell_type": "markdown",
   "id": "described-ocean",
   "metadata": {},
   "source": [
    "We show this fact below. The computation is a little hairy, but try to work through it step-by-step. Reform the expression as follows.\n",
    "\n",
    "$$\n",
    "\\begin{align*}\n",
    "\\text{MSE}(\\hat{\\beta}) &= \\mathbb{E}_{y, \\hat{\\beta}}\\left[(y - \\hat{\\beta}^\\top x)^2 \\right]\\\\\n",
    "&= \\mathbb{E}_{y, \\hat{\\beta}}\\left[(y - \\bar{\\beta}^\\top x + \\bar{\\beta}^\\top x - \\hat{\\beta}^\\top x)^2 \\right]\\\\\n",
    "&= \\mathbb{E}_{y, \\hat{\\beta}}\\left[\\left( (y - \\bar{\\beta}^\\top x) + (\\bar{\\beta}^\\top x - \\hat{\\beta}^\\top x)\\right)^2 \\right]\\\\\n",
    "&= \\mathbb{E}_{y, \\hat{\\beta}}\\left[(y - \\bar{\\beta}^\\top x)^2\\right]\n",
    "+2\\mathbb{E}_{y, \\hat{\\beta}}\\left[(y - \\bar{\\beta}^\\top x)(\\bar{\\beta}^\\top x - \\hat{\\beta}^\\top x)\\right]\n",
    "+\\mathbb{E}_{y, \\hat{\\beta}}\\left[(\\bar{\\beta}^\\top x - \\hat{\\beta}^\\top x)^2\\right]\\\\\n",
    "&= \\mathbb{E}_{y}\\left[(y - \\bar{\\beta}^\\top x)^2\\right]\n",
    "+2\\mathbb{E}_{y, \\hat{\\beta}}\\left[(y - \\bar{\\beta}^\\top x)(\\bar{\\beta}^\\top x - \\hat{\\beta}^\\top x)\\right]\n",
    "+\\mathbb{E}_{\\hat{\\beta}}\\left[(\\bar{\\beta}^\\top x - \\hat{\\beta}^\\top x)^2\\right]\n",
    "\\end{align*}\n",
    "$$\n",
    "\n",
    "In the last step, we simply removed the subscripts for elements that were not included in the corresponding expected value. We claim that the cross term is zero. This is because:\n",
    "\n",
    "$$\n",
    "\\begin{align*}\n",
    "\\mathbb{E}_{y, \\hat{\\beta}}\\left[(y - \\bar{\\beta}^\\top x)(\\bar{\\beta}^\\top x - \\hat{\\beta}^\\top x)\\right] &= \n",
    "\\mathbb{E}_{y}\\left[y - \\bar{\\beta}^\\top x\\right]\\mathbb{E}_{\\hat{\\beta}}\\left[\\bar{\\beta}^\\top x - \\hat{\\beta}^\\top x\\right]\n",
    "\\end{align*}\n",
    "$$\n",
    "\n",
    "The expected value factors because $y$ and $\\hat{\\beta}$ are independent. Then, by definition, $\\mathbb{E}_{\\hat{\\beta}}\\left[\\bar{\\beta}^\\top x - \\hat{\\beta}^\\top x\\right] = 0$. This means that\n",
    "\n",
    "$$\n",
    "\\begin{align*}\n",
    "\\text{MSE}(\\hat{\\beta}) &= \\mathbb{E}_{y}\\left[(y - \\bar{\\beta}^\\top x)^2\\right]\n",
    "+\\mathbb{E}_{\\hat{\\beta}}\\left[(\\bar{\\beta}^\\top x - \\hat{\\beta}^\\top x)^2\\right]\n",
    "\\end{align*}\n",
    "$$"
   ]
  },
  {
   "cell_type": "markdown",
   "id": "blond-cause",
   "metadata": {},
   "source": [
    "Then, following a very similar calculation, we can show that the first term can be decomposed further into\n",
    "\n",
    "$$\n",
    "\\mathbb{E}_{y}\\left[(y - \\bar{\\beta}^\\top x)^2\\right] = \\mathbb{E}_{y}\\left[(y - f(x))^2\\right] + \\left(f(x) - \\bar{\\beta}^\\top x\\right)^2\n",
    "$$\n",
    "\n",
    "Observe that $\\mathbb{E}_{y}\\left[(y - f(x))^2\\right] = \\text{Var}(\\epsilon) = \\sigma^2$. Putting it all together, we have that\n",
    "\n",
    "$$\n",
    "\\begin{align*}\n",
    "\\text{MSE}(\\hat{\\beta}) &= \\sigma^2 + \\left(f(x) - \\bar{\\beta}^\\top x\\right)^2 + \\mathbb{E}_{\\hat{\\beta}}\\left[(\\bar{\\beta}^\\top x - \\hat{\\beta}^\\top x)^2\\right]\\\\\n",
    "&= \\sigma^2 + \\left(\\text{Bias}(\\hat{\\beta})\\right)^2 + \\text{Var}\\left(\\hat{\\beta}^\\top x\\right),\n",
    "\\end{align*}\n",
    "$$\n",
    "\n",
    "where $\\text{Bias}(\\hat{\\beta}) = \\bar{\\beta}^\\top x - f(x)$ and $\\text{Var}\\left(\\hat{\\beta}^\\top x\\right)$ is defined as is standard. We're done!"
   ]
  },
  {
   "cell_type": "markdown",
   "id": "outer-toddler",
   "metadata": {},
   "source": [
    "### 2.3 Ridge Regression\n",
    "\n",
    "How can we diagnose and remedy overfitting and other issues with high-dimensional data? Let us use the [Credit](https://rdrr.io/cran/ISLR/man/Credit.html) dataset as an example. This is a simulated data set containing information on 400 customers. The aim here is to predict which customers will default on their credit card debt. We have access to the following variables.\n",
    "\n",
    "- `ID` - Identification\n",
    "- `Income` - Income in \\$10,000's\n",
    "- `Limit` - Credit limit\n",
    "- `Rating` - Credit rating\n",
    "- `Cards` - Number of credit cards\n",
    "- `Age` - Age in years\n",
    "- `Education` - Number of years of education\n",
    "- `Gender` - A factor with levels Male and Female\n",
    "- `Student` - A factor with levels No and Yes indicating whether the individual was a student\n",
    "- `Married` -A factor with levels No and Yes indicating whether the individual was married\n",
    "- `Ethnicity` - A factor with levels African American, Asian, and Caucasian indicating the individual's ethnicity\n",
    "- `Balance` - Average credit card balance in \\$.\n",
    "\n",
    "The response variable is `Balance`."
   ]
  },
  {
   "cell_type": "code",
   "execution_count": 26,
   "id": "orange-separation",
   "metadata": {},
   "outputs": [
    {
     "data": {
      "text/html": [
       "<div>\n",
       "<style scoped>\n",
       "    .dataframe tbody tr th:only-of-type {\n",
       "        vertical-align: middle;\n",
       "    }\n",
       "\n",
       "    .dataframe tbody tr th {\n",
       "        vertical-align: top;\n",
       "    }\n",
       "\n",
       "    .dataframe thead th {\n",
       "        text-align: right;\n",
       "    }\n",
       "</style>\n",
       "<table border=\"1\" class=\"dataframe\">\n",
       "  <thead>\n",
       "    <tr style=\"text-align: right;\">\n",
       "      <th></th>\n",
       "      <th>Income</th>\n",
       "      <th>Limit</th>\n",
       "      <th>Rating</th>\n",
       "      <th>Cards</th>\n",
       "      <th>Age</th>\n",
       "      <th>Education</th>\n",
       "      <th>Gender</th>\n",
       "      <th>Student</th>\n",
       "      <th>Married</th>\n",
       "      <th>Ethnicity</th>\n",
       "      <th>Balance</th>\n",
       "    </tr>\n",
       "  </thead>\n",
       "  <tbody>\n",
       "    <tr>\n",
       "      <th>1</th>\n",
       "      <td>14.891</td>\n",
       "      <td>3606</td>\n",
       "      <td>283</td>\n",
       "      <td>2</td>\n",
       "      <td>34</td>\n",
       "      <td>11</td>\n",
       "      <td>Male</td>\n",
       "      <td>No</td>\n",
       "      <td>Yes</td>\n",
       "      <td>Caucasian</td>\n",
       "      <td>333</td>\n",
       "    </tr>\n",
       "    <tr>\n",
       "      <th>2</th>\n",
       "      <td>106.025</td>\n",
       "      <td>6645</td>\n",
       "      <td>483</td>\n",
       "      <td>3</td>\n",
       "      <td>82</td>\n",
       "      <td>15</td>\n",
       "      <td>Female</td>\n",
       "      <td>Yes</td>\n",
       "      <td>Yes</td>\n",
       "      <td>Asian</td>\n",
       "      <td>903</td>\n",
       "    </tr>\n",
       "    <tr>\n",
       "      <th>3</th>\n",
       "      <td>104.593</td>\n",
       "      <td>7075</td>\n",
       "      <td>514</td>\n",
       "      <td>4</td>\n",
       "      <td>71</td>\n",
       "      <td>11</td>\n",
       "      <td>Male</td>\n",
       "      <td>No</td>\n",
       "      <td>No</td>\n",
       "      <td>Asian</td>\n",
       "      <td>580</td>\n",
       "    </tr>\n",
       "    <tr>\n",
       "      <th>4</th>\n",
       "      <td>148.924</td>\n",
       "      <td>9504</td>\n",
       "      <td>681</td>\n",
       "      <td>3</td>\n",
       "      <td>36</td>\n",
       "      <td>11</td>\n",
       "      <td>Female</td>\n",
       "      <td>No</td>\n",
       "      <td>No</td>\n",
       "      <td>Asian</td>\n",
       "      <td>964</td>\n",
       "    </tr>\n",
       "    <tr>\n",
       "      <th>5</th>\n",
       "      <td>55.882</td>\n",
       "      <td>4897</td>\n",
       "      <td>357</td>\n",
       "      <td>2</td>\n",
       "      <td>68</td>\n",
       "      <td>16</td>\n",
       "      <td>Male</td>\n",
       "      <td>No</td>\n",
       "      <td>Yes</td>\n",
       "      <td>Caucasian</td>\n",
       "      <td>331</td>\n",
       "    </tr>\n",
       "    <tr>\n",
       "      <th>6</th>\n",
       "      <td>80.180</td>\n",
       "      <td>8047</td>\n",
       "      <td>569</td>\n",
       "      <td>4</td>\n",
       "      <td>77</td>\n",
       "      <td>10</td>\n",
       "      <td>Male</td>\n",
       "      <td>No</td>\n",
       "      <td>No</td>\n",
       "      <td>Caucasian</td>\n",
       "      <td>1151</td>\n",
       "    </tr>\n",
       "    <tr>\n",
       "      <th>7</th>\n",
       "      <td>20.996</td>\n",
       "      <td>3388</td>\n",
       "      <td>259</td>\n",
       "      <td>2</td>\n",
       "      <td>37</td>\n",
       "      <td>12</td>\n",
       "      <td>Female</td>\n",
       "      <td>No</td>\n",
       "      <td>No</td>\n",
       "      <td>African American</td>\n",
       "      <td>203</td>\n",
       "    </tr>\n",
       "    <tr>\n",
       "      <th>8</th>\n",
       "      <td>71.408</td>\n",
       "      <td>7114</td>\n",
       "      <td>512</td>\n",
       "      <td>2</td>\n",
       "      <td>87</td>\n",
       "      <td>9</td>\n",
       "      <td>Male</td>\n",
       "      <td>No</td>\n",
       "      <td>No</td>\n",
       "      <td>Asian</td>\n",
       "      <td>872</td>\n",
       "    </tr>\n",
       "    <tr>\n",
       "      <th>9</th>\n",
       "      <td>15.125</td>\n",
       "      <td>3300</td>\n",
       "      <td>266</td>\n",
       "      <td>5</td>\n",
       "      <td>66</td>\n",
       "      <td>13</td>\n",
       "      <td>Female</td>\n",
       "      <td>No</td>\n",
       "      <td>No</td>\n",
       "      <td>Caucasian</td>\n",
       "      <td>279</td>\n",
       "    </tr>\n",
       "    <tr>\n",
       "      <th>10</th>\n",
       "      <td>71.061</td>\n",
       "      <td>6819</td>\n",
       "      <td>491</td>\n",
       "      <td>3</td>\n",
       "      <td>41</td>\n",
       "      <td>19</td>\n",
       "      <td>Female</td>\n",
       "      <td>Yes</td>\n",
       "      <td>Yes</td>\n",
       "      <td>African American</td>\n",
       "      <td>1350</td>\n",
       "    </tr>\n",
       "  </tbody>\n",
       "</table>\n",
       "</div>"
      ],
      "text/plain": [
       "     Income  Limit  Rating  Cards  Age  Education  Gender Student Married  \\\n",
       "1    14.891   3606     283      2   34         11    Male      No     Yes   \n",
       "2   106.025   6645     483      3   82         15  Female     Yes     Yes   \n",
       "3   104.593   7075     514      4   71         11    Male      No      No   \n",
       "4   148.924   9504     681      3   36         11  Female      No      No   \n",
       "5    55.882   4897     357      2   68         16    Male      No     Yes   \n",
       "6    80.180   8047     569      4   77         10    Male      No      No   \n",
       "7    20.996   3388     259      2   37         12  Female      No      No   \n",
       "8    71.408   7114     512      2   87          9    Male      No      No   \n",
       "9    15.125   3300     266      5   66         13  Female      No      No   \n",
       "10   71.061   6819     491      3   41         19  Female     Yes     Yes   \n",
       "\n",
       "           Ethnicity  Balance  \n",
       "1          Caucasian      333  \n",
       "2              Asian      903  \n",
       "3              Asian      580  \n",
       "4              Asian      964  \n",
       "5          Caucasian      331  \n",
       "6          Caucasian     1151  \n",
       "7   African American      203  \n",
       "8              Asian      872  \n",
       "9          Caucasian      279  \n",
       "10  African American     1350  "
      ]
     },
     "execution_count": 26,
     "metadata": {},
     "output_type": "execute_result"
    }
   ],
   "source": [
    "credit_data = pd.read_csv(\"Credit.csv\", index_col=0)\n",
    "credit_data.head(10)"
   ]
  },
  {
   "cell_type": "code",
   "execution_count": 27,
   "id": "regular-sodium",
   "metadata": {},
   "outputs": [
    {
     "data": {
      "text/html": [
       "<div>\n",
       "<style scoped>\n",
       "    .dataframe tbody tr th:only-of-type {\n",
       "        vertical-align: middle;\n",
       "    }\n",
       "\n",
       "    .dataframe tbody tr th {\n",
       "        vertical-align: top;\n",
       "    }\n",
       "\n",
       "    .dataframe thead th {\n",
       "        text-align: right;\n",
       "    }\n",
       "</style>\n",
       "<table border=\"1\" class=\"dataframe\">\n",
       "  <thead>\n",
       "    <tr style=\"text-align: right;\">\n",
       "      <th></th>\n",
       "      <th>Income</th>\n",
       "      <th>Limit</th>\n",
       "      <th>Rating</th>\n",
       "      <th>Cards</th>\n",
       "      <th>Age</th>\n",
       "      <th>Education</th>\n",
       "      <th>Gender_Female</th>\n",
       "      <th>Student_Yes</th>\n",
       "      <th>Married_Yes</th>\n",
       "      <th>Ethnicity_Asian</th>\n",
       "      <th>Ethnicity_Caucasian</th>\n",
       "    </tr>\n",
       "  </thead>\n",
       "  <tbody>\n",
       "    <tr>\n",
       "      <th>1</th>\n",
       "      <td>14.891</td>\n",
       "      <td>3606</td>\n",
       "      <td>283</td>\n",
       "      <td>2</td>\n",
       "      <td>34</td>\n",
       "      <td>11</td>\n",
       "      <td>0</td>\n",
       "      <td>0</td>\n",
       "      <td>1</td>\n",
       "      <td>0</td>\n",
       "      <td>1</td>\n",
       "    </tr>\n",
       "    <tr>\n",
       "      <th>2</th>\n",
       "      <td>106.025</td>\n",
       "      <td>6645</td>\n",
       "      <td>483</td>\n",
       "      <td>3</td>\n",
       "      <td>82</td>\n",
       "      <td>15</td>\n",
       "      <td>1</td>\n",
       "      <td>1</td>\n",
       "      <td>1</td>\n",
       "      <td>1</td>\n",
       "      <td>0</td>\n",
       "    </tr>\n",
       "    <tr>\n",
       "      <th>3</th>\n",
       "      <td>104.593</td>\n",
       "      <td>7075</td>\n",
       "      <td>514</td>\n",
       "      <td>4</td>\n",
       "      <td>71</td>\n",
       "      <td>11</td>\n",
       "      <td>0</td>\n",
       "      <td>0</td>\n",
       "      <td>0</td>\n",
       "      <td>1</td>\n",
       "      <td>0</td>\n",
       "    </tr>\n",
       "    <tr>\n",
       "      <th>4</th>\n",
       "      <td>148.924</td>\n",
       "      <td>9504</td>\n",
       "      <td>681</td>\n",
       "      <td>3</td>\n",
       "      <td>36</td>\n",
       "      <td>11</td>\n",
       "      <td>1</td>\n",
       "      <td>0</td>\n",
       "      <td>0</td>\n",
       "      <td>1</td>\n",
       "      <td>0</td>\n",
       "    </tr>\n",
       "    <tr>\n",
       "      <th>5</th>\n",
       "      <td>55.882</td>\n",
       "      <td>4897</td>\n",
       "      <td>357</td>\n",
       "      <td>2</td>\n",
       "      <td>68</td>\n",
       "      <td>16</td>\n",
       "      <td>0</td>\n",
       "      <td>0</td>\n",
       "      <td>1</td>\n",
       "      <td>0</td>\n",
       "      <td>1</td>\n",
       "    </tr>\n",
       "  </tbody>\n",
       "</table>\n",
       "</div>"
      ],
      "text/plain": [
       "    Income  Limit  Rating  Cards  Age  Education  Gender_Female  Student_Yes  \\\n",
       "1   14.891   3606     283      2   34         11              0            0   \n",
       "2  106.025   6645     483      3   82         15              1            1   \n",
       "3  104.593   7075     514      4   71         11              0            0   \n",
       "4  148.924   9504     681      3   36         11              1            0   \n",
       "5   55.882   4897     357      2   68         16              0            0   \n",
       "\n",
       "   Married_Yes  Ethnicity_Asian  Ethnicity_Caucasian  \n",
       "1            1                0                    1  \n",
       "2            1                1                    0  \n",
       "3            0                1                    0  \n",
       "4            0                1                    0  \n",
       "5            1                0                    1  "
      ]
     },
     "execution_count": 27,
     "metadata": {},
     "output_type": "execute_result"
    }
   ],
   "source": [
    "credit_data_dummies = pd.get_dummies(credit_data.iloc[:,:-1], drop_first=True) # All but last column.\n",
    "credit_data_dummies.head()"
   ]
  },
  {
   "cell_type": "code",
   "execution_count": 28,
   "id": "composite-startup",
   "metadata": {},
   "outputs": [
    {
     "name": "stdout",
     "output_type": "stream",
     "text": [
      "Sample size: n = 400\n",
      "Dimension: p = 11\n",
      "X shape: (400, 11)\n",
      "y shape: (400,)\n"
     ]
    }
   ],
   "source": [
    "X = credit_data_dummies.to_numpy()\n",
    "y = credit_data[\"Balance\"].to_numpy()\n",
    "\n",
    "print(\"Sample size: n =\", n)\n",
    "print(\"Dimension: p =\", p)\n",
    "\n",
    "print(\"X shape:\", X.shape)\n",
    "print(\"y shape:\", y.shape)"
   ]
  },
  {
   "cell_type": "markdown",
   "id": "vanilla-peoples",
   "metadata": {},
   "source": [
    "Let's see how well OLS generalizes."
   ]
  },
  {
   "cell_type": "code",
   "execution_count": 29,
   "id": "charged-prairie",
   "metadata": {},
   "outputs": [
    {
     "name": "stdout",
     "output_type": "stream",
     "text": [
      "Training MSE: 8911.802887992526\n",
      "Test MSE: 11220.789566998528\n"
     ]
    }
   ],
   "source": [
    "X_train, X_test, y_train, y_test = train_test_split(X, y, test_size=0.33, random_state=123)\n",
    "lr = LinearRegression().fit(X_train, y_train)\n",
    "\n",
    "y_pred_train = lr.predict(X_train)\n",
    "y_pred_test = lr.predict(X_test)\n",
    "\n",
    "train_MSE = mean_squared_error(y_train, y_pred_train)\n",
    "test_MSE = mean_squared_error(y_test, y_pred_test)\n",
    "\n",
    "print(\"Training MSE:\", train_MSE)\n",
    "print(\"Test MSE:\", test_MSE)"
   ]
  },
  {
   "cell_type": "markdown",
   "id": "inappropriate-batch",
   "metadata": {},
   "source": [
    "Can we make it so that training and test error are similar?"
   ]
  },
  {
   "cell_type": "markdown",
   "id": "american-prototype",
   "metadata": {},
   "source": [
    "As before, consider dataset $(x_1, y_1), ..., (x_n, y_n)$, in which we assume $y_i = \\beta^\\top x_i + \\epsilon_i$ for some $\\beta \\in \\mathbb{R}^{p+1}$ and $\\epsilon_i \\sim \\mathcal{N}(0, \\sigma^2)$. The *ridge regression* objective is given by\n",
    "\n",
    "$$\n",
    "\\frac{1}{n}\\sum_{i=1}^n (y_i - \\beta^\\top x_i)^2 + \\frac{\\lambda}{n} ||\\beta||_2^2,\n",
    "$$\n",
    "\n",
    "where $\\lambda > 0$ is called the *regularization hyperparameter*, and \n",
    "\n",
    "$$\n",
    "||\\beta||^2_2 = \\sum_{j=0}^p \\beta^{(j)} = \\beta^\\top \\beta\n",
    "$$\n",
    "\n",
    "is the squared $\\ell^2$-norm (pronounce \"ell 2\") of $\\beta$. This combines two, often competing, objectives into one, weighed against each other by $\\lambda$. The first term is the same as before, which privileges a $\\hat{\\beta}$ that fits the data well. The second term, on the other hand, privileges a $\\hat{\\beta}$ that has small weights. This clearly biases our result, as we will produce a $\\hat{\\beta}$ whose expected value $\\bar{\\beta}$ has smaller weights that the true $\\beta$. Why might we want to do this?"
   ]
  },
  {
   "cell_type": "markdown",
   "id": "dietary-routine",
   "metadata": {},
   "source": [
    "Intuitively, if we shrink the weights, they will vary less, as we have curbed how large the deviation of the weights can be from their mean. Consider as an extreme case, the algorithm that returns $\\hat{\\beta} = \\mathbf{0}_{p+1}$ every time. There is no absolutely no variance! Can this happen? It depends on the choice of $\\lambda$."
   ]
  },
  {
   "cell_type": "markdown",
   "id": "agreed-ceiling",
   "metadata": {},
   "source": [
    "As mentioned before, $\\lambda$ manages the tradeoff between the two objectives, hence managing the bias-variance tradeoff by extension. When $\\lambda = 0$, we recover the OLS objective, and will have no bias but possibly high variance. On the other hand, when $\\lambda \\rightarrow \\infty$, we have $\\hat{\\beta} \\rightarrow \\mathbf{0}_{p+1}$, meaning we will have no variance but possibly high bias. First, we will visualize various values of the bias, variance, and MSE for different choices of $\\lambda$."
   ]
  },
  {
   "cell_type": "markdown",
   "id": "outer-drilling",
   "metadata": {},
   "source": [
    "As a last point, it very important to *standardize* the inputs before applying regularization. The reason is that if the variables are of different scales (i.e. house price, and number of bedrooms), a differing amount of regularization is being applied to each variable. To do so, replace each training example $x_i$ with $\\tilde{x}_i$, where $\\tilde{x}_i$ is defined by\n",
    "\n",
    "$$\n",
    "\\tilde{x}^{(j)}_{i} = \\frac{x^{(j)}_{i} - \\overline{x^{(j)}}}{\\sqrt{\\frac{1}{n} \\sum_{i=1}^n (x^{(j)}_{i} - \\overline{x^{(j)}})^2}},\n",
    "$$\n",
    "\n",
    "where\n",
    "\n",
    "$$\n",
    "\\overline{x^{(j)}} = \\frac{1}{n} \\sum_{i=1}^n x^{(j)}_i\n",
    "$$\n"
   ]
  },
  {
   "cell_type": "markdown",
   "id": "multiple-heart",
   "metadata": {},
   "source": [
    "**Exercise 2.1:** Recall that $x^{(j)}_i$ is the value of the $j$-th feature for the $i$-th example. Explain in words what is meant by each of:\n",
    "- $\\overline{x^{(j)}}$\n",
    "- $\\sqrt{\\frac{1}{n} \\sum_{i=1}^n (x^{(j)}_{i} - \\overline{x^{(j)}})^2}$\n",
    "- $\\tilde{x}^{(j)}_{i}$"
   ]
  },
  {
   "cell_type": "markdown",
   "id": "determined-watson",
   "metadata": {},
   "source": [
    "We return to the Credit dataset. For now, we use the `StandardScaler` from `sklearn` to compute the standarization."
   ]
  },
  {
   "cell_type": "code",
   "execution_count": 30,
   "id": "psychological-persian",
   "metadata": {},
   "outputs": [],
   "source": [
    "from collections import defaultdict\n",
    "import matplotlib.pyplot as plt\n",
    "from sklearn.linear_model import Ridge\n",
    "from sklearn.preprocessing import StandardScaler"
   ]
  },
  {
   "cell_type": "markdown",
   "id": "simple-morgan",
   "metadata": {},
   "source": [
    "First, we fit a ridge regression model for $\\lambda$ values ranging uniformly on a log scale from $10^{-2}$ to $10^6$."
   ]
  },
  {
   "cell_type": "code",
   "execution_count": 31,
   "id": "damaged-queen",
   "metadata": {},
   "outputs": [],
   "source": [
    "lambdas = np.logspace(-2, 6, 1000)\n",
    "\n",
    "# Important before ridge regression! See page 217 of ISLR.\n",
    "X_transformed = StandardScaler().fit_transform(X)\n",
    "# Homework: replace with below.\n",
    "# X_transformed = standardize(X)\n",
    "\n",
    "betas = defaultdict(list)\n",
    "ratios = []\n",
    "features = list(credit_data_dummies.columns)\n",
    "\n",
    "beta_unreg = LinearRegression().fit(X_transformed,y).coef_\n",
    "\n",
    "for lambda_ in lambdas:\n",
    "    beta_reg = Ridge(alpha=lambda_).fit(X_transformed,y).coef_\n",
    "    ratio = np.linalg.norm(beta_reg, ord=2) / np.linalg.norm(beta_unreg, ord=2)\n",
    "    ratios.append(ratio)\n",
    "    for j, feature in enumerate(features):\n",
    "        betas[feature].append(beta_reg[j])"
   ]
  },
  {
   "cell_type": "markdown",
   "id": "suited-stuff",
   "metadata": {},
   "source": [
    "Then, we plot the coefficients $\\beta^{(1)}, ..., \\beta^{(p)}$ (where $p = 11$), against two sets of values. The first is the $\\lambda$ hyperparameter. We expect all of the lines to shrink as $\\lambda \\rightarrow \\infty$. The second is the ratio of $||\\hat{\\beta}^{\\text{RLS}}_\\lambda||_2$ (the $\\ell^2$-norm of the regularized solution) against $||\\hat{\\beta}||_2$ (the $\\ell_2$-norm of the unregularized solution). We expect the coefficients to generally be increasing in absolute value with this quantity."
   ]
  },
  {
   "cell_type": "code",
   "execution_count": 32,
   "id": "protected-postcard",
   "metadata": {},
   "outputs": [
    {
     "data": {
      "image/png": "[encoded data removed]",
      "text/plain": [
       "<Figure size 720x360 with 2 Axes>"
      ]
     },
     "metadata": {
      "needs_background": "light"
     },
     "output_type": "display_data"
    }
   ],
   "source": [
    "# Figure 6.4 of ISLR.\n",
    "\n",
    "labels = {\n",
    "    \"Income\" : \"Income\",\n",
    "    \"Limit\" : \"Limit\",\n",
    "    \"Rating\" : \"Rating\",\n",
    "    \"Student_Yes\" : \"Student\"\n",
    "}\n",
    "\n",
    "fig, axes = plt.subplots(1, 2, sharey=True, figsize = (10, 5))\n",
    "\n",
    "for feature in features:\n",
    "    if feature in labels:\n",
    "        axes[0].plot(lambdas, betas[feature], label=labels[feature])\n",
    "    else:\n",
    "        axes[0].plot(lambdas, betas[feature])\n",
    "    axes[0].set_xscale('log')\n",
    "    axes[1].plot(ratios, betas[feature])\n",
    "    \n",
    "fontsize = 14\n",
    "axes[1].set_xlim(-0.05, 1.05)\n",
    "\n",
    "axes[0].set_xlabel(r\"$\\lambda$\", fontsize=fontsize)\n",
    "axes[1].set_xlabel(r\"$||\\hat{\\beta}^{RLS}_\\lambda||_2 / ||\\hat{\\beta}||_2$\", fontsize=fontsize)\n",
    "axes[0].set_ylabel(\"Standardized Coefficients\", fontsize=fontsize)\n",
    "axes[1].set_ylabel(\"Standardized Coefficients\", fontsize=fontsize)\n",
    "\n",
    "axes[0].legend(loc = \"upper right\")\n",
    "plt.show()"
   ]
  },
  {
   "cell_type": "markdown",
   "id": "limiting-australia",
   "metadata": {},
   "source": [
    "Now, we use a simulated dataset to inspect the bias and variance tradeoff plotted against the same quantities. The setup is the same as before, with a randomly generated $X$, $y$, (true) $\\beta$, and $x$."
   ]
  },
  {
   "cell_type": "code",
   "execution_count": 33,
   "id": "hundred-robertson",
   "metadata": {},
   "outputs": [],
   "source": [
    "def get_data(n, p, sigma2, scale=1, seed=123):\n",
    "    if seed:\n",
    "        np.random.seed(seed)\n",
    "        \n",
    "    X = np.random.normal(size=(n,p))\n",
    "    epsilon = np.random.normal(size=(n,), scale=sigma2)\n",
    "    beta =  scale * (np.ones((p,)) + np.random.normal(size=(p,)))\n",
    "    y = np.dot(X, beta) + epsilon\n",
    "    x = np.random.normal(size=(p,))\n",
    "    inv_cov = np.linalg.inv(X.T @ X / n)\n",
    "    \n",
    "    return X, y, beta, x, inv_cov"
   ]
  },
  {
   "cell_type": "code",
   "execution_count": 34,
   "id": "suburban-typing",
   "metadata": {},
   "outputs": [
    {
     "name": "stdout",
     "output_type": "stream",
     "text": [
      "0.0\n",
      "1.4688562584978742e-05\n",
      "1.0\n"
     ]
    }
   ],
   "source": [
    "def bias(lambda_):\n",
    "    B = np.eye(p) + lambda_ * inv_cov / n\n",
    "    z = np.linalg.solve(B, x)\n",
    "    \n",
    "    return np.dot(z - x, beta)\n",
    "\n",
    "def variance(lambda_):\n",
    "    B = np.eye(p) + lambda_ * inv_cov / n\n",
    "    z = np.linalg.solve(B, x)\n",
    "    \n",
    "    return sigma2 * np.dot(z, np.dot(inv_cov, z)) / n\n",
    "\n",
    "def ratio(lambda_):\n",
    "    B = np.eye(p) + lambda_ * inv_cov / n\n",
    "    beta_hat = np.dot(inv_cov @ X.T, y) / n\n",
    "    u = beta_hat / np.linalg.norm(beta_hat)\n",
    "    z = np.linalg.solve(B, u)\n",
    "    \n",
    "    return np.linalg.norm(z)\n",
    "\n",
    "n = 50\n",
    "p = 45\n",
    "sigma2 = 1\n",
    "\n",
    "X, y, beta, x, inv_cov = get_data(n, p, sigma2)\n",
    "print(bias(0)) # Should be 0.\n",
    "print(variance(10000)) # Should be 0.\n",
    "print(ratio(0)) # Should be 1"
   ]
  },
  {
   "cell_type": "code",
   "execution_count": 35,
   "id": "static-occupation",
   "metadata": {},
   "outputs": [],
   "source": [
    "def compute_metrics(X, y, beta, x, inv_cov, lambdas):\n",
    "    biases_sq = np.square(np.array([bias(lambda_) for lambda_ in lambdas]))\n",
    "    variances = np.array([variance(lambda_) for lambda_ in lambdas])\n",
    "    ratios = np.array([ratio(lambda_) for lambda_ in lambdas])\n",
    "    mses = sigma2 + biases_sq + variances\n",
    "    \n",
    "    return biases_sq, variances, ratios, mses"
   ]
  },
  {
   "cell_type": "code",
   "execution_count": 36,
   "id": "continued-boxing",
   "metadata": {},
   "outputs": [],
   "source": [
    "def plot_bias_variance_curve(lambdas, biases_sq, variances, ratios, mses):\n",
    "    fig, axes = plt.subplots(1, 2, sharey=True, figsize = (10, 5))\n",
    "\n",
    "    axes[0].plot(lambdas, biases_sq, color=\"black\", label=r\"Bias^2\")\n",
    "    axes[0].plot(lambdas, variances, color=\"green\", label=r\"Variance\")\n",
    "    axes[0].plot(lambdas, mses, color=\"red\", label=r\"MSE\")\n",
    "\n",
    "    axes[1].plot(ratios, biases_sq, color=\"black\")\n",
    "    axes[1].plot(ratios, variances, color=\"green\")\n",
    "    axes[1].plot(ratios, mses, color=\"red\")\n",
    "    \n",
    "    var_unreg = variance(0)\n",
    "    axes[0].hlines(var_unreg, np.min(lambdas), np.max(lambdas), color=\"black\", linestyles=\"dashed\")\n",
    "    axes[1].hlines(var_unreg, 0, 1, color=\"black\", linestyles=\"dashed\")\n",
    "\n",
    "    fontsize = 14\n",
    "    axes[1].set_xlim(-0.05, 1.05)\n",
    "    axes[0].set_xscale('log')\n",
    "\n",
    "    axes[0].set_xlabel(r\"$\\lambda$\", fontsize=fontsize)\n",
    "    axes[1].set_xlabel(r\"$||\\hat{\\beta}^{RLS}_\\lambda||_2 / ||\\hat{\\beta}||_2$\", fontsize=fontsize)\n",
    "    axes[0].set_ylabel(\"Mean Squared Error\", fontsize=fontsize)\n",
    "    axes[1].set_ylabel(\"Mean Squared Error\", fontsize=fontsize)\n",
    "\n",
    "    axes[0].legend(loc = \"upper left\")\n",
    "    plt.show()"
   ]
  },
  {
   "cell_type": "code",
   "execution_count": 37,
   "id": "plastic-surrey",
   "metadata": {},
   "outputs": [
    {
     "data": {
      "image/png": "[encoded data removed]",
      "text/plain": [
       "<Figure size 720x360 with 2 Axes>"
      ]
     },
     "metadata": {
      "needs_background": "light"
     },
     "output_type": "display_data"
    }
   ],
   "source": [
    "# Figure 6.5 of ISLR.\n",
    "\n",
    "scale = 0.4\n",
    "n = 65\n",
    "p = 45\n",
    "sigma2 = 3\n",
    "\n",
    "lambdas = np.logspace(-4, 4, 100)\n",
    "X, y, beta, x, inv_cov = get_data(n, p, sigma2,scale=scale)\n",
    "biases_sq, variances, ratios, mses = compute_metrics(X, y, beta, x, inv_cov, lambdas)\n",
    "plot_bias_variance_curve(lambdas, biases_sq, variances, ratios, mses)"
   ]
  },
  {
   "cell_type": "markdown",
   "id": "several-subcommittee",
   "metadata": {},
   "source": [
    "Observe how as $\\lambda$ becomes larger than $10^2$, the bias increases and then levels out (implying that ridge regression is just picking the zero vector at that point. Consequently, the variance is zero in this region. As the $\\lambda$ becomes less than $10^0$, the bias is negligible because the true and regularized solution are essentially the same. The variance increases and then levels out."
   ]
  },
  {
   "cell_type": "markdown",
   "id": "crucial-campaign",
   "metadata": {},
   "source": [
    "**Exercise 2.2:** What quantity does the dashed horizontal line represent?"
   ]
  },
  {
   "cell_type": "markdown",
   "id": "metropolitan-patent",
   "metadata": {},
   "source": [
    "**Exercise 2.3:** Where can we find the irreducible error on the plot above?"
   ]
  },
  {
   "cell_type": "markdown",
   "id": "israeli-mainland",
   "metadata": {},
   "source": [
    "## 3. Gradient Descent\n",
    "\n",
    "In this section, we will shift gears from modeling to optimization. That is, we will go into the specifics of how to actually estimate the optimal $\\beta$ after having written down the objective. A key point that we will see is that regularization plays a role not only in the statistics of machine learning but also in the optimization.\n",
    "\n",
    "**Source**: This section is adapted from the \"[Refresher Course in Matrix Analysis and Numerical Optimization](https://github.com/iutzeler/refresher-course)\" at Université Grenoble Alpes."
   ]
  },
  {
   "cell_type": "markdown",
   "id": "statistical-sheffield",
   "metadata": {},
   "source": [
    "### 3.1. Black-Box Optimization\n",
    "\n",
    "We first cover the *black-box* or *oracle-based optimization* framework for convex, differentiable function. In this model, we assume access to an \"oracle\" that can evaluate the objective function and its gradient at a particular point, without further knowledge of the nature of the function. Contrast this with *parameter-based* optimization in which the objective function has some \"parameters\" that we know something about (for example, a quadratic function in which we know the Hessian and gradient)."
   ]
  },
  {
   "cell_type": "markdown",
   "id": "opponent-brown",
   "metadata": {},
   "source": [
    "Consider an objective function $f: \\mathbb{R}^{n} \\rightarrow \\mathbb{R}$. The input to the oracle is $x \\in \\mathbb{R}^n$, and the output is the value $f(x) \\in \\mathbb{R}$ and the gradient $\\nabla_x f(x)$. A basic convex optimization algorithm in this setting is *gradient descent*. To run gradient descent, we first randomly initialize a point $x_0 \\in \\mathbb{R}^n$. Then, we update the point according to\n",
    "\n",
    "$$\n",
    "x^{(t)} = x^{(t-1)} - \\eta \\nabla_x f(x^{(t-1)}),\n",
    "$$\n",
    "\n",
    "where $\\eta > 0$ is the stepsize hyperparameter. If the gradient of the function is sufficiently smooth, and the step-size is small enough, then gradient descent will converge to an optimum at rate $O\\left(\\frac{1}{t}\\right)$, where $t$ is the number of iterations. We will implement this algorithm on some simple examples."
   ]
  },
  {
   "cell_type": "code",
   "execution_count": 38,
   "id": "uniform-christopher",
   "metadata": {},
   "outputs": [],
   "source": [
    "from utils import *"
   ]
  },
  {
   "cell_type": "markdown",
   "id": "pressing-knife",
   "metadata": {},
   "source": [
    "Consider the following function $f: \\mathbb{R}^2 \\rightarrow \\mathbb{R}$, given by\n",
    "$$\n",
    "f(x_1, x_2) = 4(x_1 - 3)^2 + 2(x_2 - 1)^2.\n",
    "$$\n",
    "![simple](img/simple.png)\n",
    "This one is designed to be easy to optimize."
   ]
  },
  {
   "cell_type": "markdown",
   "id": "bulgarian-walnut",
   "metadata": {},
   "source": [
    "**Exercise 3.1:** Implement the function $f$ below. Feel free to use `numpy` functions."
   ]
  },
  {
   "cell_type": "code",
   "execution_count": 39,
   "id": "short-knight",
   "metadata": {},
   "outputs": [],
   "source": [
    "def f(x):\n",
    "    \"\"\"Function f.\n",
    "\n",
    "\tParameters\n",
    "\t----------\n",
    "\tx : numpy.ndarray\n",
    "\t\tA numpy array of size (2, m, m), where m^2 is the number of plotted points.\n",
    "\n",
    "\tReturns\n",
    "\t-------\n",
    "\tvalue : numpy.ndarray\n",
    "\t\tA numpy array of size (m, m), where value[i, j] = f(x[1, i, j], x[2, i, j]).\n",
    "\t\"\"\"\n",
    "    x1 = x[0] # Size (m, m) array.\n",
    "    x2 = x[1] # Size (m, m) array.\n",
    "    \n",
    "    # <YOUR CODE HERE>\n",
    "    value = None\n",
    "    ##\n",
    "    \n",
    "    return value"
   ]
  },
  {
   "cell_type": "code",
   "execution_count": 40,
   "id": "plain-facial",
   "metadata": {},
   "outputs": [
    {
     "ename": "AttributeError",
     "evalue": "'NoneType' object has no attribute 'ndim'",
     "output_type": "error",
     "traceback": [
      "\u001b[0;31m---------------------------------------------------------------------------\u001b[0m",
      "\u001b[0;31mAttributeError\u001b[0m                            Traceback (most recent call last)",
      "\u001b[0;32m<ipython-input-40-237464aa2875>\u001b[0m in \u001b[0;36m<module>\u001b[0;34m\u001b[0m\n\u001b[1;32m      7\u001b[0m                  'title' : 'f: a simple function' }\n\u001b[1;32m      8\u001b[0m \u001b[0;34m\u001b[0m\u001b[0m\n\u001b[0;32m----> 9\u001b[0;31m \u001b[0mcustom_3dplot\u001b[0m\u001b[0;34m(\u001b[0m\u001b[0mf\u001b[0m\u001b[0;34m,\u001b[0m \u001b[0mf_plot_param\u001b[0m\u001b[0;34m)\u001b[0m\u001b[0;34m\u001b[0m\u001b[0;34m\u001b[0m\u001b[0m\n\u001b[0m\u001b[1;32m     10\u001b[0m \u001b[0mlevel_plot\u001b[0m\u001b[0;34m(\u001b[0m\u001b[0mf\u001b[0m\u001b[0;34m,\u001b[0m \u001b[0mf_plot_param\u001b[0m\u001b[0;34m)\u001b[0m\u001b[0;34m\u001b[0m\u001b[0;34m\u001b[0m\u001b[0m\n",
      "\u001b[0;32m~/OneDrive/Documents/UW/2021-Spring/DATA-558_Machine_Learning/Labs/Lab2/utils.py\u001b[0m in \u001b[0;36mcustom_3dplot\u001b[0;34m(f, f_plot_param)\u001b[0m\n\u001b[1;32m     63\u001b[0m     \u001b[0mfig\u001b[0m \u001b[0;34m=\u001b[0m \u001b[0mplt\u001b[0m\u001b[0;34m.\u001b[0m\u001b[0mfigure\u001b[0m\u001b[0;34m(\u001b[0m\u001b[0;34m)\u001b[0m\u001b[0;34m\u001b[0m\u001b[0;34m\u001b[0m\u001b[0m\n\u001b[1;32m     64\u001b[0m     \u001b[0max\u001b[0m \u001b[0;34m=\u001b[0m \u001b[0mfig\u001b[0m\u001b[0;34m.\u001b[0m\u001b[0mgca\u001b[0m\u001b[0;34m(\u001b[0m\u001b[0mprojection\u001b[0m\u001b[0;34m=\u001b[0m\u001b[0;34m\"3d\"\u001b[0m\u001b[0;34m)\u001b[0m\u001b[0;34m\u001b[0m\u001b[0;34m\u001b[0m\u001b[0m\n\u001b[0;32m---> 65\u001b[0;31m     \u001b[0max\u001b[0m\u001b[0;34m.\u001b[0m\u001b[0mplot_surface\u001b[0m\u001b[0;34m(\u001b[0m\u001b[0mx\u001b[0m\u001b[0;34m,\u001b[0m \u001b[0my\u001b[0m\u001b[0;34m,\u001b[0m \u001b[0mz\u001b[0m\u001b[0;34m,\u001b[0m \u001b[0mcmap\u001b[0m\u001b[0;34m=\u001b[0m\u001b[0mcm\u001b[0m\u001b[0;34m.\u001b[0m\u001b[0mhot\u001b[0m\u001b[0;34m,\u001b[0m \u001b[0mvmin\u001b[0m\u001b[0;34m=\u001b[0m\u001b[0mv_min\u001b[0m\u001b[0;34m,\u001b[0m \u001b[0mvmax\u001b[0m\u001b[0;34m=\u001b[0m\u001b[0mv_max\u001b[0m\u001b[0;34m)\u001b[0m\u001b[0;34m\u001b[0m\u001b[0;34m\u001b[0m\u001b[0m\n\u001b[0m\u001b[1;32m     66\u001b[0m     \u001b[0max\u001b[0m\u001b[0;34m.\u001b[0m\u001b[0mset_zlim\u001b[0m\u001b[0;34m(\u001b[0m\u001b[0mv_min\u001b[0m\u001b[0;34m,\u001b[0m \u001b[0mv_max\u001b[0m\u001b[0;34m)\u001b[0m\u001b[0;34m\u001b[0m\u001b[0;34m\u001b[0m\u001b[0m\n\u001b[1;32m     67\u001b[0m     \u001b[0mplt\u001b[0m\u001b[0;34m.\u001b[0m\u001b[0mshow\u001b[0m\u001b[0;34m(\u001b[0m\u001b[0;34m)\u001b[0m\u001b[0;34m\u001b[0m\u001b[0;34m\u001b[0m\u001b[0m\n",
      "\u001b[0;32m~/opt/anaconda3/envs/DATA558/lib/python3.7/site-packages/mpl_toolkits/mplot3d/axes3d.py\u001b[0m in \u001b[0;36mplot_surface\u001b[0;34m(self, X, Y, Z, norm, vmin, vmax, lightsource, *args, **kwargs)\u001b[0m\n\u001b[1;32m   1553\u001b[0m         \u001b[0mhad_data\u001b[0m \u001b[0;34m=\u001b[0m \u001b[0mself\u001b[0m\u001b[0;34m.\u001b[0m\u001b[0mhas_data\u001b[0m\u001b[0;34m(\u001b[0m\u001b[0;34m)\u001b[0m\u001b[0;34m\u001b[0m\u001b[0;34m\u001b[0m\u001b[0m\n\u001b[1;32m   1554\u001b[0m \u001b[0;34m\u001b[0m\u001b[0m\n\u001b[0;32m-> 1555\u001b[0;31m         \u001b[0;32mif\u001b[0m \u001b[0mZ\u001b[0m\u001b[0;34m.\u001b[0m\u001b[0mndim\u001b[0m \u001b[0;34m!=\u001b[0m \u001b[0;36m2\u001b[0m\u001b[0;34m:\u001b[0m\u001b[0;34m\u001b[0m\u001b[0;34m\u001b[0m\u001b[0m\n\u001b[0m\u001b[1;32m   1556\u001b[0m             \u001b[0;32mraise\u001b[0m \u001b[0mValueError\u001b[0m\u001b[0;34m(\u001b[0m\u001b[0;34m\"Argument Z must be 2-dimensional.\"\u001b[0m\u001b[0;34m)\u001b[0m\u001b[0;34m\u001b[0m\u001b[0;34m\u001b[0m\u001b[0m\n\u001b[1;32m   1557\u001b[0m         \u001b[0;32mif\u001b[0m \u001b[0mnp\u001b[0m\u001b[0;34m.\u001b[0m\u001b[0many\u001b[0m\u001b[0;34m(\u001b[0m\u001b[0mnp\u001b[0m\u001b[0;34m.\u001b[0m\u001b[0misnan\u001b[0m\u001b[0;34m(\u001b[0m\u001b[0mZ\u001b[0m\u001b[0;34m)\u001b[0m\u001b[0;34m)\u001b[0m\u001b[0;34m:\u001b[0m\u001b[0;34m\u001b[0m\u001b[0;34m\u001b[0m\u001b[0m\n",
      "\u001b[0;31mAttributeError\u001b[0m: 'NoneType' object has no attribute 'ndim'"
     ]
    },
    {
     "data": {
      "image/png": "[encoded data removed]",
      "text/plain": [
       "<Figure size 432x288 with 1 Axes>"
      ]
     },
     "metadata": {
      "needs_background": "light"
     },
     "output_type": "display_data"
    }
   ],
   "source": [
    "# Should look qualitatively similar to above.\n",
    "\n",
    "f_plot_param  = {'x1_min' : -0.5, 'x1_max' : 5.5,\n",
    "                 'x2_min' : -0.5, 'x2_max' : 5.5,\n",
    "                 'nb_points' : 200,\n",
    "                 'v_min' : 0, 'v_max' : 80, 'levels' : [0.5,1,2,5,10,15],\n",
    "                 'title' : 'f: a simple function' }\n",
    "\n",
    "custom_3dplot(f, f_plot_param)\n",
    "level_plot(f, f_plot_param)"
   ]
  },
  {
   "cell_type": "markdown",
   "id": "confidential-prefix",
   "metadata": {},
   "source": [
    "Second, consider the following function $g: \\mathbb{R}^2 \\rightarrow \\mathbb{R}$, given by\n",
    "$$\n",
    "g(x_1, x_2) = \\log( 1 + \\exp(4 (x_1-3)^2 ) + \\exp( 2(x_2-1)^2 ) ) - \\log(3)\n",
    "$$\n",
    "![simple](img/harder.png)\n",
    "This one is designed to be more pesky to optimize."
   ]
  },
  {
   "cell_type": "markdown",
   "id": "respiratory-herald",
   "metadata": {},
   "source": [
    "**Exercise 3.2:** Implement the function $g$ below. Feel free to use `numpy` functions."
   ]
  },
  {
   "cell_type": "code",
   "execution_count": null,
   "id": "further-distinction",
   "metadata": {},
   "outputs": [],
   "source": [
    "def g(x):\n",
    "    \"\"\"Function g.\n",
    "\n",
    "\tParameters\n",
    "\t----------\n",
    "\tx : numpy.ndarray\n",
    "\t\tA numpy array of size (2, m, m), where m^2 is the number of plotted points.\n",
    "\n",
    "\tReturns\n",
    "\t-------\n",
    "\tvalue : numpy.ndarray\n",
    "\t\tA numpy array of size (m, m), where value[i, j] = g(x[1, i, j], x[2, i, j]).\n",
    "\t\"\"\"\n",
    "    x1 = x[0] # Size (m, m) array.\n",
    "    x2 = x[1] # Size (m, m) array.\n",
    "    \n",
    "    ## <YOUR CODE HERE>\n",
    "    value = None\n",
    "    ##\n",
    "    \n",
    "    return value"
   ]
  },
  {
   "cell_type": "code",
   "execution_count": null,
   "id": "dangerous-learning",
   "metadata": {},
   "outputs": [],
   "source": [
    "# Should look qualitatively similar to above.\n",
    "\n",
    "g_plot_param  = {'x1_min' : -0.5, 'x1_max' : 5.5,\n",
    "                 'x2_min' : -0.5, 'x2_max' : 5.5,\n",
    "                 'nb_points' : 500,\n",
    "                 'v_min' : 0, 'v_max' : 10, 'levels' : [0.5,1,2,5,10,15],\n",
    "                 'title' : 'g: a harder function' }\n",
    "\n",
    "custom_3dplot(g, g_plot_param)\n",
    "level_plot(g, g_plot_param)"
   ]
  },
  {
   "cell_type": "markdown",
   "id": "native-footwear",
   "metadata": {},
   "source": [
    "**Exercise 3.3:** Implement the gradients $\\nabla f$ and $\\nabla g$ below."
   ]
  },
  {
   "cell_type": "code",
   "execution_count": null,
   "id": "outside-phone",
   "metadata": {},
   "outputs": [],
   "source": [
    "def f_grad(x):\n",
    "    \"\"\"Gradient of f.\n",
    "\n",
    "\tParameters\n",
    "\t----------\n",
    "\tx : numpy.ndarray\n",
    "\t\tA numpy array of size (2,), containing x1 and x2.\n",
    "\n",
    "\tReturns\n",
    "\t-------\n",
    "\tgrad : numpy.ndarray\n",
    "\t\tA numpy array of size (2,), containing df/dx1 and df/dx2\n",
    "\t\"\"\"\n",
    "    \n",
    "    ## <YOUR CODE HERE>\n",
    "    grad = None\n",
    "    ##\n",
    "    \n",
    "    return grad\n",
    "\n",
    "def g_grad(x):\n",
    "    \"\"\"Gradient of g.\n",
    "\n",
    "\tParameters\n",
    "\t----------\n",
    "\tx : numpy.ndarray\n",
    "\t\tA numpy array of size (2,), containing x1 and x2.\n",
    "\n",
    "\tReturns\n",
    "\t-------\n",
    "\tgrad : numpy.ndarray\n",
    "\t\tA numpy array of size (2,), containing dg/dx1 and dg/dx2\n",
    "\t\"\"\"\n",
    "    \n",
    "    ## <YOUR CODE HERE>    \n",
    "    grad = None\n",
    "    ##\n",
    "    \n",
    "    return grad"
   ]
  },
  {
   "cell_type": "markdown",
   "id": "structural-first",
   "metadata": {},
   "source": [
    "While theory suggests that the gradient descent iterates converge to the optimum in the limit of infinite iterations, we are of course limited to a finite number of iterations when implementing the algorithm. Conditions for selecting the correct number of iterations are called *stopping criteria*. Multiple stopping criteria can be specified, in which case the algorithm terminates when any one of the criteria is satisfied. We consider two:\n",
    "- Stop after a maximum number if iterations `iters` is reached.\n",
    "- Stop after the squared norm of the gradient falls below `tol`."
   ]
  },
  {
   "cell_type": "markdown",
   "id": "controlled-packet",
   "metadata": {},
   "source": [
    "**Exercise 3.4:** Implement gradient descent, assuming access to the gradient oracle. Initialize at $(0, 0)$."
   ]
  },
  {
   "cell_type": "code",
   "execution_count": null,
   "id": "chemical-judgment",
   "metadata": {},
   "outputs": [],
   "source": [
    "def gradient_descent_2d(f_grad, lr, iters, tol):\n",
    "    \"\"\"Gradient of g.\n",
    "\n",
    "\tParameters\n",
    "\t----------\n",
    "\tf_grad : function\n",
    "\t\tA function the provides the gradient with respect to input x.\n",
    "    lr : float\n",
    "\t\tLearning rate, or step size in optimization.\n",
    "    iters : int\n",
    "\t\tNumber of iterations to run GD.\n",
    "    tol : float\n",
    "\t\tTolerance for squared norm of the gradient.\n",
    "\n",
    "\tReturns\n",
    "\t-------\n",
    "\titerates : list[numpy.ndarray]\n",
    "\t\tA list of numpy arrays, each of size (2,), containing x1 and x2 for each iteration of GD.\n",
    "\t\"\"\"\n",
    "    \n",
    "    # initialization and gradient at initial point\n",
    "    x = np.array([0, 0])\n",
    "    iterates = [x]\n",
    "    grad = f_grad(x)\n",
    "    \n",
    "    t = 0 # iteration counter\n",
    "    while t < iters and np.linalg.norm(grad) ** 2 > tol:\n",
    "        ## <YOUR CODE HERE>\n",
    "        # 1. update location by taking gradient step with step size lr\n",
    "        \n",
    "        # 2. compute gradient at new point\n",
    "        \n",
    "        # 3. add new point to iterates\n",
    "        \n",
    "        t += 1 # increment iteration counter\n",
    "        \n",
    "    return iterates"
   ]
  },
  {
   "cell_type": "code",
   "execution_count": null,
   "id": "pursuant-vietnam",
   "metadata": {},
   "outputs": [],
   "source": [
    "from utils import gd_viz"
   ]
  },
  {
   "cell_type": "markdown",
   "id": "wired-defensive",
   "metadata": {},
   "source": [
    "**Exercise 3.5:** Choose a set of hyperparameters that allows gradient descent to optimize $f$. Experiment with the learning rate. What happens when it is set very small? Very large? Are there some cases in which the optimization fails?"
   ]
  },
  {
   "cell_type": "code",
   "execution_count": null,
   "id": "electrical-minnesota",
   "metadata": {},
   "outputs": [],
   "source": [
    "## <YOUR CODE HERE>\n",
    "iters = None\n",
    "lr = None\n",
    "tol = None\n",
    "##\n",
    "\n",
    "iterates = gradient_descent_2d(f_grad, lr, iters, tol)\n",
    "\n",
    "gd_viz(f, f_plot_param, iterates)"
   ]
  },
  {
   "cell_type": "markdown",
   "id": "automotive-zoning",
   "metadata": {},
   "source": [
    "**Exercise 3.6:** Choose a set of hyperparameters that allow gradient descent to optimize $g$. As above, experiment with the algorithm settings. "
   ]
  },
  {
   "cell_type": "code",
   "execution_count": null,
   "id": "opposed-winner",
   "metadata": {},
   "outputs": [],
   "source": [
    "## <YOUR CODE HERE>\n",
    "iters = None\n",
    "lr = None\n",
    "tol = None\n",
    "##\n",
    "\n",
    "iterates = gradient_descent_2d(g_grad, lr, iters, tol)\n",
    "\n",
    "gd_viz(g, g_plot_param, iterates)"
   ]
  },
  {
   "cell_type": "markdown",
   "id": "handmade-equivalent",
   "metadata": {},
   "source": [
    "### 3.2. Regularized Least-Squares Optimization (RLS)"
   ]
  },
  {
   "cell_type": "markdown",
   "id": "dangerous-oxygen",
   "metadata": {},
   "source": [
    "In this final section, we explore ridge regression from an optimization viewpoint. It turns out that while regularization provides *statistical* benefits (by increasing performance for a fixed amount of data), it also can have *optimization* benefits (by more stably and more quickly reaching the optimal value)."
   ]
  },
  {
   "cell_type": "markdown",
   "id": "rapid-arctic",
   "metadata": {},
   "source": [
    "Recall the ridge regression objective.\n",
    "\n",
    "$$\n",
    "L(\\beta) = \\frac{1}{n}\\sum_{i=1}^n (y_i - \\beta^\\top x_i)^2 + \\frac{\\lambda}{n} ||\\beta||_2^2,\n",
    "$$\n",
    "\n",
    "We will use our visualizations and gradient descent implementation from the previous sections to understand and solve this objective. We will then check our answer against that of `Ridge` in higher dimensions to make sure that we did it correctly."
   ]
  },
  {
   "cell_type": "markdown",
   "id": "quality-lunch",
   "metadata": {},
   "source": [
    "**Exercise 3.7:** Implement the RLS objective function."
   ]
  },
  {
   "cell_type": "code",
   "execution_count": null,
   "id": "fundamental-syria",
   "metadata": {},
   "outputs": [],
   "source": [
    "def L(beta, lambda_, X, y):\n",
    "    \"\"\"L2 Regularized least-squares (RLS) objective.\n",
    "\n",
    "\tParameters\n",
    "\t----------\n",
    "\tbeta : numpy.ndarray\n",
    "\t\tA numpy array of size (p+1,), where p is the number of predictors.\n",
    "    lambda_ : float\n",
    "        Regularization hyperparameter.\n",
    "    X : numpy.ndarray\n",
    "        A numpy array of size (n,p+1), containing the design matrix.\n",
    "    y : numpy.ndarray\n",
    "        A numpy array of size (n,), containing the responses.\n",
    "\n",
    "\tReturns\n",
    "\t-------\n",
    "\tvalue : float\n",
    "\t\tA float representing the RLS objective.\n",
    "\t\"\"\"\n",
    "    \n",
    "    ## <YOUR CODE HERE>\n",
    "    # 1. compute the linear prediction y_hat    \n",
    "    # 2. compute the residual    \n",
    "    # 3. compute the RLS objective as a function of the residual and beta\n",
    "    value = None\n",
    "    ##\n",
    "    \n",
    "    return value"
   ]
  },
  {
   "cell_type": "markdown",
   "id": "noble-swaziland",
   "metadata": {},
   "source": [
    "**Exercise 3.8:** Implement the gradient of the RLS objective."
   ]
  },
  {
   "cell_type": "code",
   "execution_count": null,
   "id": "stock-minute",
   "metadata": {},
   "outputs": [],
   "source": [
    "def L_grad(beta, lambda_, X, y):\n",
    "    \"\"\"Derivative of RLS objective.\n",
    "\n",
    "\tParameters\n",
    "\t----------\n",
    "\tbeta : numpy.ndarray\n",
    "\t\tA numpy array of size (p+1,), where p is the number of predictors.\n",
    "    lambda_ : float\n",
    "        Regularization hyperparameter.\n",
    "    X : numpy.ndarray\n",
    "        A numpy array of size (n,p+1), containing the design matrix.\n",
    "    y : numpy.ndarray\n",
    "        A numpy array of size (n,), containing the responses.\n",
    "\n",
    "\tReturns\n",
    "\t-------\n",
    "\tgrad : numpy.ndarray\n",
    "\t\tA numpy array of size (p+1,), containing the gradient dL/dbeta.\n",
    "\t\"\"\"\n",
    "    \n",
    "    ## <YOUR CODE HERE>\n",
    "    grad = None\n",
    "    ##\n",
    "    \n",
    "    return grad"
   ]
  },
  {
   "cell_type": "markdown",
   "id": "demonstrated-vienna",
   "metadata": {},
   "source": [
    "**Exercise 3.9:** Implement gradient descent for general $d$ dimensional space. Pass `*args` to the function to contain `lambda_`, `X`, and `y`."
   ]
  },
  {
   "cell_type": "code",
   "execution_count": null,
   "id": "everyday-analysis",
   "metadata": {},
   "outputs": [],
   "source": [
    "def gradient_descent(L_grad, lr, iters, tol, *args):\n",
    "    \"\"\"Gradient of g.\n",
    "\n",
    "\tParameters\n",
    "\t----------\n",
    "\tL_grad : function\n",
    "\t\tA function the provides the gradient with respect to input beta.\n",
    "    lr : float\n",
    "\t\tLearning rate, or step size in optimization.\n",
    "    iters : int\n",
    "\t\tNumber of iterations to run GD.\n",
    "    tol : float\n",
    "\t\tTolerance for squared norm of the gradient.\n",
    "\n",
    "\tReturns\n",
    "\t-------\n",
    "\titerates : list[numpy.ndarray]\n",
    "\t\tA list of numpy arrays, each of size (d,), containing the iterates of GD.\n",
    "\t\"\"\"\n",
    "    \n",
    "    # <YOUR CODE HERE>\n",
    "    iterates = []\n",
    "    ##\n",
    "\n",
    "    return iterates"
   ]
  },
  {
   "cell_type": "markdown",
   "id": "lesser-southwest",
   "metadata": {},
   "source": [
    "We will first check this algorithm on $d=2$ (i.e. $p=1$) to visualize the solution."
   ]
  },
  {
   "cell_type": "code",
   "execution_count": null,
   "id": "vanilla-municipality",
   "metadata": {},
   "outputs": [],
   "source": [
    "beta_true = np.array([2, 0.5])\n",
    "\n",
    "n = 100\n",
    "sigma2 = 1\n",
    "\n",
    "X = np.ones((n, 2))\n",
    "X[:, 1] = np.random.normal(size=(n,))\n",
    "epsilon = np.random.normal(size=(n,), scale=sigma2)\n",
    "y = np.dot(X, beta_true) + epsilon\n",
    "lambda_ = 0.001\n",
    "\n",
    "iters = 4\n",
    "lr = 0.3\n",
    "tol = 1e-5\n",
    "\n",
    "iterates = gradient_descent(L_grad, lr, iters, tol, lambda_, X, y)\n",
    "\n",
    "rls_viz(L, iterates, beta_true, lambda_, X, y)"
   ]
  },
  {
   "cell_type": "markdown",
   "id": "dominant-denver",
   "metadata": {},
   "source": [
    "The lines fit the data (black dots) better and better with each iteration. Note that we implemented our loss function as a sum, meaning we'd generally want a smaller learning rate. Finally, we compare our answer to the various `sklearn` libraries we've been using up until this point."
   ]
  },
  {
   "cell_type": "markdown",
   "id": "diagnostic-bottle",
   "metadata": {},
   "source": [
    "**Exercise 3.10:** Generate a dataset of `X`, `y`, according to some `beta` with `p = 10`. Estimate `beta` using both `Ridge`, and our `gradient_descent` implementation. For what hyperparameters do the results look qualitatively similar? (For simplicity, ignore the intercept and specify `fit_intercept=False` for `Ridge`."
   ]
  },
  {
   "cell_type": "code",
   "execution_count": null,
   "id": "religious-madonna",
   "metadata": {},
   "outputs": [],
   "source": [
    "## <YOUR CODE HERE>\n",
    "\n",
    "##"
   ]
  },
  {
   "cell_type": "code",
   "execution_count": null,
   "id": "advance-sally",
   "metadata": {},
   "outputs": [],
   "source": []
  }
 ],
 "metadata": {
  "kernelspec": {
   "display_name": "Python [conda env:DATA558] *",
   "language": "python",
   "name": "conda-env-DATA558-py"
  },
  "language_info": {
   "codemirror_mode": {
    "name": "ipython",
    "version": 3
   },
   "file_extension": ".py",
   "mimetype": "text/x-python",
   "name": "python",
   "nbconvert_exporter": "python",
   "pygments_lexer": "ipython3",
   "version": "3.7.10"
  }
 },
 "nbformat": 4,
 "nbformat_minor": 5
}
