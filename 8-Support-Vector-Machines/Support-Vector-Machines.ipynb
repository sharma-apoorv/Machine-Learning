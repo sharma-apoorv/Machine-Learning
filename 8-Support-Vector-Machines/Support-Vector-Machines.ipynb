{
 "cells": [
  {
   "cell_type": "markdown",
   "id": "south-miniature",
   "metadata": {
    "id": "c6l58blNz3fZ"
   },
   "source": [
    "<h1><center>Support Vector Machines</center></h1>\n",
    "<center>Author: Apoorv Sharma</center>\n"
   ]
  },
  {
   "cell_type": "markdown",
   "id": "organic-scale",
   "metadata": {
    "id": "gEqwJ9sgwdnE"
   },
   "source": [
    "The function we are trying to optimize is defined as follows:\n",
    "\n",
    "$$\n",
    "min_{a \\in \\mathbb{R}} F(\\alpha) = \\frac{1}{n} \\sum_{i=1}^n \\ell(y_i, (K\\alpha)_i) + \\lambda \\alpha^T K \\alpha\n",
    "$$\n",
    "\n",
    "Substituting in the loss function, we obtain:\n",
    "\n",
    "$$\n",
    "min_{a \\in \\mathbb{R}} F(\\alpha) = \\frac{1}{n} \\sum_{i=1}^n \\left( max\\{ 0, 1-yt \\} \\right)^2 + \\lambda \\alpha^T K \\alpha\n",
    "$$\n",
    "\n",
    "Thus, taking the derivative, we get:\n",
    "\n",
    "$$\n",
    "\\nabla F(\\alpha) = -\\frac{2}{n} \\sum_{i=1}^n y_iK_i \\left( max\\{ 0, 1-y_i^TK_i\\alpha \\} \\right) + 2\\lambda K \\alpha\n",
    "$$\n",
    "\n",
    "The above can be written as a peicewise equation\n",
    "\n",
    "$$\n",
    "\\nabla F(\\alpha) = \n",
    "\\begin{cases}\n",
    "    -\\frac{2}{n} \\sum_{i=1}^n y_iK_i \\left(1-y_i^TK_i\\alpha \\right) + 2\\lambda K \\alpha,& \\text{if } y_i(K\\alpha)_i > 0\\\\\n",
    "    0,              & \\text{otherwise}\n",
    "\\end{cases}\n",
    "$$\n",
    "\n"
   ]
  },
  {
   "cell_type": "code",
   "execution_count": 1,
   "id": "expanded-scope",
   "metadata": {
    "id": "d15dcc73"
   },
   "outputs": [],
   "source": [
    "import pandas as pd\n",
    "import numpy as np\n",
    "\n",
    "from sklearn.datasets import load_digits\n",
    "from sklearn.preprocessing import normalize\n",
    "from sklearn.model_selection import KFold\n",
    "from sklearn.model_selection import train_test_split\n",
    "\n",
    "from tqdm import tqdm\n",
    "from abc import ABC, abstractmethod\n",
    "\n",
    "import matplotlib.pyplot as plt\n",
    "%matplotlib inline"
   ]
  },
  {
   "cell_type": "markdown",
   "id": "acoustic-germany",
   "metadata": {
    "id": "8gqx6dVM0mp9"
   },
   "source": [
    "We define the base class, `KernelSVM`. This class contains the fast gradient descent code, objective function and gradient of the objective.\n",
    "\n",
    "The children classes define the specific kernel functions required. Here we define 3 main kernels:\n",
    "\n",
    "\n",
    "1.   Linear Kernel: Implemented using `LinearSVM` \n",
    "2.   Polynomial Kernel: Implemented using `PolySVM`\n",
    "3.   Gaussian/Radial Bias Function (RBF) Kernel: Implemented using `GaussianSVM`\n",
    "\n"
   ]
  },
  {
   "cell_type": "code",
   "execution_count": 2,
   "id": "accepting-happiness",
   "metadata": {
    "id": "E19iM-TrOTFf"
   },
   "outputs": [],
   "source": [
    "class KernelSVM:\n",
    "    def __init__(self, lambda_, X_train, y_train, max_iters_=300):\n",
    "        self.lambda_ = lambda_\n",
    "        \n",
    "        self.X = X_train\n",
    "        self.y = y_train\n",
    "        \n",
    "        self.n, self.d = X_train.shape\n",
    "                \n",
    "        self.decay_rate = 0.7\n",
    "        self.prop_constant = 0.2\n",
    "\n",
    "        self.max_iters = max_iters_\n",
    "    \n",
    "    @abstractmethod\n",
    "    def kernel(self, x, y):\n",
    "        pass\n",
    "    \n",
    "    def computegram(self, X, Z):\n",
    "        gram = self.kernel(X, Z)\n",
    "        return gram\n",
    "    \n",
    "    def kerneleval(self, Y):\n",
    "        keval = np.zeros((self.n, 1))\n",
    "\n",
    "        for i in range(self.n):\n",
    "            x = self.X[i, :]\n",
    "            keval[i, 0] = self.kernel(x, Y)\n",
    "\n",
    "        return keval\n",
    "    \n",
    "    def objective(self, alpha):\n",
    "        K_alpha = self.gram @ alpha\n",
    "        reg_val = self.lambda_ * (alpha.T @ K_alpha)\n",
    "        condition_exp = 1 - np.multiply(self.y, K_alpha)\n",
    "        condition_exp[condition_exp < 0] = 0  # equivalent to max(0, condition_exp)\n",
    "        condition_exp = np.square(condition_exp) # condition_exp ^ 2\n",
    "        \n",
    "        return np.mean(condition_exp) + reg_val\n",
    "\n",
    "    def computegrad(self, alpha):\n",
    "        K_alpha = np.dot(self.gram, alpha)\n",
    "        reg_val = (2 * self.lambda_ * K_alpha)\n",
    "\n",
    "        delta_value = -2.0 * self.y * (self.gram)\n",
    "        condition_expression = self.y * (K_alpha)\n",
    "        condition_expression[condition_expression > 1] = 0\n",
    "\n",
    "        loss = delta_value * (1 - condition_expression)\n",
    "        loss = loss.sum(axis=1)\n",
    "        \n",
    "        grad = (1.0/self.n) * loss + reg_val\n",
    "        return grad\n",
    "\n",
    "    def backtracking(self, eta_init, beta, grad):\n",
    "        \n",
    "        step_size = eta_init\n",
    "        \n",
    "        gradient = grad\n",
    "        objective_prior = self.objective(beta)\n",
    "        gradient_norm = np.sum(np.square(gradient))\n",
    "            \n",
    "        for _ in range(self.max_iters):\n",
    "            beta_posterior = beta - step_size * gradient\n",
    "            objective_posterior = self.objective(beta_posterior)\n",
    "\n",
    "            minimum_move = objective_prior - self.prop_constant * step_size * gradient_norm\n",
    "\n",
    "            if objective_posterior <= minimum_move:\n",
    "                return step_size\n",
    "            else:\n",
    "                step_size *= self.decay_rate\n",
    "            \n",
    "        return step_size\n",
    "    \n",
    "    def fastgradalgo(self, alpha_init, epsilon, eta_init):\n",
    "\n",
    "        beta = alpha_init\n",
    "        theta = alpha_init\n",
    "        step_size = eta_init\n",
    "        \n",
    "        objective_log = [self.objective(beta)]\n",
    "        betas = [beta]\n",
    "        \n",
    "        for iter in range(self.max_iters):\n",
    "            grad_beta = self.computegrad(beta)\n",
    "\n",
    "            # print(f'Iteration: {iter} Grad Norm: {np.linalg.norm(grad_beta)}')\n",
    "            # print(f'Iteration: {iter} Obj: {objective_log[-1]}')\n",
    "\n",
    "            if np.linalg.norm(grad_beta) <= epsilon:\n",
    "                return beta, objective_log, betas\n",
    "            \n",
    "            step_size = self.backtracking(step_size, beta, grad_beta)\n",
    "            grad_theta = self.computegrad(theta)\n",
    "            \n",
    "            beta_new = theta - step_size * grad_theta\n",
    "            theta = beta_new + (iter / (iter + 3)) * (beta_new - beta)\n",
    "            beta = beta_new\n",
    "            objective_log.append(self.objective(beta))\n",
    "            betas.append(beta)\n",
    "        \n",
    "        return beta, objective_log, betas\n",
    "    \n",
    "    def train(self, epsilon=1):\n",
    "        alpha = np.zeros(self.n)\n",
    "        \n",
    "        eta_init = (1/(max(np.linalg.eigvals(1/self.n * self.gram.dot(self.gram.T))) + self.lambda_)).real\n",
    "        # eta_init = 0.1\n",
    "        # print(f'Initial Learning Rate: {eta_init:.10f}')\n",
    "        \n",
    "        beta, objvals, betas = self.fastgradalgo(alpha, epsilon, eta_init)\n",
    "        self.alpha = beta\n",
    "\n",
    "        # print(f'Done after {len(objvals)} iterations')\n",
    "        return betas, objvals\n",
    "    \n",
    "    def predict(self, X_test):\n",
    "        weights = self.alpha\n",
    "        gram_test = self.computegram(self.X, X_test)\n",
    "\n",
    "        # print(np.sum(weights[:, np.newaxis] * gram_test, axis=0))\n",
    "\n",
    "        y_pred = np.sign(np.sum(weights[:, np.newaxis] * gram_test, axis=0)).reshape(1, -1)[0]\n",
    "        return y_pred\n",
    "\n",
    "class PolySVM(KernelSVM):\n",
    "    def __init__(self, lambda_, X_train, y_train, offset_, exponent_, max_iters_=300):\n",
    "        super().__init__(lambda_, X_train, y_train, max_iters_)\n",
    "\n",
    "        self.offset = offset_\n",
    "        self.exponent = exponent_\n",
    "\n",
    "        self.gram = self.computegram(self.X, self.X)\n",
    "    \n",
    "    def kernel(self, x, y):\n",
    "        return ((x @ y.T) + self.offset) ** self.exponent\n",
    "\n",
    "class LinearSVM(KernelSVM):\n",
    "    def __init__(self, lambda_, X_train, y_train, max_iters_=300):\n",
    "        super().__init__(lambda_, X_train, y_train, max_iters_)\n",
    "\n",
    "        self.gram = self.computegram(self.X, self.X)\n",
    "    \n",
    "    def kernel(self, x, y):\n",
    "        return (x @ y.T)\n",
    "\n",
    "class GaussianSVM(KernelSVM):\n",
    "    def __init__(self, lambda_, X_train, y_train, gamma_, max_iters_=300):\n",
    "        super().__init__(lambda_, X_train, y_train, max_iters_)\n",
    "\n",
    "        self.gamma = gamma_\n",
    "        self.gram = self.computegram(self.X, self.X)\n",
    "    \n",
    "    def kernel(self, x, y):\n",
    "        return np.exp(self.gamma * np.square(x[:, np.newaxis] - y).sum(axis=2))\n"
   ]
  },
  {
   "cell_type": "code",
   "execution_count": 3,
   "id": "quiet-biology",
   "metadata": {
    "id": "j8s8abYIgutK"
   },
   "outputs": [],
   "source": [
    "def acc(y_true, y_pred):\n",
    "    return np.mean(y_pred == y_true)"
   ]
  },
  {
   "cell_type": "markdown",
   "id": "limited-impact",
   "metadata": {
    "id": "P6tQcgb71qxe"
   },
   "source": [
    "Initial Setting for hyperparameters"
   ]
  },
  {
   "cell_type": "code",
   "execution_count": 4,
   "id": "drawn-bryan",
   "metadata": {
    "id": "469b7a5b"
   },
   "outputs": [],
   "source": [
    "B, P = 1, 7\n",
    "LAMBDA = 10.0"
   ]
  },
  {
   "cell_type": "markdown",
   "id": "charming-giant",
   "metadata": {
    "id": "RtrriwCK1ttE"
   },
   "source": [
    "We now load and return the digits dataset"
   ]
  },
  {
   "cell_type": "code",
   "execution_count": 5,
   "id": "periodic-mortality",
   "metadata": {
    "id": "a51802f3"
   },
   "outputs": [],
   "source": [
    "digits = load_digits()\n",
    "X = digits.data\n",
    "y = digits.target\n",
    "\n",
    "unique_digits = np.unique(y)"
   ]
  },
  {
   "cell_type": "code",
   "execution_count": 6,
   "id": "satellite-toolbox",
   "metadata": {
    "id": "7JHfi_yC2C4M"
   },
   "outputs": [
    {
     "data": {
      "text/plain": [
       "<matplotlib.image.AxesImage at 0x7ff39abc3c50>"
      ]
     },
     "execution_count": 6,
     "metadata": {},
     "output_type": "execute_result"
    },
    {
     "data": {
      "text/plain": [
       "<Figure size 432x288 with 0 Axes>"
      ]
     },
     "metadata": {},
     "output_type": "display_data"
    },
    {
     "data": {
      "image/png": "[encoded data removed]",
      "text/plain": [
       "<Figure size 288x288 with 1 Axes>"
      ]
     },
     "metadata": {
      "needs_background": "light"
     },
     "output_type": "display_data"
    }
   ],
   "source": [
    "plt.gray()\n",
    "plt.matshow(digits.images[0])"
   ]
  },
  {
   "cell_type": "code",
   "execution_count": 7,
   "id": "processed-rebel",
   "metadata": {
    "id": "28aeed08"
   },
   "outputs": [],
   "source": [
    "X = normalize(X, norm='l2', axis=1)"
   ]
  },
  {
   "cell_type": "code",
   "execution_count": 8,
   "id": "facial-constitution",
   "metadata": {
    "colab": {
     "base_uri": "https://localhost:8080/"
    },
    "id": "SV-09ykyPEp_",
    "outputId": "197b0738-bff1-4115-9b2f-9396b15bbd03"
   },
   "outputs": [
    {
     "data": {
      "text/plain": [
       "1.0"
      ]
     },
     "execution_count": 8,
     "metadata": {},
     "output_type": "execute_result"
    }
   ],
   "source": [
    "np.linalg.norm(X[0])"
   ]
  },
  {
   "cell_type": "markdown",
   "id": "thirty-casino",
   "metadata": {
    "id": "-Lo8FOFk2K9m"
   },
   "source": [
    "We now split the dataset into test and train sets. Here the stratisfied approach has been used in order to balance the occurences of the digits in the test and train data"
   ]
  },
  {
   "cell_type": "code",
   "execution_count": 9,
   "id": "first-ratio",
   "metadata": {
    "id": "11426d98"
   },
   "outputs": [],
   "source": [
    "X, X_test, y, y_test = train_test_split(X, y, test_size=0.2, stratify=y)\n",
    "# X, X_test, y, y_test = train_test_split(X, y, test_size=0.2)"
   ]
  },
  {
   "cell_type": "markdown",
   "id": "british-skirt",
   "metadata": {
    "id": "jeN7P6BH2i4F"
   },
   "source": [
    "We now format the data so we create 10 'one vs rest' classifiers; one for each digit present in the dataset (0 - 9)\n",
    "\n",
    "We create a map to keep track of the information for each digit. The keys in the map are the interger of the digit we are trying to classify.\n",
    "\n"
   ]
  },
  {
   "cell_type": "code",
   "execution_count": 10,
   "id": "greenhouse-arrangement",
   "metadata": {
    "id": "13d1c7f4"
   },
   "outputs": [],
   "source": [
    "digits_dataset_dict = {}\n",
    "for digit in unique_digits:\n",
    "    y_d = np.where(y == digit, 1, -1)\n",
    "    \n",
    "    digits_dataset_dict[int(digit)] = {}\n",
    "    digits_dataset_dict[int(digit)]['y'] = y_d"
   ]
  },
  {
   "cell_type": "markdown",
   "id": "adjusted-registrar",
   "metadata": {
    "id": "DfmkmthN3LC0"
   },
   "source": [
    "We train each of the *one vs rest* classifiers and store the model, iterates and objective values in the map"
   ]
  },
  {
   "cell_type": "code",
   "execution_count": 11,
   "id": "distant-myrtle",
   "metadata": {
    "colab": {
     "base_uri": "https://localhost:8080/"
    },
    "id": "072f9ca2",
    "outputId": "91fddec5-7425-4277-ab1f-dd7b3d55177b"
   },
   "outputs": [
    {
     "name": "stdout",
     "output_type": "stream",
     "text": [
      "Starting: 0\n",
      "(array([172, 181, 302, 355]),)\n",
      "\n",
      "Starting: 1\n",
      "(array([], dtype=int64),)\n",
      "\n",
      "Starting: 2\n",
      "(array([], dtype=int64),)\n",
      "\n",
      "Starting: 3\n",
      "(array([], dtype=int64),)\n",
      "\n",
      "Starting: 4\n",
      "(array([ 27, 184]),)\n",
      "\n",
      "Starting: 5\n",
      "(array([], dtype=int64),)\n",
      "\n",
      "Starting: 6\n",
      "(array([117, 202, 205, 233, 296, 329, 341, 352]),)\n",
      "\n",
      "Starting: 7\n",
      "(array([55]),)\n",
      "\n",
      "Starting: 8\n",
      "(array([], dtype=int64),)\n",
      "\n",
      "Starting: 9\n",
      "(array([], dtype=int64),)\n",
      "\n"
     ]
    }
   ],
   "source": [
    "for digit, digit_info in digits_dataset_dict.items():\n",
    "    print(f'Starting: {digit}')\n",
    "    digit_info['model'] = PolySVM(LAMBDA, X, digit_info['y'], B, P)\n",
    "    digit_info['iterates'], digit_info['obj'] = digit_info['model'].train()\n",
    "\n",
    "    y_preds = digit_info['model'].predict(X_test)\n",
    "    y_d = np.where(y_test == digit, 1, -1)\n",
    "\n",
    "    print(np.where(y_preds == 1))\n",
    "    print()"
   ]
  },
  {
   "cell_type": "markdown",
   "id": "honey-surveillance",
   "metadata": {
    "id": "2Bu98t-Q3WB9"
   },
   "source": [
    "The following cell blocks show the decrease of the objective function vs the number of iterations"
   ]
  },
  {
   "cell_type": "code",
   "execution_count": 12,
   "id": "native-bunny",
   "metadata": {
    "colab": {
     "base_uri": "https://localhost:8080/",
     "height": 513
    },
    "id": "116_6iZeBpx9",
    "outputId": "71a9699b-7cff-4625-9cba-310f7e066663"
   },
   "outputs": [
    {
     "data": {
      "image/png": "[encoded data removed]",
      "text/plain": [
       "<Figure size 1008x576 with 1 Axes>"
      ]
     },
     "metadata": {
      "needs_background": "light"
     },
     "output_type": "display_data"
    }
   ],
   "source": [
    "def plot_objectives(digits_dataset_dict):\n",
    "    \n",
    "    row, col = 2, 5\n",
    "    i = 0\n",
    "    f = plt.figure(figsize=(14, 8))\n",
    "    for digit, digit_info in digits_dataset_dict.items():\n",
    "        # Debug, plot figure\n",
    "        i += 1\n",
    "        plt.plot(np.array(range(len(digit_info['obj']))), digit_info['obj'], label=f'Digit={digit}')\n",
    "        \n",
    "    plt.title(f'Objective values vs Iterations (per digit)')\n",
    "    plt.xlabel('Iteration')\n",
    "    plt.ylabel('Objective Value')\n",
    "\n",
    "    plt.savefig(f'images_c1.png')\n",
    "    plt.legend()\n",
    "    plt.grid()\n",
    "    plt.show(block=True)\n",
    "\n",
    "plot_objectives(digits_dataset_dict)"
   ]
  },
  {
   "cell_type": "code",
   "execution_count": 13,
   "id": "third-healthcare",
   "metadata": {
    "colab": {
     "base_uri": "https://localhost:8080/",
     "height": 839
    },
    "id": "V7sL228DH2v5",
    "outputId": "f5da0cbc-dbbb-4174-d54a-e9a5a42cd506"
   },
   "outputs": [
    {
     "data": {
      "image/png": "[encoded data removed]",
      "text/plain": [
       "<Figure size 1296x1008 with 10 Axes>"
      ]
     },
     "metadata": {
      "needs_background": "light"
     },
     "output_type": "display_data"
    }
   ],
   "source": [
    "def plot_objectives_subplots(digits_dataset_dict):\n",
    "    \n",
    "    row, col = 4, 3\n",
    "    i = 0\n",
    "    f = plt.figure(figsize=(18, 14))\n",
    "    for digit, digit_info in digits_dataset_dict.items():\n",
    "        # Debug, plot figure\n",
    "        i += 1\n",
    "        f.add_subplot(row, col, i)\n",
    "        plt.plot(np.array(range(len(digit_info['obj']))), digit_info['obj'])\n",
    "        \n",
    "        plt.title(f'Digit #{digit}')\n",
    "        plt.xlabel('Iteration')\n",
    "        plt.ylabel('Objective Value')\n",
    "        plt.grid()\n",
    "\n",
    "    plt.savefig(f'objective_subplots.png')\n",
    "    plt.show(block=True)\n",
    "\n",
    "plot_objectives_subplots(digits_dataset_dict)"
   ]
  },
  {
   "cell_type": "markdown",
   "id": "changed-opinion",
   "metadata": {
    "id": "Upq_dQz53efo"
   },
   "source": [
    "We now do 5-fold cross validation to find the optimal value of $\\lambda$\n",
    "\n",
    "For each of the 10 *one vs rest* classifiers, we train the model using the specified $\\lambda$ value, for each of the 5 splits we obtain"
   ]
  },
  {
   "cell_type": "code",
   "execution_count": 14,
   "id": "alleged-prior",
   "metadata": {
    "id": "NHEXkKszRRN3"
   },
   "outputs": [
    {
     "name": "stderr",
     "output_type": "stream",
     "text": [
      "/anaconda/envs/py37_default/lib/python3.7/site-packages/sklearn/utils/validation.py:70: FutureWarning: Pass shuffle=True as keyword args. From version 0.25 passing these as positional arguments will result in an error\n",
      "  FutureWarning)\n"
     ]
    }
   ],
   "source": [
    "N = 5\n",
    "kf = KFold(N, True)"
   ]
  },
  {
   "cell_type": "code",
   "execution_count": 15,
   "id": "complimentary-calibration",
   "metadata": {
    "colab": {
     "base_uri": "https://localhost:8080/"
    },
    "id": "ijMMCOmJRcEv",
    "outputId": "eab38d00-dd63-4d59-afab-672a07fbe88d"
   },
   "outputs": [
    {
     "name": "stdout",
     "output_type": "stream",
     "text": [
      "Starting Digit: 0\n",
      "\tStarting lambda: 0.01\n",
      "\t\tAccuracy: [1. 1. 1. 1. 1.]\n",
      "\tStarting lambda: 0.023865897868585808\n",
      "\t\tAccuracy: [1. 1. 1. 1. 1.]\n",
      "\tStarting lambda: 0.056958108107376865\n",
      "\t\tAccuracy: [1. 1. 1. 1. 1.]\n",
      "\tStarting lambda: 0.13593563908785256\n",
      "\t\tAccuracy: [1. 1. 1. 1. 1.]\n",
      "\tStarting lambda: 0.324422607917163\n",
      "\t\tAccuracy: [1. 1. 1. 1. 1.]\n",
      "\tStarting lambda: 0.774263682681127\n",
      "\t\tAccuracy: [1. 1. 1. 1. 1.]\n",
      "\tStarting lambda: 1.8478497974222907\n",
      "\t\tAccuracy: [1. 1. 1. 1. 1.]\n",
      "\tStarting lambda: 4.410059454176737\n",
      "\t\tAccuracy: [1. 1. 1. 1. 1.]\n",
      "\tStarting lambda: 10.525002852777327\n",
      "\t\tAccuracy: [0.99652778 0.99652778 0.99303136 1.         1.        ]\n",
      "\tStarting lambda: 25.118864315095795\n",
      "\t\tAccuracy: [1. 1. 1. 1. 1.]\n",
      "Starting Digit: 1\n",
      "\tStarting lambda: 0.01\n",
      "\t\tAccuracy: [0.91319444 0.91319444 0.90592334 0.8815331  0.87804878]\n",
      "\tStarting lambda: 0.023865897868585808\n",
      "\t\tAccuracy: [0.90972222 0.91319444 0.8815331  0.89547038 0.89198606]\n",
      "\tStarting lambda: 0.056958108107376865\n",
      "\t\tAccuracy: [0.90277778 0.88888889 0.88501742 0.91986063 0.89547038]\n",
      "\tStarting lambda: 0.13593563908785256\n",
      "\t\tAccuracy: [0.90625    0.89930556 0.90940767 0.87456446 0.90243902]\n",
      "\tStarting lambda: 0.324422607917163\n",
      "\t\tAccuracy: [0.90972222 0.91666667 0.90243902 0.8815331  0.8815331 ]\n",
      "\tStarting lambda: 0.774263682681127\n",
      "\t\tAccuracy: [0.87847222 0.88888889 0.91637631 0.91637631 0.89198606]\n",
      "\tStarting lambda: 1.8478497974222907\n",
      "\t\tAccuracy: [0.80902778 0.92708333 0.92682927 0.91637631 0.91289199]\n",
      "\tStarting lambda: 4.410059454176737\n",
      "\t\tAccuracy: [0.90277778 0.87847222 0.90940767 0.87804878 0.92334495]\n",
      "\tStarting lambda: 10.525002852777327\n",
      "\t\tAccuracy: [0.85416667 0.875      0.93031359 0.90243902 0.93031359]\n",
      "\tStarting lambda: 25.118864315095795\n",
      "\t\tAccuracy: [0.90277778 0.89236111 0.91986063 0.90243902 0.87456446]\n",
      "Starting Digit: 2\n",
      "\tStarting lambda: 0.01\n",
      "\t\tAccuracy: [1. 1. 1. 1. 1.]\n",
      "\tStarting lambda: 0.023865897868585808\n",
      "\t\tAccuracy: [1. 1. 1. 1. 1.]\n",
      "\tStarting lambda: 0.056958108107376865\n",
      "\t\tAccuracy: [1. 1. 1. 1. 1.]\n",
      "\tStarting lambda: 0.13593563908785256\n",
      "\t\tAccuracy: [1. 1. 1. 1. 1.]\n",
      "\tStarting lambda: 0.324422607917163\n",
      "\t\tAccuracy: [1. 1. 1. 1. 1.]\n",
      "\tStarting lambda: 0.774263682681127\n",
      "\t\tAccuracy: [1. 1. 1. 1. 1.]\n",
      "\tStarting lambda: 1.8478497974222907\n",
      "\t\tAccuracy: [1. 1. 1. 1. 1.]\n",
      "\tStarting lambda: 4.410059454176737\n",
      "\t\tAccuracy: [1. 1. 1. 1. 1.]\n",
      "\tStarting lambda: 10.525002852777327\n",
      "\t\tAccuracy: [1. 1. 1. 1. 1.]\n",
      "\tStarting lambda: 25.118864315095795\n",
      "\t\tAccuracy: [1. 1. 1. 1. 1.]\n",
      "Starting Digit: 3\n",
      "\tStarting lambda: 0.01\n",
      "\t\tAccuracy: [1. 1. 1. 1. 1.]\n",
      "\tStarting lambda: 0.023865897868585808\n",
      "\t\tAccuracy: [1. 1. 1. 1. 1.]\n",
      "\tStarting lambda: 0.056958108107376865\n",
      "\t\tAccuracy: [1. 1. 1. 1. 1.]\n",
      "\tStarting lambda: 0.13593563908785256\n",
      "\t\tAccuracy: [1. 1. 1. 1. 1.]\n",
      "\tStarting lambda: 0.324422607917163\n",
      "\t\tAccuracy: [1. 1. 1. 1. 1.]\n",
      "\tStarting lambda: 0.774263682681127\n",
      "\t\tAccuracy: [1. 1. 1. 1. 1.]\n",
      "\tStarting lambda: 1.8478497974222907\n",
      "\t\tAccuracy: [1. 1. 1. 1. 1.]\n",
      "\tStarting lambda: 4.410059454176737\n",
      "\t\tAccuracy: [1. 1. 1. 1. 1.]\n",
      "\tStarting lambda: 10.525002852777327\n",
      "\t\tAccuracy: [1. 1. 1. 1. 1.]\n",
      "\tStarting lambda: 25.118864315095795\n",
      "\t\tAccuracy: [1. 1. 1. 1. 1.]\n",
      "Starting Digit: 4\n",
      "\tStarting lambda: 0.01\n",
      "\t\tAccuracy: [1. 1. 1. 1. 1.]\n",
      "\tStarting lambda: 0.023865897868585808\n",
      "\t\tAccuracy: [1. 1. 1. 1. 1.]\n",
      "\tStarting lambda: 0.056958108107376865\n",
      "\t\tAccuracy: [1. 1. 1. 1. 1.]\n",
      "\tStarting lambda: 0.13593563908785256\n",
      "\t\tAccuracy: [1. 1. 1. 1. 1.]\n",
      "\tStarting lambda: 0.324422607917163\n",
      "\t\tAccuracy: [1. 1. 1. 1. 1.]\n",
      "\tStarting lambda: 0.774263682681127\n",
      "\t\tAccuracy: [1. 1. 1. 1. 1.]\n",
      "\tStarting lambda: 1.8478497974222907\n",
      "\t\tAccuracy: [1. 1. 1. 1. 1.]\n",
      "\tStarting lambda: 4.410059454176737\n",
      "\t\tAccuracy: [1. 1. 1. 1. 1.]\n",
      "\tStarting lambda: 10.525002852777327\n",
      "\t\tAccuracy: [1.         1.         0.99303136 0.99651568 1.        ]\n",
      "\tStarting lambda: 25.118864315095795\n",
      "\t\tAccuracy: [1. 1. 1. 1. 1.]\n",
      "Starting Digit: 5\n",
      "\tStarting lambda: 0.01\n",
      "\t\tAccuracy: [1. 1. 1. 1. 1.]\n",
      "\tStarting lambda: 0.023865897868585808\n",
      "\t\tAccuracy: [1. 1. 1. 1. 1.]\n",
      "\tStarting lambda: 0.056958108107376865\n",
      "\t\tAccuracy: [1. 1. 1. 1. 1.]\n",
      "\tStarting lambda: 0.13593563908785256\n",
      "\t\tAccuracy: [1. 1. 1. 1. 1.]\n",
      "\tStarting lambda: 0.324422607917163\n",
      "\t\tAccuracy: [1. 1. 1. 1. 1.]\n",
      "\tStarting lambda: 0.774263682681127\n",
      "\t\tAccuracy: [1. 1. 1. 1. 1.]\n",
      "\tStarting lambda: 1.8478497974222907\n",
      "\t\tAccuracy: [1. 1. 1. 1. 1.]\n",
      "\tStarting lambda: 4.410059454176737\n",
      "\t\tAccuracy: [1. 1. 1. 1. 1.]\n",
      "\tStarting lambda: 10.525002852777327\n",
      "\t\tAccuracy: [1. 1. 1. 1. 1.]\n",
      "\tStarting lambda: 25.118864315095795\n",
      "\t\tAccuracy: [1. 1. 1. 1. 1.]\n",
      "Starting Digit: 6\n",
      "\tStarting lambda: 0.01\n",
      "\t\tAccuracy: [1. 1. 1. 1. 1.]\n",
      "\tStarting lambda: 0.023865897868585808\n",
      "\t\tAccuracy: [1. 1. 1. 1. 1.]\n",
      "\tStarting lambda: 0.056958108107376865\n",
      "\t\tAccuracy: [1. 1. 1. 1. 1.]\n",
      "\tStarting lambda: 0.13593563908785256\n",
      "\t\tAccuracy: [1. 1. 1. 1. 1.]\n",
      "\tStarting lambda: 0.324422607917163\n",
      "\t\tAccuracy: [1. 1. 1. 1. 1.]\n",
      "\tStarting lambda: 0.774263682681127\n",
      "\t\tAccuracy: [1. 1. 1. 1. 1.]\n",
      "\tStarting lambda: 1.8478497974222907\n",
      "\t\tAccuracy: [1. 1. 1. 1. 1.]\n",
      "\tStarting lambda: 4.410059454176737\n",
      "\t\tAccuracy: [1. 1. 1. 1. 1.]\n",
      "\tStarting lambda: 10.525002852777327\n",
      "\t\tAccuracy: [1.         0.98958333 0.98954704 0.99303136 0.99651568]\n",
      "\tStarting lambda: 25.118864315095795\n",
      "\t\tAccuracy: [1. 1. 1. 1. 1.]\n",
      "Starting Digit: 7\n",
      "\tStarting lambda: 0.01\n",
      "\t\tAccuracy: [1. 1. 1. 1. 1.]\n",
      "\tStarting lambda: 0.023865897868585808\n",
      "\t\tAccuracy: [1. 1. 1. 1. 1.]\n",
      "\tStarting lambda: 0.056958108107376865\n",
      "\t\tAccuracy: [1. 1. 1. 1. 1.]\n",
      "\tStarting lambda: 0.13593563908785256\n",
      "\t\tAccuracy: [1. 1. 1. 1. 1.]\n",
      "\tStarting lambda: 0.324422607917163\n",
      "\t\tAccuracy: [1. 1. 1. 1. 1.]\n",
      "\tStarting lambda: 0.774263682681127\n",
      "\t\tAccuracy: [1. 1. 1. 1. 1.]\n",
      "\tStarting lambda: 1.8478497974222907\n",
      "\t\tAccuracy: [1. 1. 1. 1. 1.]\n",
      "\tStarting lambda: 4.410059454176737\n",
      "\t\tAccuracy: [1. 1. 1. 1. 1.]\n",
      "\tStarting lambda: 10.525002852777327\n",
      "\t\tAccuracy: [1.         1.         1.         0.99651568 1.        ]\n",
      "\tStarting lambda: 25.118864315095795\n",
      "\t\tAccuracy: [1.         0.98958333 1.         1.         1.        ]\n",
      "Starting Digit: 8\n",
      "\tStarting lambda: 0.01\n",
      "\t\tAccuracy: [1. 1. 1. 1. 1.]\n",
      "\tStarting lambda: 0.023865897868585808\n",
      "\t\tAccuracy: [1. 1. 1. 1. 1.]\n",
      "\tStarting lambda: 0.056958108107376865\n",
      "\t\tAccuracy: [1. 1. 1. 1. 1.]\n",
      "\tStarting lambda: 0.13593563908785256\n",
      "\t\tAccuracy: [1. 1. 1. 1. 1.]\n",
      "\tStarting lambda: 0.324422607917163\n",
      "\t\tAccuracy: [1. 1. 1. 1. 1.]\n",
      "\tStarting lambda: 0.774263682681127\n",
      "\t\tAccuracy: [1. 1. 1. 1. 1.]\n",
      "\tStarting lambda: 1.8478497974222907\n",
      "\t\tAccuracy: [1. 1. 1. 1. 1.]\n",
      "\tStarting lambda: 4.410059454176737\n",
      "\t\tAccuracy: [1. 1. 1. 1. 1.]\n",
      "\tStarting lambda: 10.525002852777327\n",
      "\t\tAccuracy: [1. 1. 1. 1. 1.]\n",
      "\tStarting lambda: 25.118864315095795\n",
      "\t\tAccuracy: [1. 1. 1. 1. 1.]\n",
      "Starting Digit: 9\n",
      "\tStarting lambda: 0.01\n",
      "\t\tAccuracy: [1. 1. 1. 1. 1.]\n",
      "\tStarting lambda: 0.023865897868585808\n",
      "\t\tAccuracy: [1. 1. 1. 1. 1.]\n",
      "\tStarting lambda: 0.056958108107376865\n",
      "\t\tAccuracy: [1. 1. 1. 1. 1.]\n",
      "\tStarting lambda: 0.13593563908785256\n",
      "\t\tAccuracy: [1. 1. 1. 1. 1.]\n",
      "\tStarting lambda: 0.324422607917163\n",
      "\t\tAccuracy: [1. 1. 1. 1. 1.]\n",
      "\tStarting lambda: 0.774263682681127\n",
      "\t\tAccuracy: [1. 1. 1. 1. 1.]\n",
      "\tStarting lambda: 1.8478497974222907\n",
      "\t\tAccuracy: [1. 1. 1. 1. 1.]\n",
      "\tStarting lambda: 4.410059454176737\n",
      "\t\tAccuracy: [1. 1. 1. 1. 1.]\n",
      "\tStarting lambda: 10.525002852777327\n",
      "\t\tAccuracy: [1. 1. 1. 1. 1.]\n",
      "\tStarting lambda: 25.118864315095795\n",
      "\t\tAccuracy: [1. 1. 1. 1. 1.]\n"
     ]
    }
   ],
   "source": [
    "lambda_vals = np.logspace(-2, 1.4, 10)\n",
    "\n",
    "digit_scores = []\n",
    "for digit, digit_info in digits_dataset_dict.items():\n",
    "    print(f\"Starting Digit: {digit}\")\n",
    "    scores = np.zeros((len(lambda_vals), N))\n",
    "\n",
    "    for i, lambda_val in enumerate(lambda_vals):\n",
    "        print(f\"\\tStarting lambda: {lambda_val}\")\n",
    "        for j, (train_index, test_index) in enumerate(kf.split(X)):\n",
    "\n",
    "            X_digit_train, X_digit_test = X[train_index], X[test_index]\n",
    "            y_digit_train, y_digit_test = digit_info['y'][train_index], digit_info['y'][test_index]\n",
    "\n",
    "            # Train the model using the current lambda value\n",
    "            model = PolySVM(lambda_val, X_digit_train, y_digit_train, B, P)\n",
    "            alphas, objs = model.train()\n",
    "\n",
    "            # Predict using the validation test data\n",
    "            y_preds = model.predict(X_digit_test)\n",
    "            y_d = np.where(y_digit_test == digit, 1, -1)\n",
    "\n",
    "            # Generate the accuracy score, and add to an array\n",
    "            scores[i, j] = acc(y_d, y_preds)\n",
    "        print(f'\\t\\tAccuracy: {scores[i, :]}')\n",
    "    \n",
    "    digit_scores.append(scores)\n",
    "\n",
    "digit_scores = np.array(digit_scores)"
   ]
  },
  {
   "cell_type": "code",
   "execution_count": 16,
   "id": "signal-october",
   "metadata": {
    "id": "0K0cYWjarn6D"
   },
   "outputs": [],
   "source": [
    "for i, digit_score in enumerate(digit_scores):\n",
    "    lambda_scores = digit_score.mean(axis=1) # Average score from the N-fold values\n",
    "    digits_dataset_dict[i]['lambda_opt'] = lambda_vals[np.argmax(lambda_scores)] #Best average"
   ]
  },
  {
   "cell_type": "markdown",
   "id": "guilty-hometown",
   "metadata": {
    "id": "wuyk9u7f4Bx9"
   },
   "source": [
    "Following is the optimal $\\lambda$ for each of the *one vs rest* classifiers"
   ]
  },
  {
   "cell_type": "code",
   "execution_count": 17,
   "id": "gentle-shanghai",
   "metadata": {
    "colab": {
     "base_uri": "https://localhost:8080/"
    },
    "id": "jqcHPFzRuCNR",
    "outputId": "7d1ba5aa-34c0-4d21-9b5d-939fb3a1170b"
   },
   "outputs": [
    {
     "name": "stdout",
     "output_type": "stream",
     "text": [
      "Digit 0 has optimal lambda = 0.010\n",
      "Digit 1 has optimal lambda = 10.525\n",
      "Digit 2 has optimal lambda = 0.010\n",
      "Digit 3 has optimal lambda = 0.010\n",
      "Digit 4 has optimal lambda = 0.010\n",
      "Digit 5 has optimal lambda = 0.010\n",
      "Digit 6 has optimal lambda = 0.010\n",
      "Digit 7 has optimal lambda = 0.010\n",
      "Digit 8 has optimal lambda = 0.010\n",
      "Digit 9 has optimal lambda = 0.010\n"
     ]
    }
   ],
   "source": [
    "for digit, digit_info in digits_dataset_dict.items():\n",
    "    print(f'Digit {digit} has optimal lambda = {digit_info[\"lambda_opt\"]:.3f}')"
   ]
  },
  {
   "cell_type": "markdown",
   "id": "individual-agent",
   "metadata": {
    "id": "NgonC4Ac4LI0"
   },
   "source": [
    "We now re-train each of the classifers using the optimal $\\lambda$ value found"
   ]
  },
  {
   "cell_type": "code",
   "execution_count": 18,
   "id": "partial-burden",
   "metadata": {
    "colab": {
     "base_uri": "https://localhost:8080/"
    },
    "id": "BAvSFXbmKGn3",
    "outputId": "62738b61-4d0b-4853-8f4f-50adbc83c72d"
   },
   "outputs": [
    {
     "name": "stdout",
     "output_type": "stream",
     "text": [
      "Digit 0 classifier has accuracy: 0.900\n",
      "Digit 1 classifier has accuracy: 0.900\n",
      "Digit 2 classifier has accuracy: 0.903\n",
      "Digit 3 classifier has accuracy: 0.897\n",
      "Digit 4 classifier has accuracy: 0.900\n",
      "Digit 5 classifier has accuracy: 0.897\n",
      "Digit 6 classifier has accuracy: 0.900\n",
      "Digit 7 classifier has accuracy: 0.900\n",
      "Digit 8 classifier has accuracy: 0.903\n",
      "Digit 9 classifier has accuracy: 0.900\n"
     ]
    }
   ],
   "source": [
    "digit_classifier_acc = []\n",
    "\n",
    "for digit, digit_info in digits_dataset_dict.items():\n",
    "    lambda_opt = digit_info['lambda_opt']\n",
    "    digit_info['model_opt'] = PolySVM(lambda_opt, X, digit_info['y'], B, P)\n",
    "    digit_info['iterates_opt'], digit_info['obj_opt'] = digit_info['model_opt'].train()\n",
    "\n",
    "    y_preds = digit_info['model_opt'].predict(X_test)\n",
    "    y_d = np.where(y_test == digit, 1, -1)\n",
    "\n",
    "    digit_acc = acc(y_d, y_preds)\n",
    "    digit_classifier_acc.append((digit, digit_acc))\n",
    "\n",
    "    print(f'Digit {digit} classifier has accuracy: {digit_acc:.3f}')"
   ]
  },
  {
   "cell_type": "markdown",
   "id": "respiratory-object",
   "metadata": {
    "id": "7ZJAMk7r4U7c"
   },
   "source": [
    "Out of all the 10 *one vs rest* classifiers, we find the one that has the highest accuracy and report the misclassification error for this particular classifier"
   ]
  },
  {
   "cell_type": "code",
   "execution_count": 19,
   "id": "weird-deadline",
   "metadata": {
    "id": "zznapE7BNBMI"
   },
   "outputs": [],
   "source": [
    "best_digit_classifier, best_digit_acc = max(digit_classifier_acc, key = lambda x: x[1])"
   ]
  },
  {
   "cell_type": "code",
   "execution_count": 20,
   "id": "educated-improvement",
   "metadata": {
    "colab": {
     "base_uri": "https://localhost:8080/"
    },
    "id": "7BwU6rwWNhZH",
    "outputId": "f8be7ace-a191-441c-fed5-fef3fdfe3259"
   },
   "outputs": [
    {
     "name": "stdout",
     "output_type": "stream",
     "text": [
      "Best classifier is: 2 having mis-classification error of: 0.10\n"
     ]
    }
   ],
   "source": [
    "print(f'Best classifier is: {best_digit_classifier} having mis-classification error of: {1-best_digit_acc:.2f}')"
   ]
  },
  {
   "cell_type": "markdown",
   "id": "incoming-maine",
   "metadata": {
    "id": "JJo5YfHA4nuT"
   },
   "source": [
    "## Performance of Kernel functions\n",
    "\n",
    "We test out various choices for some of the parameters and report the accuracy for each model that we train"
   ]
  },
  {
   "cell_type": "code",
   "execution_count": 21,
   "id": "sharing-ability",
   "metadata": {
    "id": "2bMOu5ioVh4u"
   },
   "outputs": [],
   "source": [
    "y_train_best_digit = digits_dataset_dict[best_digit_classifier]['y']\n",
    "y_test_best_digit = np.where(y_test == best_digit_classifier, 1, -1)"
   ]
  },
  {
   "cell_type": "code",
   "execution_count": 22,
   "id": "adequate-helping",
   "metadata": {
    "id": "s1mgK6zWWPHT"
   },
   "outputs": [],
   "source": [
    "def get_model_accuracy(model, y_test):\n",
    "    model.train()\n",
    "    y_preds = model.predict(X_test)\n",
    "    accuracy = acc(y_test, y_preds)\n",
    "\n",
    "    return accuracy"
   ]
  },
  {
   "cell_type": "markdown",
   "id": "alien-glory",
   "metadata": {
    "id": "0qXH_Vv4W2Ab"
   },
   "source": [
    "Linear Model"
   ]
  },
  {
   "cell_type": "code",
   "execution_count": 23,
   "id": "attended-stomach",
   "metadata": {
    "colab": {
     "base_uri": "https://localhost:8080/"
    },
    "id": "MLwCAsewVbW-",
    "outputId": "84832fd5-c64a-48e9-b77d-b052c9c5bd34"
   },
   "outputs": [
    {
     "data": {
      "text/plain": [
       "0.9027777777777778"
      ]
     },
     "execution_count": 23,
     "metadata": {},
     "output_type": "execute_result"
    }
   ],
   "source": [
    "model = LinearSVM(LAMBDA, X, y_train_best_digit)\n",
    "get_model_accuracy(model, y_test_best_digit)"
   ]
  },
  {
   "cell_type": "markdown",
   "id": "gross-passing",
   "metadata": {
    "id": "F4dKSJeVW4km"
   },
   "source": [
    "Polynomial Models"
   ]
  },
  {
   "cell_type": "code",
   "execution_count": 24,
   "id": "other-excitement",
   "metadata": {
    "colab": {
     "base_uri": "https://localhost:8080/"
    },
    "id": "E1vE5jOjW-AN",
    "outputId": "fa5ffe7e-fda2-4213-aa99-0505455d4f2c"
   },
   "outputs": [
    {
     "name": "stdout",
     "output_type": "stream",
     "text": [
      "Polynomial Model: b=0, p=2 gets accuracy: 0.903\n",
      "Polynomial Model: b=1, p=2 gets accuracy: 0.969\n",
      "Polynomial Model: b=0, p=5 gets accuracy: 0.903\n",
      "Polynomial Model: b=1, p=5 gets accuracy: 0.903\n",
      "Polynomial Model: b=0, p=9 gets accuracy: 0.903\n",
      "Polynomial Model: b=1, p=9 gets accuracy: 0.903\n",
      "Polynomial Model: b=0, p=14 gets accuracy: 0.953\n",
      "Polynomial Model: b=1, p=14 gets accuracy: 0.903\n",
      "Polynomial Model: b=0, p=19 gets accuracy: 0.950\n",
      "Polynomial Model: b=1, p=19 gets accuracy: 0.903\n"
     ]
    }
   ],
   "source": [
    "poly_bias = [0, 1]\n",
    "poly_offsets = [2, 5, 9, 14, 19]\n",
    "\n",
    "for p in poly_offsets:\n",
    "    for b in poly_bias:\n",
    "        model = PolySVM(LAMBDA, X, y_train_best_digit, offset_=b, exponent_=p)\n",
    "        accuracy = get_model_accuracy(model, y_test_best_digit)\n",
    "        print(f'Polynomial Model: b={b}, p={p} gets accuracy: {accuracy:.3f}')"
   ]
  },
  {
   "cell_type": "markdown",
   "id": "royal-dialogue",
   "metadata": {
    "id": "6ds6p6RdwCix"
   },
   "source": [
    "Gaussian/RBF Models"
   ]
  },
  {
   "cell_type": "code",
   "execution_count": 25,
   "id": "unavailable-advertising",
   "metadata": {
    "colab": {
     "base_uri": "https://localhost:8080/"
    },
    "id": "blVAWWp6Uz3s",
    "outputId": "ad48af50-1767-4033-deac-046d4cc78380"
   },
   "outputs": [
    {
     "name": "stdout",
     "output_type": "stream",
     "text": [
      "Gaussian Model: gamma=1e-09 gets accuracy: 0.903\n",
      "Gaussian Model: gamma=1e-08 gets accuracy: 0.903\n",
      "Gaussian Model: gamma=1e-07 gets accuracy: 0.903\n",
      "Gaussian Model: gamma=1e-06 gets accuracy: 0.903\n",
      "Gaussian Model: gamma=1e-05 gets accuracy: 0.903\n",
      "Gaussian Model: gamma=0.0001 gets accuracy: 0.903\n",
      "Gaussian Model: gamma=0.001 gets accuracy: 0.903\n",
      "Gaussian Model: gamma=0.01 gets accuracy: 0.903\n",
      "Gaussian Model: gamma=0.1 gets accuracy: 0.903\n",
      "Gaussian Model: gamma=1 gets accuracy: 0.589\n",
      "Gaussian Model: gamma=100.0 gets accuracy: 0.889\n",
      "Gaussian Model: gamma=200.0 gets accuracy: 0.889\n"
     ]
    }
   ],
   "source": [
    "rbf_gammas = [1e-9, 1e-8, 1e-7, 1e-6, 1e-5, 1e-4, 1e-3, 1e-2, 1e-1, 1, 1e2, 2e2]\n",
    "\n",
    "for g in rbf_gammas:\n",
    "    model = GaussianSVM(LAMBDA, X, y_train_best_digit, gamma_=g)\n",
    "    accuracy = get_model_accuracy(model, y_test_best_digit)\n",
    "\n",
    "    print(f'Gaussian Model: gamma={g} gets accuracy: {accuracy:.3f}')"
   ]
  }
 ],
 "metadata": {
  "colab": {
   "collapsed_sections": [],
   "name": "HW7.ipynb",
   "provenance": []
  },
  "kernelspec": {
   "display_name": "Python 3",
   "language": "python",
   "name": "python3"
  },
  "language_info": {
   "codemirror_mode": {
    "name": "ipython",
    "version": 3
   },
   "file_extension": ".py",
   "mimetype": "text/x-python",
   "name": "python",
   "nbconvert_exporter": "python",
   "pygments_lexer": "ipython3",
   "version": "3.7.10"
  }
 },
 "nbformat": 4,
 "nbformat_minor": 5
}
